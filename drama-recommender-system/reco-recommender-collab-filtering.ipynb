{
 "cells": [
  {
   "cell_type": "markdown",
   "metadata": {},
   "source": [
    "# Drama Recommender Systems\n",
    "\n",
    "This is a continuation of the drama recommender systems that I had tried. Namely, I will be focusing on Collaborative filtering here. \n",
    "\n",
    "These were the recommenders that I have built:\n",
    "\n",
    "1. Simple recommenders\n",
    "2. Content-based recommender\n",
    "   - Plot-based recommender\n",
    "   - Main actors, genres and keywords recommender\n",
    "3. Collaborative filtering\n",
    "   - k-Nearest Neighbors\n",
    "   - Matrix factorization\n",
    " "
   ]
  },
  {
   "cell_type": "markdown",
   "metadata": {},
   "source": [
    "## 3. Collaborative Filtering\n",
    "\n",
    "### k-Nearest Neighbors\n",
    "\n",
    "The k-Nearest Neighbors algorithm works by finding its k closest neighbors based on a similarity metrix, such as the cosine similarity. \n",
    "\n",
    "The drama DataFrame is first converted into a m x n array, where m is the number of dramas and n is the number of users. Pivot is then used to reshape the DataFrame into a wide format with dramas as rows and users as columns. The missing observations are filled with 0."
   ]
  },
  {
   "cell_type": "code",
   "execution_count": 2,
   "metadata": {},
   "outputs": [
    {
     "data": {
      "text/html": [
       "<div>\n",
       "<style scoped>\n",
       "    .dataframe tbody tr th:only-of-type {\n",
       "        vertical-align: middle;\n",
       "    }\n",
       "\n",
       "    .dataframe tbody tr th {\n",
       "        vertical-align: top;\n",
       "    }\n",
       "\n",
       "    .dataframe thead th {\n",
       "        text-align: right;\n",
       "    }\n",
       "</style>\n",
       "<table border=\"1\" class=\"dataframe\">\n",
       "  <thead>\n",
       "    <tr style=\"text-align: right;\">\n",
       "      <th></th>\n",
       "      <th>drama_title</th>\n",
       "      <th>user_name</th>\n",
       "      <th>overall_rating</th>\n",
       "    </tr>\n",
       "  </thead>\n",
       "  <tbody>\n",
       "    <tr>\n",
       "      <td>0</td>\n",
       "      <td>Dear My Friends (2016)</td>\n",
       "      <td>iamgeralddd</td>\n",
       "      <td>10.0</td>\n",
       "    </tr>\n",
       "    <tr>\n",
       "      <td>1</td>\n",
       "      <td>Dear My Friends (2016)</td>\n",
       "      <td>Dounie</td>\n",
       "      <td>10.0</td>\n",
       "    </tr>\n",
       "    <tr>\n",
       "      <td>2</td>\n",
       "      <td>Dear My Friends (2016)</td>\n",
       "      <td>Pelin</td>\n",
       "      <td>10.0</td>\n",
       "    </tr>\n",
       "    <tr>\n",
       "      <td>3</td>\n",
       "      <td>Dear My Friends (2016)</td>\n",
       "      <td>silent_whispers</td>\n",
       "      <td>9.0</td>\n",
       "    </tr>\n",
       "    <tr>\n",
       "      <td>4</td>\n",
       "      <td>Dear My Friends (2016)</td>\n",
       "      <td>Dana</td>\n",
       "      <td>9.0</td>\n",
       "    </tr>\n",
       "  </tbody>\n",
       "</table>\n",
       "</div>"
      ],
      "text/plain": [
       "              drama_title        user_name  overall_rating\n",
       "0  Dear My Friends (2016)      iamgeralddd            10.0\n",
       "1  Dear My Friends (2016)           Dounie            10.0\n",
       "2  Dear My Friends (2016)            Pelin            10.0\n",
       "3  Dear My Friends (2016)  silent_whispers             9.0\n",
       "4  Dear My Friends (2016)             Dana             9.0"
      ]
     },
     "execution_count": 2,
     "metadata": {},
     "output_type": "execute_result"
    }
   ],
   "source": [
    "import pandas as pd\n",
    "\n",
    "df = pd.read_csv('drama_reviews_cf.csv')\n",
    "df.head()"
   ]
  },
  {
   "cell_type": "code",
   "execution_count": 3,
   "metadata": {},
   "outputs": [
    {
     "data": {
      "text/html": [
       "<div>\n",
       "<style scoped>\n",
       "    .dataframe tbody tr th:only-of-type {\n",
       "        vertical-align: middle;\n",
       "    }\n",
       "\n",
       "    .dataframe tbody tr th {\n",
       "        vertical-align: top;\n",
       "    }\n",
       "\n",
       "    .dataframe thead th {\n",
       "        text-align: right;\n",
       "    }\n",
       "</style>\n",
       "<table border=\"1\" class=\"dataframe\">\n",
       "  <thead>\n",
       "    <tr style=\"text-align: right;\">\n",
       "      <th></th>\n",
       "      <th>drama_title</th>\n",
       "      <th>rating_count</th>\n",
       "    </tr>\n",
       "  </thead>\n",
       "  <tbody>\n",
       "    <tr>\n",
       "      <td>0</td>\n",
       "      <td>'Cause You're My Boy (2018)</td>\n",
       "      <td>24</td>\n",
       "    </tr>\n",
       "    <tr>\n",
       "      <td>1</td>\n",
       "      <td>0 Goshitsu no Kyaku (2009)</td>\n",
       "      <td>1</td>\n",
       "    </tr>\n",
       "    <tr>\n",
       "      <td>2</td>\n",
       "      <td>1 Litre no Namida (2005)</td>\n",
       "      <td>90</td>\n",
       "    </tr>\n",
       "    <tr>\n",
       "      <td>3</td>\n",
       "      <td>1 Pound no Fukuin (2008)</td>\n",
       "      <td>6</td>\n",
       "    </tr>\n",
       "    <tr>\n",
       "      <td>4</td>\n",
       "      <td>100 Days My Prince (2018)</td>\n",
       "      <td>24</td>\n",
       "    </tr>\n",
       "  </tbody>\n",
       "</table>\n",
       "</div>"
      ],
      "text/plain": [
       "                   drama_title  rating_count\n",
       "0  'Cause You're My Boy (2018)            24\n",
       "1   0 Goshitsu no Kyaku (2009)             1\n",
       "2     1 Litre no Namida (2005)            90\n",
       "3     1 Pound no Fukuin (2008)             6\n",
       "4    100 Days My Prince (2018)            24"
      ]
     },
     "execution_count": 3,
     "metadata": {},
     "output_type": "execute_result"
    }
   ],
   "source": [
    "# create a new DataFrame that has the drama title and its corresponding number of ratings \n",
    "rating_count = (df.\n",
    "     groupby(by = ['drama_title'])['overall_rating'].\n",
    "     count().\n",
    "     reset_index().\n",
    "     rename(columns = {'overall_rating': 'rating_count'})\n",
    "     [['drama_title', 'rating_count']]\n",
    "    )\n",
    "rating_count.head()"
   ]
  },
  {
   "cell_type": "code",
   "execution_count": 4,
   "metadata": {},
   "outputs": [
    {
     "data": {
      "text/html": [
       "<div>\n",
       "<style scoped>\n",
       "    .dataframe tbody tr th:only-of-type {\n",
       "        vertical-align: middle;\n",
       "    }\n",
       "\n",
       "    .dataframe tbody tr th {\n",
       "        vertical-align: top;\n",
       "    }\n",
       "\n",
       "    .dataframe thead th {\n",
       "        text-align: right;\n",
       "    }\n",
       "</style>\n",
       "<table border=\"1\" class=\"dataframe\">\n",
       "  <thead>\n",
       "    <tr style=\"text-align: right;\">\n",
       "      <th></th>\n",
       "      <th>drama_title</th>\n",
       "      <th>user_name</th>\n",
       "      <th>overall_rating</th>\n",
       "      <th>rating_count</th>\n",
       "    </tr>\n",
       "  </thead>\n",
       "  <tbody>\n",
       "    <tr>\n",
       "      <td>0</td>\n",
       "      <td>Dear My Friends (2016)</td>\n",
       "      <td>iamgeralddd</td>\n",
       "      <td>10.0</td>\n",
       "      <td>12</td>\n",
       "    </tr>\n",
       "    <tr>\n",
       "      <td>1</td>\n",
       "      <td>Dear My Friends (2016)</td>\n",
       "      <td>Dounie</td>\n",
       "      <td>10.0</td>\n",
       "      <td>12</td>\n",
       "    </tr>\n",
       "    <tr>\n",
       "      <td>2</td>\n",
       "      <td>Dear My Friends (2016)</td>\n",
       "      <td>Pelin</td>\n",
       "      <td>10.0</td>\n",
       "      <td>12</td>\n",
       "    </tr>\n",
       "    <tr>\n",
       "      <td>3</td>\n",
       "      <td>Dear My Friends (2016)</td>\n",
       "      <td>silent_whispers</td>\n",
       "      <td>9.0</td>\n",
       "      <td>12</td>\n",
       "    </tr>\n",
       "    <tr>\n",
       "      <td>4</td>\n",
       "      <td>Dear My Friends (2016)</td>\n",
       "      <td>Dana</td>\n",
       "      <td>9.0</td>\n",
       "      <td>12</td>\n",
       "    </tr>\n",
       "  </tbody>\n",
       "</table>\n",
       "</div>"
      ],
      "text/plain": [
       "              drama_title        user_name  overall_rating  rating_count\n",
       "0  Dear My Friends (2016)      iamgeralddd            10.0            12\n",
       "1  Dear My Friends (2016)           Dounie            10.0            12\n",
       "2  Dear My Friends (2016)            Pelin            10.0            12\n",
       "3  Dear My Friends (2016)  silent_whispers             9.0            12\n",
       "4  Dear My Friends (2016)             Dana             9.0            12"
      ]
     },
     "execution_count": 4,
     "metadata": {},
     "output_type": "execute_result"
    }
   ],
   "source": [
    "# merge new DataFrame with original DataFrame \n",
    "df_rating_count = df.merge(rating_count, left_on = 'drama_title', right_on = 'drama_title', how = 'left')\n",
    "df_rating_count.head()"
   ]
  },
  {
   "cell_type": "code",
   "execution_count": 5,
   "metadata": {},
   "outputs": [
    {
     "name": "stdout",
     "output_type": "stream",
     "text": [
      "count   20075.000\n",
      "mean       47.641\n",
      "std        55.052\n",
      "min         1.000\n",
      "25%         8.000\n",
      "50%        23.000\n",
      "75%        85.000\n",
      "max       231.000\n",
      "Name: rating_count, dtype: float64\n"
     ]
    }
   ],
   "source": [
    "# get the key metrices of number of rating count\n",
    "pd.set_option('display.float_format', lambda x: '%.3f' % x) \n",
    "print(df_rating_count['rating_count'].describe())"
   ]
  },
  {
   "cell_type": "code",
   "execution_count": 6,
   "metadata": {},
   "outputs": [
    {
     "data": {
      "text/html": [
       "<div>\n",
       "<style scoped>\n",
       "    .dataframe tbody tr th:only-of-type {\n",
       "        vertical-align: middle;\n",
       "    }\n",
       "\n",
       "    .dataframe tbody tr th {\n",
       "        vertical-align: top;\n",
       "    }\n",
       "\n",
       "    .dataframe thead th {\n",
       "        text-align: right;\n",
       "    }\n",
       "</style>\n",
       "<table border=\"1\" class=\"dataframe\">\n",
       "  <thead>\n",
       "    <tr style=\"text-align: right;\">\n",
       "      <th></th>\n",
       "      <th>drama_title</th>\n",
       "      <th>user_name</th>\n",
       "      <th>overall_rating</th>\n",
       "      <th>rating_count</th>\n",
       "    </tr>\n",
       "  </thead>\n",
       "  <tbody>\n",
       "    <tr>\n",
       "      <td>1247</td>\n",
       "      <td>The Untamed (2019)</td>\n",
       "      <td>Ai-chan</td>\n",
       "      <td>10.000</td>\n",
       "      <td>108</td>\n",
       "    </tr>\n",
       "    <tr>\n",
       "      <td>1248</td>\n",
       "      <td>The Untamed (2019)</td>\n",
       "      <td>angelVSdevil</td>\n",
       "      <td>10.000</td>\n",
       "      <td>108</td>\n",
       "    </tr>\n",
       "    <tr>\n",
       "      <td>1249</td>\n",
       "      <td>The Untamed (2019)</td>\n",
       "      <td>philll</td>\n",
       "      <td>10.000</td>\n",
       "      <td>108</td>\n",
       "    </tr>\n",
       "    <tr>\n",
       "      <td>1250</td>\n",
       "      <td>The Untamed (2019)</td>\n",
       "      <td>ChineseDramaFan</td>\n",
       "      <td>10.000</td>\n",
       "      <td>108</td>\n",
       "    </tr>\n",
       "    <tr>\n",
       "      <td>1251</td>\n",
       "      <td>The Untamed (2019)</td>\n",
       "      <td>AmyLovesDramas</td>\n",
       "      <td>9.500</td>\n",
       "      <td>108</td>\n",
       "    </tr>\n",
       "  </tbody>\n",
       "</table>\n",
       "</div>"
      ],
      "text/plain": [
       "             drama_title        user_name  overall_rating  rating_count\n",
       "1247  The Untamed (2019)          Ai-chan          10.000           108\n",
       "1248  The Untamed (2019)     angelVSdevil          10.000           108\n",
       "1249  The Untamed (2019)           philll          10.000           108\n",
       "1250  The Untamed (2019)  ChineseDramaFan          10.000           108\n",
       "1251  The Untamed (2019)   AmyLovesDramas           9.500           108"
      ]
     },
     "execution_count": 6,
     "metadata": {},
     "output_type": "execute_result"
    }
   ],
   "source": [
    "popularity_threshold = 23 # top 50% in number of reviews\n",
    "popular_drama = df_rating_count.query('rating_count >= @popularity_threshold') # dramas in top 50% based on no. of ratings \n",
    "popular_drama.head()"
   ]
  },
  {
   "cell_type": "code",
   "execution_count": 9,
   "metadata": {},
   "outputs": [
    {
     "data": {
      "text/plain": [
       "NearestNeighbors(algorithm='brute', leaf_size=30, metric='cosine',\n",
       "                 metric_params=None, n_jobs=None, n_neighbors=5, p=2,\n",
       "                 radius=1.0)"
      ]
     },
     "execution_count": 9,
     "metadata": {},
     "output_type": "execute_result"
    }
   ],
   "source": [
    "# create a sparse matrix of drama title and user name, with overall rating as the values\n",
    "from scipy.sparse import csr_matrix\n",
    "\n",
    "popular_drama_pivot = popular_drama.pivot(index = 'drama_title', columns = 'user_name', values = 'overall_rating').fillna(0)\n",
    "popular_drama_matrix = csr_matrix(popular_drama_pivot.values)\n",
    "\n",
    "from sklearn.neighbors import NearestNeighbors\n",
    "\n",
    "knn = NearestNeighbors(metric = 'cosine', algorithm = 'brute')\n",
    "knn.fit(popular_drama_matrix)"
   ]
  },
  {
   "cell_type": "code",
   "execution_count": 31,
   "metadata": {},
   "outputs": [
    {
     "name": "stdout",
     "output_type": "stream",
     "text": [
      "Recommendations for Story of Yanxi Palace (2018):\n",
      "\n",
      "1: The Story of Ming Lan (2018), with distance of 0.7376371435874067\n",
      "2: Search: WWW (2019), with distance of 0.8642142802384017\n",
      "3: Bloody Romance (2018), with distance of 0.8646716088864472\n",
      "4: 100 Days My Prince (2018), with distance of 0.868704193619679\n",
      "5: Ashes of Love (2018), with distance of 0.8721470193781997\n"
     ]
    }
   ],
   "source": [
    "query_index = 179\n",
    "distances, indices = knn.kneighbors(pd.DataFrame(popular_drama_pivot.iloc[query_index, :]).values.reshape(1, -1), n_neighbors = 6)\n",
    "\n",
    "# get the top 5 dramas that has the highest similarity\n",
    "for i in range(0, len(distances.flatten())):\n",
    "    if i == 0:\n",
    "        print('Recommendations for {0}:\\n'.format(popular_drama_pivot.index[query_index]))\n",
    "    else:\n",
    "        print('{0}: {1}, with distance of {2}'.format(i, popular_drama_pivot.index[indices.flatten()[i]], distances.flatten()[i]))"
   ]
  },
  {
   "cell_type": "code",
   "execution_count": 36,
   "metadata": {},
   "outputs": [
    {
     "name": "stdout",
     "output_type": "stream",
     "text": [
      "Recommendations for Love O2O (2016):\n",
      "\n",
      "1: Put Your Head on My Shoulder (2019), with distance of 0.8803582766261174\n",
      "2: A Love So Beautiful (2017), with distance of 0.8948562492439815\n",
      "3: W (2016), with distance of 0.9091192461559305\n",
      "4: Mad Dog (2017), with distance of 0.9095781438625755\n",
      "5: Another Miss Oh (2016), with distance of 0.9109215103470132\n"
     ]
    }
   ],
   "source": [
    "query_index = 111\n",
    "distances, indices = knn.kneighbors(pd.DataFrame(popular_drama_pivot.iloc[query_index, :]).values.reshape(1, -1), n_neighbors = 6)\n",
    "\n",
    "# get the top 5 dramas that has the highest similarity\n",
    "for i in range(0, len(distances.flatten())):\n",
    "    if i == 0:\n",
    "        print('Recommendations for {0}:\\n'.format(popular_drama_pivot.index[query_index]))\n",
    "    else:\n",
    "        print('{0}: {1}, with distance of {2}'.format(i, popular_drama_pivot.index[indices.flatten()[i]], distances.flatten()[i]))"
   ]
  },
  {
   "cell_type": "markdown",
   "metadata": {},
   "source": [
    "I do not quite agree with these recommendations. There are other dramas that are more similar in my opinion. One reason can be attributed to the shortage of data. I could only retrieve the user data given the reviews. However, there are many users that gave ratings without the reviews. This data is not accessible through web scraping.\n",
    "\n",
    "To increase the data pool slightly, I decided to use all dramas data instead of dramas that attain the 50% rating count threshold.\n",
    "\n",
    "#### All dramas inclusive"
   ]
  },
  {
   "cell_type": "code",
   "execution_count": 39,
   "metadata": {},
   "outputs": [
    {
     "data": {
      "text/plain": [
       "NearestNeighbors(algorithm='brute', leaf_size=30, metric='cosine',\n",
       "                 metric_params=None, n_jobs=None, n_neighbors=5, p=2,\n",
       "                 radius=1.0)"
      ]
     },
     "execution_count": 39,
     "metadata": {},
     "output_type": "execute_result"
    }
   ],
   "source": [
    "# create a sparse matrix of drama title and user name, with overall rating as the values\n",
    "from scipy.sparse import csr_matrix\n",
    "\n",
    "df_pivot = df.pivot(index = 'drama_title', columns = 'user_name', values = 'overall_rating').fillna(0)\n",
    "df_matrix = csr_matrix(df_pivot.values)\n",
    "\n",
    "# calculate consine similarity score between each drama\n",
    "from sklearn.neighbors import NearestNeighbors\n",
    "\n",
    "knn = NearestNeighbors(metric = 'cosine', algorithm = 'brute')\n",
    "knn.fit(df_matrix)"
   ]
  },
  {
   "cell_type": "code",
   "execution_count": 47,
   "metadata": {},
   "outputs": [
    {
     "name": "stdout",
     "output_type": "stream",
     "text": [
      "Recommendations for Story of Yanxi Palace (2018):\n",
      "\n",
      "1: The Legend of Hao Lan (2019), with distance of 0.6804742115494322:\n",
      "2: Our Glamorous Time (2018), with distance of 0.7359146481821208:\n",
      "3: The Story of Ming Lan (2018), with distance of 0.7376371435874067:\n",
      "4: Scarlet Heart 2 (2014), with distance of 0.7408084469827373:\n",
      "5: Nirvana in Fire 2: The Wind Blows in Chang Lin (2017), with distance of 0.7560108381816948:\n"
     ]
    }
   ],
   "source": [
    "query_index = 1853\n",
    "distances, indices = knn.kneighbors(pd.DataFrame(df_pivot.iloc[query_index, :]).values.reshape(1, -1), n_neighbors = 6)\n",
    "\n",
    "# get the top 5 dramas that has the highest similarity\n",
    "for i in range(0, len(distances.flatten())):\n",
    "    if i == 0:\n",
    "        print('Recommendations for {0}:\\n'.format(df_pivot.index[query_index]))\n",
    "    else:\n",
    "        print('{0}: {1}, with distance of {2}:'.format(i, df_pivot.index[indices.flatten()[i]], distances.flatten()[i]))"
   ]
  },
  {
   "cell_type": "code",
   "execution_count": 55,
   "metadata": {},
   "outputs": [
    {
     "name": "stdout",
     "output_type": "stream",
     "text": [
      "Recommendations for Love O2O (2016):\n",
      "\n",
      "1: Put Your Head on My Shoulder (2019), with distance of 0.8803582766261174:\n",
      "2: A Love So Beautiful (2017), with distance of 0.8948562492439815:\n",
      "3: The Demon Master (2018), with distance of 0.8963664762836093:\n",
      "4: U-Prince The Series: The Absolute Economist (2016), with distance of 0.907740008516381:\n",
      "5: Looking For Dorothy (2006), with distance of 0.907740008516381:\n"
     ]
    }
   ],
   "source": [
    "query_index = 1117\n",
    "distances, indices = knn.kneighbors(pd.DataFrame(df_pivot.iloc[query_index, :]).values.reshape(1, -1), n_neighbors = 6)\n",
    "\n",
    "# get the top 5 dramas that has the highest similarity\n",
    "for i in range(0, len(distances.flatten())):\n",
    "    if i == 0:\n",
    "        print('Recommendations for {0}:\\n'.format(df_pivot.index[query_index]))\n",
    "    else:\n",
    "        print('{0}: {1}, with distance of {2}:'.format(i, df_pivot.index[indices.flatten()[i]], distances.flatten()[i]))"
   ]
  },
  {
   "cell_type": "markdown",
   "metadata": {},
   "source": [
    "The results have been improved for Story of Yanxi Palace (2018) recommendations.  The Legend of Hao Lan (2019) is closely similar to Yanxi Palace due to the setting (historical + romance + scheming palace drama). Moreover, the lead actor and actress is the same in both dramas. The popularity of Yanxi Palace could have sparked high reviews for Hao Lan too."
   ]
  },
  {
   "cell_type": "markdown",
   "metadata": {},
   "source": [
    "### Matrix Factorization\n",
    "\n",
    "Matrix Factorization is a technique that decomposes the user-item interaction matrix into the product of two lower dimensionality rectangular matrices (Wikipedia). The Pearson’s R correlation coefficient for every drama pair is calculated and input into a matrix. We then pick the dramas that have high correlation coefficient values (between 0.9 and 1.0).\n",
    "\n",
    "The drama DataFrame is first converted into a pivot table with users as rows and dramas as columns. Empty observations are filled with 0."
   ]
  },
  {
   "cell_type": "code",
   "execution_count": 73,
   "metadata": {},
   "outputs": [
    {
     "data": {
      "text/plain": [
       "(6918, 2382)"
      ]
     },
     "execution_count": 73,
     "metadata": {},
     "output_type": "execute_result"
    }
   ],
   "source": [
    "df_pivot_2 = df.pivot(index = 'user_name', columns = 'drama_title', values = 'overall_rating').fillna(0)\n",
    "df_pivot_2.shape"
   ]
  },
  {
   "cell_type": "code",
   "execution_count": 74,
   "metadata": {},
   "outputs": [],
   "source": [
    "X = df_pivot_2.values.T"
   ]
  },
  {
   "cell_type": "markdown",
   "metadata": {},
   "source": [
    "We then reduced the dimensionality of matrix using Singular Value Decomposition. "
   ]
  },
  {
   "cell_type": "code",
   "execution_count": 61,
   "metadata": {},
   "outputs": [
    {
     "data": {
      "text/plain": [
       "(2382, 12)"
      ]
     },
     "execution_count": 61,
     "metadata": {},
     "output_type": "execute_result"
    }
   ],
   "source": [
    "import sklearn\n",
    "from sklearn.decomposition import TruncatedSVD\n",
    "\n",
    "SVD = TruncatedSVD(n_components=12, random_state=17)\n",
    "matrix = SVD.fit_transform(X)\n",
    "matrix.shape"
   ]
  },
  {
   "cell_type": "markdown",
   "metadata": {},
   "source": [
    "As we can see, the TruncatedSVD has reduced the dimensions significantly from 6918x2382 to 2382x12."
   ]
  },
  {
   "cell_type": "code",
   "execution_count": 62,
   "metadata": {},
   "outputs": [
    {
     "data": {
      "text/plain": [
       "(2382, 2382)"
      ]
     },
     "execution_count": 62,
     "metadata": {},
     "output_type": "execute_result"
    }
   ],
   "source": [
    "import warnings\n",
    "warnings.filterwarnings(\"ignore\",category =RuntimeWarning)\n",
    "corr = np.corrcoef(matrix)\n",
    "corr.shape"
   ]
  },
  {
   "cell_type": "code",
   "execution_count": 70,
   "metadata": {},
   "outputs": [],
   "source": [
    "drama_title = df_pivot_2.columns\n",
    "drama_list = list(drama_title)"
   ]
  },
  {
   "cell_type": "code",
   "execution_count": 69,
   "metadata": {},
   "outputs": [
    {
     "data": {
      "text/plain": [
       "['Doctor Prisoner (2019)',\n",
       " 'Secrets of Three Kingdoms (2018)',\n",
       " 'Story of Yanxi Palace (2018)']"
      ]
     },
     "execution_count": 69,
     "metadata": {},
     "output_type": "execute_result"
    }
   ],
   "source": [
    "# get list of dramas that have high correlation coefficient scores\n",
    "untamed = drama_list.index(\"Story of Yanxi Palace (2018)\")\n",
    "corr_untamed  = corr[untamed]\n",
    "list(drama_title[(corr_untamed >= 0.9)])"
   ]
  },
  {
   "cell_type": "code",
   "execution_count": 75,
   "metadata": {},
   "outputs": [
    {
     "data": {
      "text/plain": [
       "[\"Angel 'N' Devil (2014)\",\n",
       " 'Late Night Hospital (2011)',\n",
       " 'Looking For Dorothy (2006)',\n",
       " 'Love O2O (2016)',\n",
       " 'Proud of Love (2016)',\n",
       " 'U-Prince The Series: The Absolute Economist (2016)',\n",
       " 'Yasuko to Kenji (2008)',\n",
       " 'Youth (2018)']"
      ]
     },
     "execution_count": 75,
     "metadata": {},
     "output_type": "execute_result"
    }
   ],
   "source": [
    "# get list of dramas that have high correlation coefficient scores\n",
    "loveo2o = drama_list.index(\"Love O2O (2016)\")\n",
    "corr_loveo2o  = corr[loveo2o]\n",
    "list(drama_title[(corr_loveo2o >= 0.9)])"
   ]
  },
  {
   "cell_type": "markdown",
   "metadata": {},
   "source": [
    "Though other users have rated their recommendations as similar to the searched drama, I am not too sure about it having not watched these recommendations before. \n",
    "\n",
    "Meanwhile, besides the explicit interaction such as ratings that I have used, other important information could be included to improve the results. These implicit user interaction includes:\n",
    "\n",
    "- Browsed dramas (whether users read the drama reviews/ratings)\n",
    "- Favourite actors (which actors/actresses do the users like)\n",
    "- Watching status (whether users have finished/stopped watching the drama they had started)\n",
    "\n",
    "These factors can be assigned different weights, depending on its importance. For example, if the user has browsed a related drama and subsequently rated this drama highly, it reinforces the view that this new drama is closely related to the initial drama.\n",
    "\n",
    "## Conculsion\n",
    "\n",
    "It is interesting to find out that the results given by collaborative filtering proves to be different from those of content-based recommender systems. While it may look good on paper (e.g. drama synopsis), the quality of dramas is still dependent on other factors such as actors, music and editing. This is especially the case with remakes or serial dramas. While the first series may be overwhelmingly popular, its remakes/serial may prove otherwise. No wonder collaborative filtering is such as important tool today, and the organizations with such personal data is able to triumph in today's competitive markets."
   ]
  },
  {
   "cell_type": "markdown",
   "metadata": {},
   "source": [
    "Source: https://datascienceplus.com/building-a-book-recommender-system-the-basics-knn-and-matrix-factorization/"
   ]
  }
 ],
 "metadata": {
  "kernelspec": {
   "display_name": "Python 3",
   "language": "python",
   "name": "python3"
  },
  "language_info": {
   "codemirror_mode": {
    "name": "ipython",
    "version": 3
   },
   "file_extension": ".py",
   "mimetype": "text/x-python",
   "name": "python",
   "nbconvert_exporter": "python",
   "pygments_lexer": "ipython3",
   "version": "3.7.4"
  }
 },
 "nbformat": 4,
 "nbformat_minor": 2
}
