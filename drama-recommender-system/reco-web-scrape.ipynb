{
 "cells": [
  {
   "cell_type": "markdown",
   "metadata": {},
   "source": [
    "# Drama Recommendations\n",
    "\n",
    "Building on top of the drama reviews project that I did earlier, I wanted to build a drama recommender system. There are several approaches to it, even using deep learning. Thus, I wanted to explore these areas:\n",
    "\n",
    "1. Web scrape the drama information \n",
    "2. Combine the scraped data\n",
    "3. Brief exploration of the dramas\n",
    "4. Build several recommender systems using machine learning\n",
    "5. Try a recommender system using deep learning\n",
    "\n",
    "This notebook is the first of a 5 part series that I have completed."
   ]
  },
  {
   "cell_type": "markdown",
   "metadata": {},
   "source": [
    "# Web Scrape Drama List\n",
    "\n",
    "Task: Web scrape the dramas from 'https://mydramalist.com/shows/top' so that the reviews can be used for analysis in subsequent notebooks. \n",
    "\n",
    "Information to get include:\n",
    "1. Drama title\n",
    "2. Year released\n",
    "3. Main actors\n",
    "4. Genres\n",
    "5. Tags"
   ]
  },
  {
   "cell_type": "markdown",
   "metadata": {},
   "source": [
    "## 1. Import libraries"
   ]
  },
  {
   "cell_type": "code",
   "execution_count": 1,
   "metadata": {
    "scrolled": true
   },
   "outputs": [],
   "source": [
    "from bs4 import BeautifulSoup\n",
    "import requests\n",
    "import re\n",
    "import pandas as pd\n",
    "import itertools"
   ]
  },
  {
   "cell_type": "markdown",
   "metadata": {},
   "source": [
    "## 2. Use BeautifulSoup to parse html\n",
    "\n",
    "There were thousands of dramas listed over several pages. To access each drama, I need its url. Thus, I\n",
    "\n",
    "1. Access the website 'https://mydramalist.com/shows/top' and identify the last page\n",
    "2. Read each page to get the drama titles listed on that page\n",
    "3. Create the drama urls, and access each drama website"
   ]
  },
  {
   "cell_type": "code",
   "execution_count": 2,
   "metadata": {
    "scrolled": true
   },
   "outputs": [
    {
     "data": {
      "text/plain": [
       "627"
      ]
     },
     "execution_count": 2,
     "metadata": {},
     "output_type": "execute_result"
    }
   ],
   "source": [
    "shows_url = 'https://mydramalist.com/shows/top'\n",
    "resp = requests.get(shows_url)\n",
    "soup = BeautifulSoup(resp.text)\n",
    "# print(soup.prettify())\n",
    "\n",
    "pages = soup.find_all('a',{'class':'page-link'})\n",
    "last_page = int(pages[-1].get('href')[16:]) # get the page number of the last page - all pages will be scraped\n",
    "last_page"
   ]
  },
  {
   "cell_type": "code",
   "execution_count": 3,
   "metadata": {
    "scrolled": false
   },
   "outputs": [],
   "source": [
    "pages_url = [\"{}?page={}\".format(shows_url, str(page)) for page in range(1, last_page + 1)] # list of pages url\n",
    "big_list_title = []\n",
    "for page in pages_url[530:]:\n",
    "    resp = requests.get(page)\n",
    "    soup = BeautifulSoup(resp.text)\n",
    "    titles = soup.find_all('a',{'class':'block'}) # get list of drama titles\n",
    "    list_title = []\n",
    "    for title in titles:\n",
    "        list_title.append(title.get('href')) # get href of drama titles\n",
    "    big_list_title.append(list_title)\n",
    "\n",
    "big_list_title = list(itertools.chain.from_iterable(big_list_title))\n",
    "# print(big_list_title)"
   ]
  },
  {
   "cell_type": "code",
   "execution_count": 4,
   "metadata": {
    "scrolled": true
   },
   "outputs": [],
   "source": [
    "# function to create the drama url based on drama title\n",
    "def first_page_url(big_list_title):\n",
    "    mydramalist_url = 'https://mydramalist.com'\n",
    "    list_url = []\n",
    "    for title in big_list_title:\n",
    "        title_url = mydramalist_url + title # create urls of drama \n",
    "        list_url.append(title_url)\n",
    "    return list_url"
   ]
  },
  {
   "cell_type": "code",
   "execution_count": 5,
   "metadata": {
    "scrolled": true
   },
   "outputs": [],
   "source": [
    "# function to read each drama url\n",
    "def first_page_html(list_url):\n",
    "    list_html = []\n",
    "    for drama_url in list_url: \n",
    "        resp = requests.get(drama_url)\n",
    "        soup = BeautifulSoup(resp.text) # html of drama page\n",
    "        list_html.append(soup)\n",
    "    return list_html"
   ]
  },
  {
   "cell_type": "markdown",
   "metadata": {},
   "source": [
    "## 3. Populate DataFrame with drama reviews\n",
    "\n",
    "Data to include in the DataFrame:\n",
    "\n",
    "1. Drama title\n",
    "2. Year released - retrieved from drama title\n",
    "3. Main actors - the list of support roles is too long and may not be a good distinguishing factor\n",
    "4. Genres - general; each drama can have more than one genre\n",
    "5. Tags - more specific than genres, include phrases like 'Adapted from a manga'\n",
    "\n",
    "Each data is appended to a list. I combined the list to create the DataFrame."
   ]
  },
  {
   "cell_type": "code",
   "execution_count": 6,
   "metadata": {},
   "outputs": [],
   "source": [
    "# function to retrieve drama title from html\n",
    "def drama_title(list_html):\n",
    "    list_titles = []\n",
    "    list_years = []\n",
    "    \n",
    "    for soup in list_html:\n",
    "        drama_title = soup.title.get_text().replace(' - MyDramaList','') # drama title\n",
    "        drama_year = drama_title[-5:-1] # drama year\n",
    "        list_titles.append(drama_title)\n",
    "        list_years.append(drama_year)\n",
    "        \n",
    "    return list_titles, list_years"
   ]
  },
  {
   "cell_type": "code",
   "execution_count": 7,
   "metadata": {},
   "outputs": [],
   "source": [
    "# function to retrieve main actors from html\n",
    "def drama_actors(list_html):\n",
    "    list_main_actors = []\n",
    "    \n",
    "    for soup in list_html:\n",
    "        roles_text = soup.find_all('small', attrs={'class':'text-muted'})\n",
    "        roles = []\n",
    "        for i in roles_text:\n",
    "            roles.append(i.text) # list of roles of all actors in main drama page\n",
    "        no_main = roles.count('Main Role') # number of main actors\n",
    "\n",
    "        actors_text = soup.find_all('a', attrs={'class':'text-primary text-ellipsis'})\n",
    "        actors = []\n",
    "        for i in actors_text:\n",
    "            actors.append(i.text) # list of all actors in main drama page\n",
    "        main_actors = actors[:no_main] # grab the list of main actors by indexing the number of main actors\n",
    "        main_actors = ', '.join(main_actors)\n",
    "        list_main_actors.append(main_actors)\n",
    "\n",
    "    return list_main_actors"
   ]
  },
  {
   "cell_type": "code",
   "execution_count": 8,
   "metadata": {},
   "outputs": [],
   "source": [
    "# function to retrieve genres from html\n",
    "def drama_genres(list_html):\n",
    "    list_genres = []\n",
    "\n",
    "    for soup in list_html:\n",
    "        info = soup.find('ul', attrs={'class','list m-a-0'})\n",
    "        ge_sep = 'Genres: '\n",
    "        ta_sep = 'Tags: '\n",
    "        if ge_sep in info.text: # genres exist\n",
    "            rest = info.text.split(ge_sep, 1)[1] # string contains other information such as tags. split string to get genres\n",
    "            genres = rest.split(ta_sep, 1)[0] # get genres\n",
    "            list_genres.append(genres)\n",
    "        else:\n",
    "            list_genres.append('') # no genres\n",
    "        \n",
    "    return list_genres"
   ]
  },
  {
   "cell_type": "code",
   "execution_count": 9,
   "metadata": {},
   "outputs": [],
   "source": [
    "# function to retrieve tags from html\n",
    "def drama_tags(list_html):\n",
    "    list_tags = []\n",
    "    for soup in list_html:\n",
    "        info = soup.find('ul', attrs={'class','list m-a-0'})\n",
    "        ta_sep = 'Tags: '\n",
    "        rest = info.text.split(ta_sep, 1)[1]\n",
    "        vote_sep = '(Vote or add tags)'\n",
    "        if rest.rstrip() != vote_sep: # tags exist\n",
    "            tags = rest.split(vote_sep, 1)[0] # string contains other information such as vote_sep. split string to get tags\n",
    "            list_tags.append(tags)\n",
    "        else:\n",
    "            list_tags.append('') # no tags\n",
    "    return list_tags"
   ]
  },
  {
   "cell_type": "code",
   "execution_count": 11,
   "metadata": {},
   "outputs": [],
   "source": [
    "# function to retrieve synopsis from html\n",
    "def drama_synopsis(list_html):\n",
    "    list_synopsis = []\n",
    "    \n",
    "    for soup in list_html:\n",
    "        synopsis = soup.find('div', attrs={'class':'show-synopsis'})\n",
    "        sep = 'Edit Translation'\n",
    "        rest = synopsis.text.split(sep, 1)[0] # string contains other info like sep. split string to get drama synopsis\n",
    "        clean = rest.lstrip().replace('\\n(Source: MyDramaList) ','').replace('\\n','').replace('\\r','') # remove special characters\n",
    "        list_synopsis.append(clean)\n",
    "        \n",
    "    return list_synopsis"
   ]
  },
  {
   "cell_type": "code",
   "execution_count": 13,
   "metadata": {},
   "outputs": [],
   "source": [
    "# function to create DataFrame from lists of information\n",
    "def drama_df(list_titles, list_years, list_main_actors, list_genres, list_tags, list_synopsis):\n",
    "    \n",
    "    df = pd.DataFrame(list(zip(list_titles, list_years, list_main_actors,\n",
    "                               list_genres, list_tags, list_synopsis)), \n",
    "                   columns =['drama_title', 'year', 'main_actors', 'genres', 'tags', 'synopsis']\n",
    "                     ) # create DataFrame with these variables & column names\n",
    "    \n",
    "    return df"
   ]
  },
  {
   "cell_type": "markdown",
   "metadata": {},
   "source": [
    "## 4. Run codes and save DataFrame to CSV"
   ]
  },
  {
   "cell_type": "code",
   "execution_count": 15,
   "metadata": {},
   "outputs": [],
   "source": [
    "list_url = first_page_url(big_list_title)\n",
    "list_html = first_page_html(list_url)\n",
    "list_titles, list_years = drama_title(list_html)\n",
    "list_main_actors = drama_actors(list_html)\n",
    "# list_directors = drama_director(list_html)\n",
    "list_genres = drama_genres(list_html)\n",
    "list_tags = drama_tags(list_html)\n",
    "list_synopsis = drama_synopsis(list_html)\n",
    "df = drama_df(list_titles, list_years, list_main_actors, list_genres, list_tags, list_synopsis)"
   ]
  },
  {
   "cell_type": "code",
   "execution_count": 16,
   "metadata": {
    "scrolled": true
   },
   "outputs": [
    {
     "data": {
      "text/html": [
       "<div>\n",
       "<style scoped>\n",
       "    .dataframe tbody tr th:only-of-type {\n",
       "        vertical-align: middle;\n",
       "    }\n",
       "\n",
       "    .dataframe tbody tr th {\n",
       "        vertical-align: top;\n",
       "    }\n",
       "\n",
       "    .dataframe thead th {\n",
       "        text-align: right;\n",
       "    }\n",
       "</style>\n",
       "<table border=\"1\" class=\"dataframe\">\n",
       "  <thead>\n",
       "    <tr style=\"text-align: right;\">\n",
       "      <th></th>\n",
       "      <th>drama_title</th>\n",
       "      <th>year</th>\n",
       "      <th>main_actors</th>\n",
       "      <th>genres</th>\n",
       "      <th>tags</th>\n",
       "      <th>synopsis</th>\n",
       "    </tr>\n",
       "  </thead>\n",
       "  <tbody>\n",
       "    <tr>\n",
       "      <td>0</td>\n",
       "      <td>Mon Jun Tra (2013)</td>\n",
       "      <td>2013</td>\n",
       "      <td>Krit Shahkrit Yamnam, Margie Rasri Balenciaga</td>\n",
       "      <td></td>\n",
       "      <td>Older Man/Younger Woman, Mafia, Age Gap</td>\n",
       "      <td>Sarawaree is a young reporter aiming to write ...</td>\n",
       "    </tr>\n",
       "    <tr>\n",
       "      <td>1</td>\n",
       "      <td>Fah Krajang Dao (2013)</td>\n",
       "      <td>2013</td>\n",
       "      <td>Boy Pakorn Chatborirak, Matt Peeranee Kongthai</td>\n",
       "      <td>Romance,  Drama</td>\n",
       "      <td></td>\n",
       "      <td>The n’ek (Mee) has a pretty messed up past, sh...</td>\n",
       "    </tr>\n",
       "    <tr>\n",
       "      <td>2</td>\n",
       "      <td>Club Friday 2: The Series (2012)</td>\n",
       "      <td>2012</td>\n",
       "      <td></td>\n",
       "      <td>Drama</td>\n",
       "      <td>Gay Character</td>\n",
       "      <td>This is a series of short stories based on a r...</td>\n",
       "    </tr>\n",
       "    <tr>\n",
       "      <td>3</td>\n",
       "      <td>Look Poo Chai Hua Jai Petch (2002)</td>\n",
       "      <td>2002</td>\n",
       "      <td>Chakrabongse Chulachak, Namfon Kullanat Preeyawat</td>\n",
       "      <td>Drama</td>\n",
       "      <td></td>\n",
       "      <td>Synopsis needed.</td>\n",
       "    </tr>\n",
       "    <tr>\n",
       "      <td>4</td>\n",
       "      <td>Yok Lai Mek (2009)</td>\n",
       "      <td>2009</td>\n",
       "      <td>Janie Tienphosuwan, Ohm Atshar Nampan, Pip Raw...</td>\n",
       "      <td>Business,  Romance,  Drama,  Family</td>\n",
       "      <td>Birth Secret, Revenge, Multiple Couples</td>\n",
       "      <td>Katriya Ekthamrongworakul is the eldest daught...</td>\n",
       "    </tr>\n",
       "  </tbody>\n",
       "</table>\n",
       "</div>"
      ],
      "text/plain": [
       "                          drama_title  year  \\\n",
       "0                  Mon Jun Tra (2013)  2013   \n",
       "1              Fah Krajang Dao (2013)  2013   \n",
       "2    Club Friday 2: The Series (2012)  2012   \n",
       "3  Look Poo Chai Hua Jai Petch (2002)  2002   \n",
       "4                  Yok Lai Mek (2009)  2009   \n",
       "\n",
       "                                         main_actors  \\\n",
       "0      Krit Shahkrit Yamnam, Margie Rasri Balenciaga   \n",
       "1     Boy Pakorn Chatborirak, Matt Peeranee Kongthai   \n",
       "2                                                      \n",
       "3  Chakrabongse Chulachak, Namfon Kullanat Preeyawat   \n",
       "4  Janie Tienphosuwan, Ohm Atshar Nampan, Pip Raw...   \n",
       "\n",
       "                                  genres  \\\n",
       "0                                          \n",
       "1                      Romance,  Drama     \n",
       "2                                Drama     \n",
       "3                                Drama     \n",
       "4  Business,  Romance,  Drama,  Family     \n",
       "\n",
       "                                       tags  \\\n",
       "0  Older Man/Younger Woman, Mafia, Age Gap    \n",
       "1                                             \n",
       "2                            Gay Character    \n",
       "3                                             \n",
       "4  Birth Secret, Revenge, Multiple Couples    \n",
       "\n",
       "                                            synopsis  \n",
       "0  Sarawaree is a young reporter aiming to write ...  \n",
       "1  The n’ek (Mee) has a pretty messed up past, sh...  \n",
       "2  This is a series of short stories based on a r...  \n",
       "3                                 Synopsis needed.    \n",
       "4  Katriya Ekthamrongworakul is the eldest daught...  "
      ]
     },
     "execution_count": 16,
     "metadata": {},
     "output_type": "execute_result"
    }
   ],
   "source": [
    "df.head()"
   ]
  },
  {
   "cell_type": "code",
   "execution_count": 17,
   "metadata": {},
   "outputs": [],
   "source": [
    "df.to_csv('drama_list6.csv',index=False)"
   ]
  }
 ],
 "metadata": {
  "kernelspec": {
   "display_name": "Python 3",
   "language": "python",
   "name": "python3"
  },
  "language_info": {
   "codemirror_mode": {
    "name": "ipython",
    "version": 3
   },
   "file_extension": ".py",
   "mimetype": "text/x-python",
   "name": "python",
   "nbconvert_exporter": "python",
   "pygments_lexer": "ipython3",
   "version": "3.7.4"
  }
 },
 "nbformat": 4,
 "nbformat_minor": 2
}
