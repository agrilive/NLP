{
  "nbformat": 4,
  "nbformat_minor": 0,
  "metadata": {
    "colab": {
      "name": "collab-drama-collaborative-filtering.ipynb",
      "provenance": [],
      "collapsed_sections": [],
      "authorship_tag": "ABX9TyP0tXzJO5/KRYRjaVbV5Hbl"
    },
    "kernelspec": {
      "name": "python3",
      "display_name": "Python 3"
    }
  },
  "cells": [
    {
      "cell_type": "markdown",
      "metadata": {
        "id": "Q9msOn0X1yNU",
        "colab_type": "text"
      },
      "source": [
        "# Drama Recommender System using Deep Learning - Collaborative Filtering with fast.ai\n",
        "\n",
        "Collaborative filtering is predicting how much a user will like an item. Here, I tried a simple EmbeddingDotBias model for prediction.\n",
        "\n",
        "## 1. Import libraries and read CSV file"
      ]
    },
    {
      "cell_type": "code",
      "metadata": {
        "id": "B2VJeHHkoYIN",
        "colab_type": "code",
        "outputId": "1b4c0ef1-2a20-4700-f843-7e28b1940f3c",
        "colab": {
          "base_uri": "https://localhost:8080/",
          "height": 124
        }
      },
      "source": [
        "from google.colab import drive\n",
        "drive.mount('/content/drive')"
      ],
      "execution_count": 1,
      "outputs": [
        {
          "output_type": "stream",
          "text": [
            "Go to this URL in a browser: https://accounts.google.com/o/oauth2/auth?client_id=947318989803-6bn6qk8qdgf4n4g3pfee6491hc0brc4i.apps.googleusercontent.com&redirect_uri=urn%3aietf%3awg%3aoauth%3a2.0%3aoob&response_type=code&scope=email%20https%3a%2f%2fwww.googleapis.com%2fauth%2fdocs.test%20https%3a%2f%2fwww.googleapis.com%2fauth%2fdrive%20https%3a%2f%2fwww.googleapis.com%2fauth%2fdrive.photos.readonly%20https%3a%2f%2fwww.googleapis.com%2fauth%2fpeopleapi.readonly\n",
            "\n",
            "Enter your authorization code:\n",
            "··········\n",
            "Mounted at /content/drive\n"
          ],
          "name": "stdout"
        }
      ]
    },
    {
      "cell_type": "code",
      "metadata": {
        "id": "bw2ZxF7YotY6",
        "colab_type": "code",
        "colab": {}
      },
      "source": [
        "%reload_ext autoreload\n",
        "%autoreload 2\n",
        "%matplotlib inline"
      ],
      "execution_count": 0,
      "outputs": []
    },
    {
      "cell_type": "code",
      "metadata": {
        "id": "Jfawx8DUo2JL",
        "colab_type": "code",
        "colab": {}
      },
      "source": [
        "from fastai.collab import * "
      ],
      "execution_count": 0,
      "outputs": []
    },
    {
      "cell_type": "code",
      "metadata": {
        "id": "IlCXAO8Do3of",
        "colab_type": "code",
        "outputId": "beb286ab-564c-406d-b29e-f3e809963336",
        "colab": {
          "base_uri": "https://localhost:8080/",
          "height": 202
        }
      },
      "source": [
        "path = '/content/drive/My Drive/Drama Reviews'\n",
        "reviews_csv = 'drama_reviews_cf.csv'\n",
        "\n",
        "df = pd.read_csv(path+'/'+reviews_csv)\n",
        "df.head()"
      ],
      "execution_count": 4,
      "outputs": [
        {
          "output_type": "execute_result",
          "data": {
            "text/html": [
              "<div>\n",
              "<style scoped>\n",
              "    .dataframe tbody tr th:only-of-type {\n",
              "        vertical-align: middle;\n",
              "    }\n",
              "\n",
              "    .dataframe tbody tr th {\n",
              "        vertical-align: top;\n",
              "    }\n",
              "\n",
              "    .dataframe thead th {\n",
              "        text-align: right;\n",
              "    }\n",
              "</style>\n",
              "<table border=\"1\" class=\"dataframe\">\n",
              "  <thead>\n",
              "    <tr style=\"text-align: right;\">\n",
              "      <th></th>\n",
              "      <th>drama_title</th>\n",
              "      <th>user_name</th>\n",
              "      <th>overall_rating</th>\n",
              "    </tr>\n",
              "  </thead>\n",
              "  <tbody>\n",
              "    <tr>\n",
              "      <th>0</th>\n",
              "      <td>Dear My Friends (2016)</td>\n",
              "      <td>iamgeralddd</td>\n",
              "      <td>10.0</td>\n",
              "    </tr>\n",
              "    <tr>\n",
              "      <th>1</th>\n",
              "      <td>Dear My Friends (2016)</td>\n",
              "      <td>Dounie</td>\n",
              "      <td>10.0</td>\n",
              "    </tr>\n",
              "    <tr>\n",
              "      <th>2</th>\n",
              "      <td>Dear My Friends (2016)</td>\n",
              "      <td>Pelin</td>\n",
              "      <td>10.0</td>\n",
              "    </tr>\n",
              "    <tr>\n",
              "      <th>3</th>\n",
              "      <td>Dear My Friends (2016)</td>\n",
              "      <td>silent_whispers</td>\n",
              "      <td>9.0</td>\n",
              "    </tr>\n",
              "    <tr>\n",
              "      <th>4</th>\n",
              "      <td>Dear My Friends (2016)</td>\n",
              "      <td>Dana</td>\n",
              "      <td>9.0</td>\n",
              "    </tr>\n",
              "  </tbody>\n",
              "</table>\n",
              "</div>"
            ],
            "text/plain": [
              "              drama_title        user_name  overall_rating\n",
              "0  Dear My Friends (2016)      iamgeralddd            10.0\n",
              "1  Dear My Friends (2016)           Dounie            10.0\n",
              "2  Dear My Friends (2016)            Pelin            10.0\n",
              "3  Dear My Friends (2016)  silent_whispers             9.0\n",
              "4  Dear My Friends (2016)             Dana             9.0"
            ]
          },
          "metadata": {
            "tags": []
          },
          "execution_count": 4
        }
      ]
    },
    {
      "cell_type": "code",
      "metadata": {
        "id": "56B67_zt-wEx",
        "colab_type": "code",
        "colab": {
          "base_uri": "https://localhost:8080/",
          "height": 156
        },
        "outputId": "a9a8b217-42a6-46f9-e56d-bac3a9b20fe6"
      },
      "source": [
        "df.info()"
      ],
      "execution_count": 58,
      "outputs": [
        {
          "output_type": "stream",
          "text": [
            "<class 'pandas.core.frame.DataFrame'>\n",
            "RangeIndex: 20075 entries, 0 to 20074\n",
            "Data columns (total 3 columns):\n",
            "drama_title       20075 non-null object\n",
            "user_name         20075 non-null object\n",
            "overall_rating    20075 non-null float64\n",
            "dtypes: float64(1), object(2)\n",
            "memory usage: 470.6+ KB\n"
          ],
          "name": "stdout"
        }
      ]
    },
    {
      "cell_type": "code",
      "metadata": {
        "id": "p6a98y_A_DxF",
        "colab_type": "code",
        "colab": {
          "base_uri": "https://localhost:8080/",
          "height": 52
        },
        "outputId": "e355aee2-f252-4979-a6ea-47fd2862eb2a"
      },
      "source": [
        "print('Number of unique drama titles: ', df['drama_title'].nunique())\n",
        "print('Number of unique viewers: ', df['user_name'].nunique())"
      ],
      "execution_count": 59,
      "outputs": [
        {
          "output_type": "stream",
          "text": [
            "Number of unique drama titles:  2382\n",
            "Number of unique viewers:  6918\n"
          ],
          "name": "stdout"
        }
      ]
    },
    {
      "cell_type": "code",
      "metadata": {
        "id": "iT5BtC4NryrW",
        "colab_type": "code",
        "outputId": "695c61ab-aa36-496b-b54a-8f580611beb6",
        "colab": {
          "base_uri": "https://localhost:8080/",
          "height": 35
        }
      },
      "source": [
        "df.overall_rating.min(), df.overall_rating.max()"
      ],
      "execution_count": 5,
      "outputs": [
        {
          "output_type": "execute_result",
          "data": {
            "text/plain": [
              "(1.0, 10.0)"
            ]
          },
          "metadata": {
            "tags": []
          },
          "execution_count": 5
        }
      ]
    },
    {
      "cell_type": "markdown",
      "metadata": {
        "id": "27m_AbkF2cn3",
        "colab_type": "text"
      },
      "source": [
        "## 2. Create DataBunch from DataFrame"
      ]
    },
    {
      "cell_type": "code",
      "metadata": {
        "id": "asRdEm87pExZ",
        "colab_type": "code",
        "colab": {}
      },
      "source": [
        "data = CollabDataBunch.from_df(df,user_name='user_name',item_name='drama_title',rating_name='overall_rating',valid_pct=0.3)"
      ],
      "execution_count": 0,
      "outputs": []
    },
    {
      "cell_type": "code",
      "metadata": {
        "id": "wStXfxCWrGT-",
        "colab_type": "code",
        "outputId": "1d9330f2-c047-46b7-8135-5f64088b1b16",
        "colab": {
          "base_uri": "https://localhost:8080/",
          "height": 202
        }
      },
      "source": [
        "data.show_batch()"
      ],
      "execution_count": 40,
      "outputs": [
        {
          "output_type": "display_data",
          "data": {
            "text/html": [
              "<table border=\"1\" class=\"dataframe\">\n",
              "  <thead>\n",
              "    <tr style=\"text-align: right;\">\n",
              "      <th>user_name</th>\n",
              "      <th>drama_title</th>\n",
              "      <th>target</th>\n",
              "    </tr>\n",
              "  </thead>\n",
              "  <tbody>\n",
              "    <tr>\n",
              "      <td>mongze</td>\n",
              "      <td>Hana Yori Dango 2 (2007)</td>\n",
              "      <td>1.0</td>\n",
              "    </tr>\n",
              "    <tr>\n",
              "      <td>BrightestStar</td>\n",
              "      <td>ON Ijou Hanzai Sousakan Todo Hinako (2016)</td>\n",
              "      <td>10.0</td>\n",
              "    </tr>\n",
              "    <tr>\n",
              "      <td>2013started</td>\n",
              "      <td>Big Man (2014)</td>\n",
              "      <td>5.5</td>\n",
              "    </tr>\n",
              "    <tr>\n",
              "      <td>yalda</td>\n",
              "      <td>Five Fingers (2012)</td>\n",
              "      <td>5.5</td>\n",
              "    </tr>\n",
              "    <tr>\n",
              "      <td>Tobes279</td>\n",
              "      <td>Together With Me: The Series (2017)</td>\n",
              "      <td>9.5</td>\n",
              "    </tr>\n",
              "  </tbody>\n",
              "</table>"
            ],
            "text/plain": [
              "<IPython.core.display.HTML object>"
            ]
          },
          "metadata": {
            "tags": []
          }
        }
      ]
    },
    {
      "cell_type": "markdown",
      "metadata": {
        "id": "5iiHtiVH2qfH",
        "colab_type": "text"
      },
      "source": [
        "## 3. Initialise a collab learner, find learning rate and train model\n",
        "\n",
        "fast.ai has two types of collab models - an EmbeddingDotBias model and a neural network based model. \n",
        "\n",
        "### EmbeddingDotBias model\n",
        "\n",
        "The EmbeddingDotBias model creates embeddings for both viewers and dramas and then takes the dot product of them. This maps the discrete objects into a vector of continuous values, allowing for similiarities between the discrete objects to be found."
      ]
    },
    {
      "cell_type": "code",
      "metadata": {
        "id": "oJ_TuDknpT9m",
        "colab_type": "code",
        "colab": {}
      },
      "source": [
        "learn = collab_learner(data, n_factors=50, y_range=(0.,10.))"
      ],
      "execution_count": 0,
      "outputs": []
    },
    {
      "cell_type": "code",
      "metadata": {
        "id": "6YVrVK2pqTe3",
        "colab_type": "code",
        "outputId": "2787fc00-c6fb-4f6a-ed76-13f06784dd19",
        "colab": {
          "base_uri": "https://localhost:8080/",
          "height": 112
        }
      },
      "source": [
        "learn.lr_find()"
      ],
      "execution_count": 42,
      "outputs": [
        {
          "output_type": "display_data",
          "data": {
            "text/html": [
              "\n",
              "    <div>\n",
              "        <style>\n",
              "            /* Turns off some styling */\n",
              "            progress {\n",
              "                /* gets rid of default border in Firefox and Opera. */\n",
              "                border: none;\n",
              "                /* Needs to be in here for Safari polyfill so background images work as expected. */\n",
              "                background-size: auto;\n",
              "            }\n",
              "            .progress-bar-interrupted, .progress-bar-interrupted::-webkit-progress-bar {\n",
              "                background: #F44336;\n",
              "            }\n",
              "        </style>\n",
              "      <progress value='0' class='' max='1', style='width:300px; height:20px; vertical-align: middle;'></progress>\n",
              "      0.00% [0/1 00:00<00:00]\n",
              "    </div>\n",
              "    \n",
              "<table border=\"1\" class=\"dataframe\">\n",
              "  <thead>\n",
              "    <tr style=\"text-align: left;\">\n",
              "      <th>epoch</th>\n",
              "      <th>train_loss</th>\n",
              "      <th>valid_loss</th>\n",
              "      <th>time</th>\n",
              "    </tr>\n",
              "  </thead>\n",
              "  <tbody>\n",
              "  </tbody>\n",
              "</table><p>\n",
              "\n",
              "    <div>\n",
              "        <style>\n",
              "            /* Turns off some styling */\n",
              "            progress {\n",
              "                /* gets rid of default border in Firefox and Opera. */\n",
              "                border: none;\n",
              "                /* Needs to be in here for Safari polyfill so background images work as expected. */\n",
              "                background-size: auto;\n",
              "            }\n",
              "            .progress-bar-interrupted, .progress-bar-interrupted::-webkit-progress-bar {\n",
              "                background: #F44336;\n",
              "            }\n",
              "        </style>\n",
              "      <progress value='90' class='' max='219', style='width:300px; height:20px; vertical-align: middle;'></progress>\n",
              "      41.10% [90/219 00:01<00:01 12.5808]\n",
              "    </div>\n",
              "    "
            ],
            "text/plain": [
              "<IPython.core.display.HTML object>"
            ]
          },
          "metadata": {
            "tags": []
          }
        },
        {
          "output_type": "stream",
          "text": [
            "LR Finder is complete, type {learner_name}.recorder.plot() to see the graph.\n"
          ],
          "name": "stdout"
        }
      ]
    },
    {
      "cell_type": "code",
      "metadata": {
        "id": "iJIVzuOQqVO9",
        "colab_type": "code",
        "outputId": "0558ab07-5a27-49b5-e608-294ba0c3da2b",
        "colab": {
          "base_uri": "https://localhost:8080/",
          "height": 279
        }
      },
      "source": [
        "learn.recorder.plot()"
      ],
      "execution_count": 43,
      "outputs": [
        {
          "output_type": "display_data",
          "data": {
            "image/png": "[encoded data removed]",
            "text/plain": [
              "<Figure size 432x288 with 1 Axes>"
            ]
          },
          "metadata": {
            "tags": []
          }
        }
      ]
    },
    {
      "cell_type": "code",
      "metadata": {
        "id": "f1B12EKy6lY2",
        "colab_type": "code",
        "colab": {
          "base_uri": "https://localhost:8080/",
          "height": 202
        },
        "outputId": "e203313d-c985-4ba0-e21c-ba0a3a9ce886"
      },
      "source": [
        "learn.fit_one_cycle(5,5e-3)"
      ],
      "execution_count": 44,
      "outputs": [
        {
          "output_type": "display_data",
          "data": {
            "text/html": [
              "<table border=\"1\" class=\"dataframe\">\n",
              "  <thead>\n",
              "    <tr style=\"text-align: left;\">\n",
              "      <th>epoch</th>\n",
              "      <th>train_loss</th>\n",
              "      <th>valid_loss</th>\n",
              "      <th>time</th>\n",
              "    </tr>\n",
              "  </thead>\n",
              "  <tbody>\n",
              "    <tr>\n",
              "      <td>0</td>\n",
              "      <td>12.541354</td>\n",
              "      <td>11.698273</td>\n",
              "      <td>00:03</td>\n",
              "    </tr>\n",
              "    <tr>\n",
              "      <td>1</td>\n",
              "      <td>6.661193</td>\n",
              "      <td>6.550215</td>\n",
              "      <td>00:02</td>\n",
              "    </tr>\n",
              "    <tr>\n",
              "      <td>2</td>\n",
              "      <td>2.752909</td>\n",
              "      <td>5.650814</td>\n",
              "      <td>00:02</td>\n",
              "    </tr>\n",
              "    <tr>\n",
              "      <td>3</td>\n",
              "      <td>1.286201</td>\n",
              "      <td>5.565643</td>\n",
              "      <td>00:02</td>\n",
              "    </tr>\n",
              "    <tr>\n",
              "      <td>4</td>\n",
              "      <td>0.866370</td>\n",
              "      <td>5.555265</td>\n",
              "      <td>00:02</td>\n",
              "    </tr>\n",
              "  </tbody>\n",
              "</table>"
            ],
            "text/plain": [
              "<IPython.core.display.HTML object>"
            ]
          },
          "metadata": {
            "tags": []
          }
        }
      ]
    },
    {
      "cell_type": "code",
      "metadata": {
        "id": "XqqbfTY6pwcG",
        "colab_type": "code",
        "colab": {}
      },
      "source": [
        "learn.save('reco')"
      ],
      "execution_count": 0,
      "outputs": []
    },
    {
      "cell_type": "code",
      "metadata": {
        "id": "Ar0xjEDr62W7",
        "colab_type": "code",
        "colab": {}
      },
      "source": [
        "learn.unfreeze()"
      ],
      "execution_count": 0,
      "outputs": []
    },
    {
      "cell_type": "code",
      "metadata": {
        "id": "ILhrP5Bc6uD4",
        "colab_type": "code",
        "outputId": "f07e9ae7-fa45-4210-df3d-e742ef0f052b",
        "colab": {
          "base_uri": "https://localhost:8080/",
          "height": 112
        }
      },
      "source": [
        "learn.lr_find()"
      ],
      "execution_count": 47,
      "outputs": [
        {
          "output_type": "display_data",
          "data": {
            "text/html": [
              "\n",
              "    <div>\n",
              "        <style>\n",
              "            /* Turns off some styling */\n",
              "            progress {\n",
              "                /* gets rid of default border in Firefox and Opera. */\n",
              "                border: none;\n",
              "                /* Needs to be in here for Safari polyfill so background images work as expected. */\n",
              "                background-size: auto;\n",
              "            }\n",
              "            .progress-bar-interrupted, .progress-bar-interrupted::-webkit-progress-bar {\n",
              "                background: #F44336;\n",
              "            }\n",
              "        </style>\n",
              "      <progress value='0' class='' max='1', style='width:300px; height:20px; vertical-align: middle;'></progress>\n",
              "      0.00% [0/1 00:00<00:00]\n",
              "    </div>\n",
              "    \n",
              "<table border=\"1\" class=\"dataframe\">\n",
              "  <thead>\n",
              "    <tr style=\"text-align: left;\">\n",
              "      <th>epoch</th>\n",
              "      <th>train_loss</th>\n",
              "      <th>valid_loss</th>\n",
              "      <th>time</th>\n",
              "    </tr>\n",
              "  </thead>\n",
              "  <tbody>\n",
              "  </tbody>\n",
              "</table><p>\n",
              "\n",
              "    <div>\n",
              "        <style>\n",
              "            /* Turns off some styling */\n",
              "            progress {\n",
              "                /* gets rid of default border in Firefox and Opera. */\n",
              "                border: none;\n",
              "                /* Needs to be in here for Safari polyfill so background images work as expected. */\n",
              "                background-size: auto;\n",
              "            }\n",
              "            .progress-bar-interrupted, .progress-bar-interrupted::-webkit-progress-bar {\n",
              "                background: #F44336;\n",
              "            }\n",
              "        </style>\n",
              "      <progress value='86' class='' max='219', style='width:300px; height:20px; vertical-align: middle;'></progress>\n",
              "      39.27% [86/219 00:01<00:01 1.5217]\n",
              "    </div>\n",
              "    "
            ],
            "text/plain": [
              "<IPython.core.display.HTML object>"
            ]
          },
          "metadata": {
            "tags": []
          }
        },
        {
          "output_type": "stream",
          "text": [
            "LR Finder is complete, type {learner_name}.recorder.plot() to see the graph.\n"
          ],
          "name": "stdout"
        }
      ]
    },
    {
      "cell_type": "code",
      "metadata": {
        "id": "zJl0thFG65W0",
        "colab_type": "code",
        "outputId": "2d327564-2f7f-41ab-dc87-29a32266981d",
        "colab": {
          "base_uri": "https://localhost:8080/",
          "height": 279
        }
      },
      "source": [
        "learn.recorder.plot()"
      ],
      "execution_count": 48,
      "outputs": [
        {
          "output_type": "display_data",
          "data": {
            "image/png": "[encoded data removed]",
            "text/plain": [
              "<Figure size 432x288 with 1 Axes>"
            ]
          },
          "metadata": {
            "tags": []
          }
        }
      ]
    },
    {
      "cell_type": "code",
      "metadata": {
        "id": "-v4sq9I66-Pb",
        "colab_type": "code",
        "outputId": "cc022e85-77f9-4d70-afa7-41c58a7d0c3f",
        "colab": {
          "base_uri": "https://localhost:8080/",
          "height": 202
        }
      },
      "source": [
        "learn.fit_one_cycle(5, 5e-3)"
      ],
      "execution_count": 49,
      "outputs": [
        {
          "output_type": "display_data",
          "data": {
            "text/html": [
              "<table border=\"1\" class=\"dataframe\">\n",
              "  <thead>\n",
              "    <tr style=\"text-align: left;\">\n",
              "      <th>epoch</th>\n",
              "      <th>train_loss</th>\n",
              "      <th>valid_loss</th>\n",
              "      <th>time</th>\n",
              "    </tr>\n",
              "  </thead>\n",
              "  <tbody>\n",
              "    <tr>\n",
              "      <td>0</td>\n",
              "      <td>0.800809</td>\n",
              "      <td>5.523505</td>\n",
              "      <td>00:03</td>\n",
              "    </tr>\n",
              "    <tr>\n",
              "      <td>1</td>\n",
              "      <td>0.658418</td>\n",
              "      <td>5.557428</td>\n",
              "      <td>00:02</td>\n",
              "    </tr>\n",
              "    <tr>\n",
              "      <td>2</td>\n",
              "      <td>0.419593</td>\n",
              "      <td>5.395734</td>\n",
              "      <td>00:02</td>\n",
              "    </tr>\n",
              "    <tr>\n",
              "      <td>3</td>\n",
              "      <td>0.177192</td>\n",
              "      <td>5.418789</td>\n",
              "      <td>00:02</td>\n",
              "    </tr>\n",
              "    <tr>\n",
              "      <td>4</td>\n",
              "      <td>0.082723</td>\n",
              "      <td>5.419813</td>\n",
              "      <td>00:02</td>\n",
              "    </tr>\n",
              "  </tbody>\n",
              "</table>"
            ],
            "text/plain": [
              "<IPython.core.display.HTML object>"
            ]
          },
          "metadata": {
            "tags": []
          }
        }
      ]
    },
    {
      "cell_type": "code",
      "metadata": {
        "id": "uftR72PG9dZW",
        "colab_type": "code",
        "colab": {}
      },
      "source": [
        "learn.save('reco-2')"
      ],
      "execution_count": 0,
      "outputs": []
    },
    {
      "cell_type": "code",
      "metadata": {
        "id": "9lfKg0D1Aj3y",
        "colab_type": "code",
        "colab": {
          "base_uri": "https://localhost:8080/",
          "height": 279
        },
        "outputId": "893f0279-3a9c-4978-80cf-1004aaed0569"
      },
      "source": [
        "learn.recorder.plot_losses()"
      ],
      "execution_count": 60,
      "outputs": [
        {
          "output_type": "display_data",
          "data": {
            "image/png": "[encoded data removed]",
            "text/plain": [
              "<Figure size 432x288 with 1 Axes>"
            ]
          },
          "metadata": {
            "tags": []
          }
        }
      ]
    },
    {
      "cell_type": "code",
      "metadata": {
        "id": "HTKWo3h1An4J",
        "colab_type": "code",
        "colab": {
          "base_uri": "https://localhost:8080/",
          "height": 279
        },
        "outputId": "73d52362-daaa-4a4b-db7c-5e7b2fe697c6"
      },
      "source": [
        "learn.recorder.plot_lr()"
      ],
      "execution_count": 61,
      "outputs": [
        {
          "output_type": "display_data",
          "data": {
            "image/png": "[encoded data removed]",
            "text/plain": [
              "<Figure size 432x288 with 1 Axes>"
            ]
          },
          "metadata": {
            "tags": []
          }
        }
      ]
    },
    {
      "cell_type": "markdown",
      "metadata": {
        "id": "LdHJtCkh-f1s",
        "colab_type": "text"
      },
      "source": [
        "Although the train_loss is low, the valid_loss is significantly higher. I am guessing that it may be due to the small dataset size. \n",
        "\n",
        "## 4. Interpretation"
      ]
    },
    {
      "cell_type": "code",
      "metadata": {
        "id": "1sqUlCMP3_mW",
        "colab_type": "code",
        "outputId": "bb4c310e-c177-4acb-a6dd-61ec56d94338",
        "colab": {
          "base_uri": "https://localhost:8080/",
          "height": 505
        }
      },
      "source": [
        "learn.load('reco-2')"
      ],
      "execution_count": 51,
      "outputs": [
        {
          "output_type": "execute_result",
          "data": {
            "text/plain": [
              "CollabLearner(data=TabularDataBunch;\n",
              "\n",
              "Train: LabelList (14053 items)\n",
              "x: CollabList\n",
              "user_name Dounie; drama_title Dear My Friends (2016); ,user_name Pelin; drama_title Dear My Friends (2016); ,user_name silent_whispers; drama_title Dear My Friends (2016); ,user_name Dana; drama_title Dear My Friends (2016); ,user_name deliverygirl; drama_title Dear My Friends (2016); \n",
              "y: FloatList\n",
              "10.0,10.0,9.0,9.0,10.0\n",
              "Path: .;\n",
              "\n",
              "Valid: LabelList (6022 items)\n",
              "x: CollabList\n",
              "user_name #na#; drama_title Meteor Garden (2018); ,user_name sumlee; drama_title Queen Seon Duk (2009); ,user_name #na#; drama_title The Untamed (2019); ,user_name Joanne; drama_title Rush to the Dead Summer (2017); ,user_name asiandramafan; drama_title Yah Leum Chan (2014); \n",
              "y: FloatList\n",
              "8.0,10.0,10.0,5.0,7.5\n",
              "Path: .;\n",
              "\n",
              "Test: None, model=EmbeddingDotBias(\n",
              "  (u_weight): Embedding(5565, 50)\n",
              "  (i_weight): Embedding(2161, 50)\n",
              "  (u_bias): Embedding(5565, 1)\n",
              "  (i_bias): Embedding(2161, 1)\n",
              "), opt_func=functools.partial(<class 'torch.optim.adam.Adam'>, betas=(0.9, 0.99)), loss_func=FlattenedLoss of MSELoss(), metrics=[], true_wd=True, bn_wd=True, wd=0.01, train_bn=True, path=PosixPath('.'), model_dir='models', callback_fns=[functools.partial(<class 'fastai.basic_train.Recorder'>, add_time=True, silent=False)], callbacks=[], layer_groups=[Sequential(\n",
              "  (0): Embedding(5565, 50)\n",
              "  (1): Embedding(2161, 50)\n",
              "  (2): Embedding(5565, 1)\n",
              "  (3): Embedding(2161, 1)\n",
              ")], add_time=True, silent=False)"
            ]
          },
          "metadata": {
            "tags": []
          },
          "execution_count": 51
        }
      ]
    },
    {
      "cell_type": "code",
      "metadata": {
        "id": "4XDlC3jZp3Au",
        "colab_type": "code",
        "outputId": "009e89ad-be40-4c41-93e7-648c38778e67",
        "colab": {
          "base_uri": "https://localhost:8080/",
          "height": 225
        }
      },
      "source": [
        "g = df.groupby('drama_title')['overall_rating'].count() \n",
        "g.sort_values(ascending=False)[:10] # top 10 most highly reviewed dramas"
      ],
      "execution_count": 62,
      "outputs": [
        {
          "output_type": "execute_result",
          "data": {
            "text/plain": [
              "drama_title\n",
              "Healer (2014)                         231\n",
              "Goblin (2016)                         204\n",
              "You Who Came from the Stars (2013)    182\n",
              "Kill Me, Heal Me (2015)               162\n",
              "City Hunter (2011)                    151\n",
              "W (2016)                              150\n",
              "The Master's Sun (2013)               150\n",
              "Eternal Love (2017)                   149\n",
              "Descendants of the Sun (2016)         149\n",
              "I Hear Your Voice (2013)              148\n",
              "Name: overall_rating, dtype: int64"
            ]
          },
          "metadata": {
            "tags": []
          },
          "execution_count": 62
        }
      ]
    },
    {
      "cell_type": "code",
      "metadata": {
        "id": "xhlJRccWQodD",
        "colab_type": "code",
        "colab": {
          "base_uri": "https://localhost:8080/",
          "height": 225
        },
        "outputId": "d1ef40e1-7114-4218-e7ca-a59d071aa796"
      },
      "source": [
        "g.sort_values(ascending=False)[90:100] # top 90-100th most highly reviewed dramas"
      ],
      "execution_count": 63,
      "outputs": [
        {
          "output_type": "execute_result",
          "data": {
            "text/plain": [
              "drama_title\n",
              "It Started with a Kiss (2005)             24\n",
              "Mother (2018)                             24\n",
              "Prime Minister and I (2013)               24\n",
              "The Smile Has Left Your Eyes (2018)       24\n",
              "Missing 9 (2017)                          24\n",
              "The Secret Life of My Secretary (2019)    24\n",
              "Missing You (2012)                        24\n",
              "The Gifted (2018)                         24\n",
              "Pride (2004)                              24\n",
              "The Rise of Phoenixes (2018)              24\n",
              "Name: overall_rating, dtype: int64"
            ]
          },
          "metadata": {
            "tags": []
          },
          "execution_count": 63
        }
      ]
    },
    {
      "cell_type": "markdown",
      "metadata": {
        "id": "qE4neQFDPt0G",
        "colab_type": "text"
      },
      "source": [
        "To find out the dramas that are generally rated low/high regardless of what viewers are rating them, the drama bias and mean rating is found."
      ]
    },
    {
      "cell_type": "code",
      "metadata": {
        "id": "rxnsHY-6udUq",
        "colab_type": "code",
        "colab": {}
      },
      "source": [
        "top_dramas = g.sort_values(ascending=False).index.values[:100] \n",
        "drama_bias = learn.bias(top_dramas,is_item=True)\n",
        "mean_ratings = df.groupby('drama_title')['overall_rating'].mean()\n",
        "drama_ratings = [(b,i,mean_ratings.loc[i],g.loc[i]) for i,b in zip(top_dramas,drama_bias)]"
      ],
      "execution_count": 0,
      "outputs": []
    },
    {
      "cell_type": "markdown",
      "metadata": {
        "id": "0G_QQbPkQBS_",
        "colab_type": "text"
      },
      "source": [
        "It seems that the dramas with highest bias are generally highly-rated. Some examples include Goblin (2016), Eternal Love (2017) and Love O2O (2016)."
      ]
    },
    {
      "cell_type": "code",
      "metadata": {
        "id": "6GZb63cv3Jj_",
        "colab_type": "code",
        "colab": {
          "base_uri": "https://localhost:8080/",
          "height": 243
        },
        "outputId": "618e6ca2-01c9-4f08-ba0c-572c9ea1a829"
      },
      "source": [
        "item0 = lambda o:o[0]\n",
        "top_bias = sorted(drama_ratings,key=item0,reverse=True)[:10]\n",
        "top_bias"
      ],
      "execution_count": 56,
      "outputs": [
        {
          "output_type": "execute_result",
          "data": {
            "text/plain": [
              "[(tensor(0.8848), 'The Untamed (2019)', 9.48611111111111, 108),\n",
              " (tensor(0.8408), 'Addicted Heroin (2016)', 8.645833333333334, 72),\n",
              " (tensor(0.8181), 'Eternal Love (2017)', 9.241610738255034, 149),\n",
              " (tensor(0.8141), 'Love O2O (2016)', 8.940972222222221, 144),\n",
              " (tensor(0.7768), 'Signal (2016)', 9.712765957446809, 94),\n",
              " (tensor(0.7685), 'Goblin (2016)', 9.272058823529411, 204),\n",
              " (tensor(0.7129), 'Nirvana in Fire (2015)', 9.54, 75),\n",
              " (tensor(0.7114),\n",
              "  'Weightlifting Fairy Kim Bok Joo (2016)',\n",
              "  9.132575757575758,\n",
              "  132),\n",
              " (tensor(0.6913), 'My Mister (2018)', 9.358024691358025, 81),\n",
              " (tensor(0.6862), 'Love by Chance (2018)', 9.237179487179487, 78)]"
            ]
          },
          "metadata": {
            "tags": []
          },
          "execution_count": 56
        }
      ]
    },
    {
      "cell_type": "markdown",
      "metadata": {
        "id": "aE2GcdmEQGkf",
        "colab_type": "text"
      },
      "source": [
        "The opposite is true as well. Some examples include Missing 9 (2017), Missing You (2012) and Prime Minister and I (2013)."
      ]
    },
    {
      "cell_type": "code",
      "metadata": {
        "id": "jxV9Rns6vhk7",
        "colab_type": "code",
        "outputId": "3db0a390-1d9c-4525-86ce-d96139713b17",
        "colab": {
          "base_uri": "https://localhost:8080/",
          "height": 191
        }
      },
      "source": [
        "lowest_bias = sorted(drama_ratings,key=item0)[:10]\n",
        "lowest_bias"
      ],
      "execution_count": 55,
      "outputs": [
        {
          "output_type": "execute_result",
          "data": {
            "text/plain": [
              "[(tensor(0.1049), 'I  Do, I Do (2012)', 6.291666666666667, 24),\n",
              " (tensor(0.1487), 'Full House  (2004)', 7.25, 24),\n",
              " (tensor(0.1768), 'Prime Minister and I (2013)', 6.729166666666667, 24),\n",
              " (tensor(0.1774), 'Hanazakari no Kimitachi e (2007)', 8.375, 24),\n",
              " (tensor(0.2294), 'Missing 9 (2017)', 6.75, 24),\n",
              " (tensor(0.2501), 'Missing You (2012)', 7.791666666666667, 24),\n",
              " (tensor(0.2527), 'Hi! School - Love On (2014)', 6.291666666666667, 24),\n",
              " (tensor(0.2788), 'Romance is a Bonus Book (2019)', 8.583333333333334, 24),\n",
              " (tensor(0.3138), 'IRIS (2009)', 8.729166666666666, 24),\n",
              " (tensor(0.3160), 'High School King of Savvy (2014)', 7.833333333333333, 24)]"
            ]
          },
          "metadata": {
            "tags": []
          },
          "execution_count": 55
        }
      ]
    },
    {
      "cell_type": "markdown",
      "metadata": {
        "id": "d0uuD98VQUbU",
        "colab_type": "text"
      },
      "source": [
        "### Downsides of collaborative filtering\n",
        "- We can predict with some accuracy which drama a current viewer will prefer watching. However, it is tough to do so for a new user who does not have any drama watching history.\n",
        "- One way this could be overcome is by using a simple recommender system for new users first, recommending the top trending dramas. The selection of dramas and possible ratings of them could be added into the training of the collaborative filtering model.\n",
        "\n",
        "### Conclusion\n",
        "The recommender system built here was not very effective. With the validation loss much higher than the training loss, the model has overfitted. A possible way to reduce overfitting is regularization, such as reducing the dropout. A random number of activations is removed, reducing the network size, which is better to train."
      ]
    }
  ]
}