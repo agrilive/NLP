{
 "cells": [
  {
   "cell_type": "markdown",
   "metadata": {},
   "source": [
    "# Drama Recommender Systems\n",
    "\n",
    "Here, I tried several recommender systems:\n",
    "\n",
    "1. Simple recommenders\n",
    "2. Content-based recommender\n",
    "   - Plot-based recommender\n",
    "   - Main actors, genres and keywords recommender\n",
    "3. Collaborative filtering\n",
    "   - k-Nearest Neighbors\n",
    "   - Matrix factorization\n",
    "   \n",
    "These systems produce different recommendations. Since they each have their disadvantages, perhaps we can combine them at different stages to give better recommendations to our viewers. For example, collaborative filtering does not work well on new users when there is little or no information on them. We would not be able to find similar users or similar content that they like based on their drama watching history. As a start, the simple recommender can be used to recommend dramas that are popular amongst a large number of users.\n",
    "\n",
    "Note: The collaborative filtering recommender system is in another jupyter notebook."
   ]
  },
  {
   "cell_type": "markdown",
   "metadata": {},
   "source": [
    "## 1. Simple Recommenders\n",
    "\n",
    "Simple recommenders provide recommendations based on the highest weighted rating score. This new score is calculated based on IMDB's formula, which takes into account the mean rating score and the number of users that rated it."
   ]
  },
  {
   "cell_type": "code",
   "execution_count": 1,
   "metadata": {},
   "outputs": [],
   "source": [
    "import pandas as pd"
   ]
  },
  {
   "cell_type": "code",
   "execution_count": 17,
   "metadata": {},
   "outputs": [
    {
     "data": {
      "text/html": [
       "<div>\n",
       "<style scoped>\n",
       "    .dataframe tbody tr th:only-of-type {\n",
       "        vertical-align: middle;\n",
       "    }\n",
       "\n",
       "    .dataframe tbody tr th {\n",
       "        vertical-align: top;\n",
       "    }\n",
       "\n",
       "    .dataframe thead th {\n",
       "        text-align: right;\n",
       "    }\n",
       "</style>\n",
       "<table border=\"1\" class=\"dataframe\">\n",
       "  <thead>\n",
       "    <tr style=\"text-align: right;\">\n",
       "      <th></th>\n",
       "      <th>drama_title</th>\n",
       "      <th>user_name</th>\n",
       "      <th>overall_rating</th>\n",
       "    </tr>\n",
       "  </thead>\n",
       "  <tbody>\n",
       "    <tr>\n",
       "      <td>0</td>\n",
       "      <td>Dear My Friends (2016)</td>\n",
       "      <td>iamgeralddd</td>\n",
       "      <td>10.0</td>\n",
       "    </tr>\n",
       "    <tr>\n",
       "      <td>1</td>\n",
       "      <td>Dear My Friends (2016)</td>\n",
       "      <td>Dounie</td>\n",
       "      <td>10.0</td>\n",
       "    </tr>\n",
       "    <tr>\n",
       "      <td>2</td>\n",
       "      <td>Dear My Friends (2016)</td>\n",
       "      <td>Pelin</td>\n",
       "      <td>10.0</td>\n",
       "    </tr>\n",
       "    <tr>\n",
       "      <td>3</td>\n",
       "      <td>Dear My Friends (2016)</td>\n",
       "      <td>silent_whispers</td>\n",
       "      <td>9.0</td>\n",
       "    </tr>\n",
       "    <tr>\n",
       "      <td>4</td>\n",
       "      <td>Dear My Friends (2016)</td>\n",
       "      <td>Dana</td>\n",
       "      <td>9.0</td>\n",
       "    </tr>\n",
       "  </tbody>\n",
       "</table>\n",
       "</div>"
      ],
      "text/plain": [
       "              drama_title        user_name  overall_rating\n",
       "0  Dear My Friends (2016)      iamgeralddd            10.0\n",
       "1  Dear My Friends (2016)           Dounie            10.0\n",
       "2  Dear My Friends (2016)            Pelin            10.0\n",
       "3  Dear My Friends (2016)  silent_whispers             9.0\n",
       "4  Dear My Friends (2016)             Dana             9.0"
      ]
     },
     "execution_count": 17,
     "metadata": {},
     "output_type": "execute_result"
    }
   ],
   "source": [
    "df = pd.read_csv('drama_reviews_cf.csv')\n",
    "df.head()"
   ]
  },
  {
   "cell_type": "code",
   "execution_count": 18,
   "metadata": {},
   "outputs": [],
   "source": [
    "from pandas import DataFrame"
   ]
  },
  {
   "cell_type": "code",
   "execution_count": 19,
   "metadata": {},
   "outputs": [],
   "source": [
    "# create new DataFrame that gives the mean rating of each drama and the number of ratings given to each drama\n",
    "drama_df = DataFrame({'no_ratings': df.groupby('drama_title')['overall_rating'].count(),\n",
    "                      'mean_ratings': df.groupby('drama_title')['overall_rating'].mean()}).reset_index()"
   ]
  },
  {
   "cell_type": "code",
   "execution_count": 24,
   "metadata": {},
   "outputs": [
    {
     "data": {
      "text/html": [
       "<div>\n",
       "<style scoped>\n",
       "    .dataframe tbody tr th:only-of-type {\n",
       "        vertical-align: middle;\n",
       "    }\n",
       "\n",
       "    .dataframe tbody tr th {\n",
       "        vertical-align: top;\n",
       "    }\n",
       "\n",
       "    .dataframe thead th {\n",
       "        text-align: right;\n",
       "    }\n",
       "</style>\n",
       "<table border=\"1\" class=\"dataframe\">\n",
       "  <thead>\n",
       "    <tr style=\"text-align: right;\">\n",
       "      <th></th>\n",
       "      <th>drama_title</th>\n",
       "      <th>no_ratings</th>\n",
       "      <th>mean_ratings</th>\n",
       "      <th>mean_ratings_rank</th>\n",
       "    </tr>\n",
       "  </thead>\n",
       "  <tbody>\n",
       "    <tr>\n",
       "      <td>1726</td>\n",
       "      <td>Secret (2000)</td>\n",
       "      <td>1</td>\n",
       "      <td>10.0</td>\n",
       "      <td>1.0</td>\n",
       "    </tr>\n",
       "    <tr>\n",
       "      <td>1291</td>\n",
       "      <td>More Beautiful Than a Flower (2004)</td>\n",
       "      <td>1</td>\n",
       "      <td>10.0</td>\n",
       "      <td>1.0</td>\n",
       "    </tr>\n",
       "    <tr>\n",
       "      <td>2162</td>\n",
       "      <td>Toshiie and Matsu (2002)</td>\n",
       "      <td>1</td>\n",
       "      <td>10.0</td>\n",
       "      <td>1.0</td>\n",
       "    </tr>\n",
       "    <tr>\n",
       "      <td>113</td>\n",
       "      <td>Ando Natsu (2008)</td>\n",
       "      <td>1</td>\n",
       "      <td>10.0</td>\n",
       "      <td>1.0</td>\n",
       "    </tr>\n",
       "    <tr>\n",
       "      <td>1132</td>\n",
       "      <td>Love Story in Harvard (2004)</td>\n",
       "      <td>3</td>\n",
       "      <td>10.0</td>\n",
       "      <td>1.0</td>\n",
       "    </tr>\n",
       "    <tr>\n",
       "      <td>1200</td>\n",
       "      <td>Manâ€§Boy (2012)</td>\n",
       "      <td>1</td>\n",
       "      <td>10.0</td>\n",
       "      <td>1.0</td>\n",
       "    </tr>\n",
       "    <tr>\n",
       "      <td>916</td>\n",
       "      <td>Kaeru no Oujo-sama (2012)</td>\n",
       "      <td>1</td>\n",
       "      <td>10.0</td>\n",
       "      <td>1.0</td>\n",
       "    </tr>\n",
       "    <tr>\n",
       "      <td>1934</td>\n",
       "      <td>Tears of Heaven (2014)</td>\n",
       "      <td>1</td>\n",
       "      <td>10.0</td>\n",
       "      <td>1.0</td>\n",
       "    </tr>\n",
       "    <tr>\n",
       "      <td>815</td>\n",
       "      <td>I'm Pregnant With Your Baby (2013)</td>\n",
       "      <td>1</td>\n",
       "      <td>10.0</td>\n",
       "      <td>1.0</td>\n",
       "    </tr>\n",
       "    <tr>\n",
       "      <td>1067</td>\n",
       "      <td>Life Special Investigation Team (2008)</td>\n",
       "      <td>1</td>\n",
       "      <td>10.0</td>\n",
       "      <td>1.0</td>\n",
       "    </tr>\n",
       "    <tr>\n",
       "      <td>144</td>\n",
       "      <td>Asaki Yumemishi (2013)</td>\n",
       "      <td>1</td>\n",
       "      <td>10.0</td>\n",
       "      <td>1.0</td>\n",
       "    </tr>\n",
       "    <tr>\n",
       "      <td>369</td>\n",
       "      <td>Dao Kiao Duen (2013)</td>\n",
       "      <td>1</td>\n",
       "      <td>10.0</td>\n",
       "      <td>1.0</td>\n",
       "    </tr>\n",
       "    <tr>\n",
       "      <td>2315</td>\n",
       "      <td>Women at a Game Company (2016)</td>\n",
       "      <td>1</td>\n",
       "      <td>10.0</td>\n",
       "      <td>1.0</td>\n",
       "    </tr>\n",
       "    <tr>\n",
       "      <td>368</td>\n",
       "      <td>Dandelion Love (2013)</td>\n",
       "      <td>1</td>\n",
       "      <td>10.0</td>\n",
       "      <td>1.0</td>\n",
       "    </tr>\n",
       "    <tr>\n",
       "      <td>346</td>\n",
       "      <td>Crazy Love (2013)</td>\n",
       "      <td>1</td>\n",
       "      <td>10.0</td>\n",
       "      <td>1.0</td>\n",
       "    </tr>\n",
       "  </tbody>\n",
       "</table>\n",
       "</div>"
      ],
      "text/plain": [
       "                                 drama_title  no_ratings  mean_ratings  \\\n",
       "1726                           Secret (2000)           1          10.0   \n",
       "1291     More Beautiful Than a Flower (2004)           1          10.0   \n",
       "2162                Toshiie and Matsu (2002)           1          10.0   \n",
       "113                        Ando Natsu (2008)           1          10.0   \n",
       "1132            Love Story in Harvard (2004)           3          10.0   \n",
       "1200                        Manâ€§Boy (2012)           1          10.0   \n",
       "916                Kaeru no Oujo-sama (2012)           1          10.0   \n",
       "1934                  Tears of Heaven (2014)           1          10.0   \n",
       "815       I'm Pregnant With Your Baby (2013)           1          10.0   \n",
       "1067  Life Special Investigation Team (2008)           1          10.0   \n",
       "144                   Asaki Yumemishi (2013)           1          10.0   \n",
       "369                     Dao Kiao Duen (2013)           1          10.0   \n",
       "2315          Women at a Game Company (2016)           1          10.0   \n",
       "368                    Dandelion Love (2013)           1          10.0   \n",
       "346                        Crazy Love (2013)           1          10.0   \n",
       "\n",
       "      mean_ratings_rank  \n",
       "1726                1.0  \n",
       "1291                1.0  \n",
       "2162                1.0  \n",
       "113                 1.0  \n",
       "1132                1.0  \n",
       "1200                1.0  \n",
       "916                 1.0  \n",
       "1934                1.0  \n",
       "815                 1.0  \n",
       "1067                1.0  \n",
       "144                 1.0  \n",
       "369                 1.0  \n",
       "2315                1.0  \n",
       "368                 1.0  \n",
       "346                 1.0  "
      ]
     },
     "execution_count": 24,
     "metadata": {},
     "output_type": "execute_result"
    }
   ],
   "source": [
    "drama_df = drama_df.sort_values('mean_ratings', ascending=False)\n",
    "drama_df[\"mean_ratings_rank\"] = drama_df[\"mean_ratings\"].rank(method='min',ascending=False) # give rank based on mean rating\n",
    "drama_df.head(15)"
   ]
  },
  {
   "cell_type": "code",
   "execution_count": 25,
   "metadata": {},
   "outputs": [
    {
     "name": "stdout",
     "output_type": "stream",
     "text": [
      "7.90283473904441\n"
     ]
    }
   ],
   "source": [
    "overall_mean = drama_df['mean_ratings'].mean()\n",
    "print(overall_mean)"
   ]
  },
  {
   "cell_type": "code",
   "execution_count": 26,
   "metadata": {},
   "outputs": [
    {
     "name": "stdout",
     "output_type": "stream",
     "text": [
      "21.0\n"
     ]
    }
   ],
   "source": [
    "m = drama_df['no_ratings'].quantile(0.90)\n",
    "print(m) # top 10% most highly reviewed dramas"
   ]
  },
  {
   "cell_type": "markdown",
   "metadata": {},
   "source": [
    "Top 10% of most highly reviewed dramas have 21 reviews. Ostensibly, the dramas with the highest rating (rating of 10.0) is not representative of the viewers' consensus. 14 of the top 15 dramas based on mean rating have only 1 user rating. This cannot be compared to dramas with a mean rating of >9.0 yet have >100 users rating it."
   ]
  },
  {
   "cell_type": "code",
   "execution_count": 27,
   "metadata": {},
   "outputs": [
    {
     "data": {
      "text/plain": [
       "(245, 4)"
      ]
     },
     "execution_count": 27,
     "metadata": {},
     "output_type": "execute_result"
    }
   ],
   "source": [
    "q_dramas = drama_df.copy().loc[drama_df['no_ratings'] >= m]\n",
    "q_dramas.shape # no. of dramas that are in the top 10% most highly reviewed dramas"
   ]
  },
  {
   "cell_type": "markdown",
   "metadata": {},
   "source": [
    "There are 245 dramas in the top 10% of most highly reviewed dramas."
   ]
  },
  {
   "cell_type": "code",
   "execution_count": 28,
   "metadata": {},
   "outputs": [],
   "source": [
    "def weighted_rating(x, m=m, C=overall_mean): # function that computes the weighted rating of each drama\n",
    "    v = x['no_ratings']\n",
    "    R = x['mean_ratings']\n",
    "    return (v/(v+m) * R) + (m/(m+v) * C) # calculation based on the IMDB formula"
   ]
  },
  {
   "cell_type": "code",
   "execution_count": 29,
   "metadata": {},
   "outputs": [],
   "source": [
    "drama_df['score'] = drama_df.apply(weighted_rating, axis=1)"
   ]
  },
  {
   "cell_type": "code",
   "execution_count": 34,
   "metadata": {},
   "outputs": [
    {
     "data": {
      "text/html": [
       "<div>\n",
       "<style scoped>\n",
       "    .dataframe tbody tr th:only-of-type {\n",
       "        vertical-align: middle;\n",
       "    }\n",
       "\n",
       "    .dataframe tbody tr th {\n",
       "        vertical-align: top;\n",
       "    }\n",
       "\n",
       "    .dataframe thead th {\n",
       "        text-align: right;\n",
       "    }\n",
       "</style>\n",
       "<table border=\"1\" class=\"dataframe\">\n",
       "  <thead>\n",
       "    <tr style=\"text-align: right;\">\n",
       "      <th></th>\n",
       "      <th>drama_title</th>\n",
       "      <th>no_ratings</th>\n",
       "      <th>mean_ratings</th>\n",
       "      <th>mean_ratings_rank</th>\n",
       "      <th>score</th>\n",
       "      <th>score_rank</th>\n",
       "    </tr>\n",
       "  </thead>\n",
       "  <tbody>\n",
       "    <tr>\n",
       "      <td>1794</td>\n",
       "      <td>Signal (2016)</td>\n",
       "      <td>94</td>\n",
       "      <td>9.712766</td>\n",
       "      <td>138.0</td>\n",
       "      <td>9.382257</td>\n",
       "      <td>1.0</td>\n",
       "    </tr>\n",
       "    <tr>\n",
       "      <td>2099</td>\n",
       "      <td>The Untamed (2019)</td>\n",
       "      <td>108</td>\n",
       "      <td>9.486111</td>\n",
       "      <td>220.0</td>\n",
       "      <td>9.228368</td>\n",
       "      <td>2.0</td>\n",
       "    </tr>\n",
       "    <tr>\n",
       "      <td>1407</td>\n",
       "      <td>Nirvana in Fire (2015)</td>\n",
       "      <td>75</td>\n",
       "      <td>9.540000</td>\n",
       "      <td>162.0</td>\n",
       "      <td>9.181870</td>\n",
       "      <td>3.0</td>\n",
       "    </tr>\n",
       "    <tr>\n",
       "      <td>395</td>\n",
       "      <td>Descendants of the Sun (2016)</td>\n",
       "      <td>149</td>\n",
       "      <td>9.359060</td>\n",
       "      <td>238.0</td>\n",
       "      <td>9.179174</td>\n",
       "      <td>4.0</td>\n",
       "    </tr>\n",
       "    <tr>\n",
       "      <td>599</td>\n",
       "      <td>Goblin (2016)</td>\n",
       "      <td>204</td>\n",
       "      <td>9.272059</td>\n",
       "      <td>265.0</td>\n",
       "      <td>9.144265</td>\n",
       "      <td>5.0</td>\n",
       "    </tr>\n",
       "    <tr>\n",
       "      <td>467</td>\n",
       "      <td>Eternal Love (2017)</td>\n",
       "      <td>149</td>\n",
       "      <td>9.241611</td>\n",
       "      <td>287.0</td>\n",
       "      <td>9.076233</td>\n",
       "      <td>6.0</td>\n",
       "    </tr>\n",
       "    <tr>\n",
       "      <td>1349</td>\n",
       "      <td>My Mister (2018)</td>\n",
       "      <td>81</td>\n",
       "      <td>9.358025</td>\n",
       "      <td>239.0</td>\n",
       "      <td>9.058427</td>\n",
       "      <td>7.0</td>\n",
       "    </tr>\n",
       "    <tr>\n",
       "      <td>1617</td>\n",
       "      <td>Reply 1997 (2012)</td>\n",
       "      <td>112</td>\n",
       "      <td>9.196429</td>\n",
       "      <td>293.0</td>\n",
       "      <td>8.992177</td>\n",
       "      <td>8.0</td>\n",
       "    </tr>\n",
       "    <tr>\n",
       "      <td>2273</td>\n",
       "      <td>Weightlifting Fairy Kim Bok Joo (2016)</td>\n",
       "      <td>132</td>\n",
       "      <td>9.132576</td>\n",
       "      <td>319.0</td>\n",
       "      <td>8.963788</td>\n",
       "      <td>9.0</td>\n",
       "    </tr>\n",
       "    <tr>\n",
       "      <td>1139</td>\n",
       "      <td>Love by Chance (2018)</td>\n",
       "      <td>78</td>\n",
       "      <td>9.237179</td>\n",
       "      <td>288.0</td>\n",
       "      <td>8.954137</td>\n",
       "      <td>10.0</td>\n",
       "    </tr>\n",
       "    <tr>\n",
       "      <td>1828</td>\n",
       "      <td>Sotus: The Series (2016)</td>\n",
       "      <td>82</td>\n",
       "      <td>9.189024</td>\n",
       "      <td>294.0</td>\n",
       "      <td>8.926792</td>\n",
       "      <td>11.0</td>\n",
       "    </tr>\n",
       "    <tr>\n",
       "      <td>209</td>\n",
       "      <td>Because This is My First Life (2017)</td>\n",
       "      <td>101</td>\n",
       "      <td>9.138614</td>\n",
       "      <td>317.0</td>\n",
       "      <td>8.925898</td>\n",
       "      <td>12.0</td>\n",
       "    </tr>\n",
       "    <tr>\n",
       "      <td>709</td>\n",
       "      <td>Healer (2014)</td>\n",
       "      <td>231</td>\n",
       "      <td>9.000000</td>\n",
       "      <td>355.0</td>\n",
       "      <td>8.908570</td>\n",
       "      <td>13.0</td>\n",
       "    </tr>\n",
       "    <tr>\n",
       "      <td>2043</td>\n",
       "      <td>The Master's Sun (2013)</td>\n",
       "      <td>150</td>\n",
       "      <td>9.010000</td>\n",
       "      <td>354.0</td>\n",
       "      <td>8.874032</td>\n",
       "      <td>14.0</td>\n",
       "    </tr>\n",
       "    <tr>\n",
       "      <td>2247</td>\n",
       "      <td>W (2016)</td>\n",
       "      <td>150</td>\n",
       "      <td>8.976667</td>\n",
       "      <td>494.0</td>\n",
       "      <td>8.844793</td>\n",
       "      <td>15.0</td>\n",
       "    </tr>\n",
       "  </tbody>\n",
       "</table>\n",
       "</div>"
      ],
      "text/plain": [
       "                                 drama_title  no_ratings  mean_ratings  \\\n",
       "1794                           Signal (2016)          94      9.712766   \n",
       "2099                      The Untamed (2019)         108      9.486111   \n",
       "1407                  Nirvana in Fire (2015)          75      9.540000   \n",
       "395            Descendants of the Sun (2016)         149      9.359060   \n",
       "599                            Goblin (2016)         204      9.272059   \n",
       "467                      Eternal Love (2017)         149      9.241611   \n",
       "1349                        My Mister (2018)          81      9.358025   \n",
       "1617                       Reply 1997 (2012)         112      9.196429   \n",
       "2273  Weightlifting Fairy Kim Bok Joo (2016)         132      9.132576   \n",
       "1139                   Love by Chance (2018)          78      9.237179   \n",
       "1828                Sotus: The Series (2016)          82      9.189024   \n",
       "209     Because This is My First Life (2017)         101      9.138614   \n",
       "709                            Healer (2014)         231      9.000000   \n",
       "2043                 The Master's Sun (2013)         150      9.010000   \n",
       "2247                                W (2016)         150      8.976667   \n",
       "\n",
       "      mean_ratings_rank     score  score_rank  \n",
       "1794              138.0  9.382257         1.0  \n",
       "2099              220.0  9.228368         2.0  \n",
       "1407              162.0  9.181870         3.0  \n",
       "395               238.0  9.179174         4.0  \n",
       "599               265.0  9.144265         5.0  \n",
       "467               287.0  9.076233         6.0  \n",
       "1349              239.0  9.058427         7.0  \n",
       "1617              293.0  8.992177         8.0  \n",
       "2273              319.0  8.963788         9.0  \n",
       "1139              288.0  8.954137        10.0  \n",
       "1828              294.0  8.926792        11.0  \n",
       "209               317.0  8.925898        12.0  \n",
       "709               355.0  8.908570        13.0  \n",
       "2043              354.0  8.874032        14.0  \n",
       "2247              494.0  8.844793        15.0  "
      ]
     },
     "execution_count": 34,
     "metadata": {},
     "output_type": "execute_result"
    }
   ],
   "source": [
    "drama_df = drama_df.sort_values('score', ascending=False) # sort dramas based on score calculated above\n",
    "drama_df[\"score_rank\"] = drama_df[\"score\"].rank(method='min',ascending=False) # give rank based on new score\n",
    "# drama_df[['drama_title', 'no_ratings', 'mean_ratings', 'score']].head(15) # top 15 dramas\n",
    "drama_df.head(15)"
   ]
  },
  {
   "cell_type": "markdown",
   "metadata": {},
   "source": [
    "At first glance it seems that the new score is just a lower variation of the mean rating. On closer inspection, we see that it takes into account the number of viewers that rated it.\n",
    "\n",
    "Now, lets see what happened to 15 of the dramas that have a mean rating of 1.0. Despite having the top rank based on mean rating, they do poorly in the rank based on the new score. The drama with a higher number of rating scores higher in rank (SPEC: Birth (2010) with 6 ratings ranks 140) compared to those with the same mean rating but lower number of ratings (You're So Beautiful (2011) with 2 ratings ranks a meagre 413)."
   ]
  },
  {
   "cell_type": "code",
   "execution_count": 36,
   "metadata": {},
   "outputs": [
    {
     "data": {
      "text/html": [
       "<div>\n",
       "<style scoped>\n",
       "    .dataframe tbody tr th:only-of-type {\n",
       "        vertical-align: middle;\n",
       "    }\n",
       "\n",
       "    .dataframe tbody tr th {\n",
       "        vertical-align: top;\n",
       "    }\n",
       "\n",
       "    .dataframe thead th {\n",
       "        text-align: right;\n",
       "    }\n",
       "</style>\n",
       "<table border=\"1\" class=\"dataframe\">\n",
       "  <thead>\n",
       "    <tr style=\"text-align: right;\">\n",
       "      <th></th>\n",
       "      <th>drama_title</th>\n",
       "      <th>no_ratings</th>\n",
       "      <th>mean_ratings</th>\n",
       "      <th>mean_ratings_rank</th>\n",
       "      <th>score</th>\n",
       "      <th>score_rank</th>\n",
       "    </tr>\n",
       "  </thead>\n",
       "  <tbody>\n",
       "    <tr>\n",
       "      <td>1683</td>\n",
       "      <td>SPEC: Birth (2010)</td>\n",
       "      <td>6</td>\n",
       "      <td>10.0</td>\n",
       "      <td>1.0</td>\n",
       "      <td>8.368871</td>\n",
       "      <td>140.0</td>\n",
       "    </tr>\n",
       "    <tr>\n",
       "      <td>538</td>\n",
       "      <td>Friend Zone (2018)</td>\n",
       "      <td>4</td>\n",
       "      <td>10.0</td>\n",
       "      <td>1.0</td>\n",
       "      <td>8.238381</td>\n",
       "      <td>230.0</td>\n",
       "    </tr>\n",
       "    <tr>\n",
       "      <td>2379</td>\n",
       "      <td>dele (2018)</td>\n",
       "      <td>4</td>\n",
       "      <td>10.0</td>\n",
       "      <td>1.0</td>\n",
       "      <td>8.238381</td>\n",
       "      <td>230.0</td>\n",
       "    </tr>\n",
       "    <tr>\n",
       "      <td>2018</td>\n",
       "      <td>The Judgement (2018)</td>\n",
       "      <td>3</td>\n",
       "      <td>10.0</td>\n",
       "      <td>1.0</td>\n",
       "      <td>8.164980</td>\n",
       "      <td>298.0</td>\n",
       "    </tr>\n",
       "    <tr>\n",
       "      <td>1132</td>\n",
       "      <td>Love Story in Harvard (2004)</td>\n",
       "      <td>3</td>\n",
       "      <td>10.0</td>\n",
       "      <td>1.0</td>\n",
       "      <td>8.164980</td>\n",
       "      <td>298.0</td>\n",
       "    </tr>\n",
       "    <tr>\n",
       "      <td>2128</td>\n",
       "      <td>Tiger &amp; Dragon (2005)</td>\n",
       "      <td>3</td>\n",
       "      <td>10.0</td>\n",
       "      <td>1.0</td>\n",
       "      <td>8.164980</td>\n",
       "      <td>298.0</td>\n",
       "    </tr>\n",
       "    <tr>\n",
       "      <td>203</td>\n",
       "      <td>Beautiful Rain  (2012)</td>\n",
       "      <td>3</td>\n",
       "      <td>10.0</td>\n",
       "      <td>1.0</td>\n",
       "      <td>8.164980</td>\n",
       "      <td>298.0</td>\n",
       "    </tr>\n",
       "    <tr>\n",
       "      <td>101</td>\n",
       "      <td>All In (2003)</td>\n",
       "      <td>3</td>\n",
       "      <td>10.0</td>\n",
       "      <td>1.0</td>\n",
       "      <td>8.164980</td>\n",
       "      <td>298.0</td>\n",
       "    </tr>\n",
       "    <tr>\n",
       "      <td>2357</td>\n",
       "      <td>You're So Beautiful (2011)</td>\n",
       "      <td>2</td>\n",
       "      <td>10.0</td>\n",
       "      <td>1.0</td>\n",
       "      <td>8.085197</td>\n",
       "      <td>413.0</td>\n",
       "    </tr>\n",
       "    <tr>\n",
       "      <td>218</td>\n",
       "      <td>Best Mistake (2019)</td>\n",
       "      <td>2</td>\n",
       "      <td>10.0</td>\n",
       "      <td>1.0</td>\n",
       "      <td>8.085197</td>\n",
       "      <td>413.0</td>\n",
       "    </tr>\n",
       "    <tr>\n",
       "      <td>634</td>\n",
       "      <td>Goodbye to Goodbye (2018)</td>\n",
       "      <td>2</td>\n",
       "      <td>10.0</td>\n",
       "      <td>1.0</td>\n",
       "      <td>8.085197</td>\n",
       "      <td>413.0</td>\n",
       "    </tr>\n",
       "    <tr>\n",
       "      <td>2276</td>\n",
       "      <td>What Did You Eat Yesterday? (2019)</td>\n",
       "      <td>2</td>\n",
       "      <td>10.0</td>\n",
       "      <td>1.0</td>\n",
       "      <td>8.085197</td>\n",
       "      <td>413.0</td>\n",
       "    </tr>\n",
       "    <tr>\n",
       "      <td>1775</td>\n",
       "      <td>Shinsengumi! (2004)</td>\n",
       "      <td>2</td>\n",
       "      <td>10.0</td>\n",
       "      <td>1.0</td>\n",
       "      <td>8.085197</td>\n",
       "      <td>413.0</td>\n",
       "    </tr>\n",
       "    <tr>\n",
       "      <td>606</td>\n",
       "      <td>God's Quiz Season 4 (2014)</td>\n",
       "      <td>2</td>\n",
       "      <td>10.0</td>\n",
       "      <td>1.0</td>\n",
       "      <td>8.085197</td>\n",
       "      <td>413.0</td>\n",
       "    </tr>\n",
       "    <tr>\n",
       "      <td>488</td>\n",
       "      <td>Fall in Love (2019)</td>\n",
       "      <td>2</td>\n",
       "      <td>10.0</td>\n",
       "      <td>1.0</td>\n",
       "      <td>8.085197</td>\n",
       "      <td>413.0</td>\n",
       "    </tr>\n",
       "  </tbody>\n",
       "</table>\n",
       "</div>"
      ],
      "text/plain": [
       "                             drama_title  no_ratings  mean_ratings  \\\n",
       "1683                  SPEC: Birth (2010)           6          10.0   \n",
       "538                   Friend Zone (2018)           4          10.0   \n",
       "2379                         dele (2018)           4          10.0   \n",
       "2018                The Judgement (2018)           3          10.0   \n",
       "1132        Love Story in Harvard (2004)           3          10.0   \n",
       "2128               Tiger & Dragon (2005)           3          10.0   \n",
       "203               Beautiful Rain  (2012)           3          10.0   \n",
       "101                        All In (2003)           3          10.0   \n",
       "2357          You're So Beautiful (2011)           2          10.0   \n",
       "218                  Best Mistake (2019)           2          10.0   \n",
       "634            Goodbye to Goodbye (2018)           2          10.0   \n",
       "2276  What Did You Eat Yesterday? (2019)           2          10.0   \n",
       "1775                 Shinsengumi! (2004)           2          10.0   \n",
       "606           God's Quiz Season 4 (2014)           2          10.0   \n",
       "488                  Fall in Love (2019)           2          10.0   \n",
       "\n",
       "      mean_ratings_rank     score  score_rank  \n",
       "1683                1.0  8.368871       140.0  \n",
       "538                 1.0  8.238381       230.0  \n",
       "2379                1.0  8.238381       230.0  \n",
       "2018                1.0  8.164980       298.0  \n",
       "1132                1.0  8.164980       298.0  \n",
       "2128                1.0  8.164980       298.0  \n",
       "203                 1.0  8.164980       298.0  \n",
       "101                 1.0  8.164980       298.0  \n",
       "2357                1.0  8.085197       413.0  \n",
       "218                 1.0  8.085197       413.0  \n",
       "634                 1.0  8.085197       413.0  \n",
       "2276                1.0  8.085197       413.0  \n",
       "1775                1.0  8.085197       413.0  \n",
       "606                 1.0  8.085197       413.0  \n",
       "488                 1.0  8.085197       413.0  "
      ]
     },
     "execution_count": 36,
     "metadata": {},
     "output_type": "execute_result"
    }
   ],
   "source": [
    "drama_df[drama_df['mean_ratings_rank'] == 1.0].head(15)"
   ]
  },
  {
   "cell_type": "markdown",
   "metadata": {},
   "source": [
    "## 2. Content-Based Recommender\n",
    "\n",
    "### Plot Description Based Recommender\n",
    "\n",
    "Here, we give recommendations based on how similar the plots are. The similarity metrics used here is the cosine similarity. As we are not able to directly use the synopsis text, we will first convert them into numerical representation using TF-IDF."
   ]
  },
  {
   "cell_type": "code",
   "execution_count": 2,
   "metadata": {},
   "outputs": [
    {
     "data": {
      "text/html": [
       "<div>\n",
       "<style scoped>\n",
       "    .dataframe tbody tr th:only-of-type {\n",
       "        vertical-align: middle;\n",
       "    }\n",
       "\n",
       "    .dataframe tbody tr th {\n",
       "        vertical-align: top;\n",
       "    }\n",
       "\n",
       "    .dataframe thead th {\n",
       "        text-align: right;\n",
       "    }\n",
       "</style>\n",
       "<table border=\"1\" class=\"dataframe\">\n",
       "  <thead>\n",
       "    <tr style=\"text-align: right;\">\n",
       "      <th></th>\n",
       "      <th>drama_title</th>\n",
       "      <th>year</th>\n",
       "      <th>main_actors</th>\n",
       "      <th>genres</th>\n",
       "      <th>tags</th>\n",
       "      <th>synopsis</th>\n",
       "    </tr>\n",
       "  </thead>\n",
       "  <tbody>\n",
       "    <tr>\n",
       "      <td>0</td>\n",
       "      <td>The Untamed (2019)</td>\n",
       "      <td>2019</td>\n",
       "      <td>Sean Xiao, Wang Yi Bo</td>\n",
       "      <td>Action,  Adventure,  Friendship,  Historical, ...</td>\n",
       "      <td>Censored Romance, Tragic Past, Adapted From A ...</td>\n",
       "      <td>Wei Wuxian and Lan Wangji are two completely d...</td>\n",
       "    </tr>\n",
       "    <tr>\n",
       "      <td>1</td>\n",
       "      <td>My Mister (2018)</td>\n",
       "      <td>2018</td>\n",
       "      <td>Lee Sun Kyun, IU</td>\n",
       "      <td>Business,  Psychological,  Life,  Drama,  Fami...</td>\n",
       "      <td>Nice Male Lead, Strong Female Lead, Healing, I...</td>\n",
       "      <td>Park Dong Hoon is a middle-aged engineer who i...</td>\n",
       "    </tr>\n",
       "    <tr>\n",
       "      <td>2</td>\n",
       "      <td>Signal (2016)</td>\n",
       "      <td>2016</td>\n",
       "      <td>Lee Je Hoon, Kim Hye Soo, Jo Jin Woong</td>\n",
       "      <td>Suspense,  Mystery,  Crime,  Drama,  Supernatu...</td>\n",
       "      <td>Different Timelines, Criminal Profiler, Serial...</td>\n",
       "      <td>Fifteen years ago, a young girl was kidnapped ...</td>\n",
       "    </tr>\n",
       "    <tr>\n",
       "      <td>3</td>\n",
       "      <td>Nirvana in Fire (2015)</td>\n",
       "      <td>2015</td>\n",
       "      <td>Hu Ge, Tamia Liu, Wang Kai, Chen Long, Leo Wu,...</td>\n",
       "      <td>Friendship,  Historical,  Wuxia,  Drama,  Fant...</td>\n",
       "      <td>Bromance, Smart Male Lead, Political Intrigue,...</td>\n",
       "      <td>During the Datong era of the Southern Liang Dy...</td>\n",
       "    </tr>\n",
       "    <tr>\n",
       "      <td>4</td>\n",
       "      <td>Prison Playbook (2017)</td>\n",
       "      <td>2017</td>\n",
       "      <td>Park Hae Soo, Jung Kyung Ho</td>\n",
       "      <td>Friendship,  Comedy,  Life,  Drama</td>\n",
       "      <td>Prison, Bromance, Slight Romance, Black Comedy...</td>\n",
       "      <td>Kim Je Hyuk, a famous baseball player, is conv...</td>\n",
       "    </tr>\n",
       "  </tbody>\n",
       "</table>\n",
       "</div>"
      ],
      "text/plain": [
       "              drama_title  year  \\\n",
       "0      The Untamed (2019)  2019   \n",
       "1        My Mister (2018)  2018   \n",
       "2           Signal (2016)  2016   \n",
       "3  Nirvana in Fire (2015)  2015   \n",
       "4  Prison Playbook (2017)  2017   \n",
       "\n",
       "                                         main_actors  \\\n",
       "0                              Sean Xiao, Wang Yi Bo   \n",
       "1                                   Lee Sun Kyun, IU   \n",
       "2             Lee Je Hoon, Kim Hye Soo, Jo Jin Woong   \n",
       "3  Hu Ge, Tamia Liu, Wang Kai, Chen Long, Leo Wu,...   \n",
       "4                        Park Hae Soo, Jung Kyung Ho   \n",
       "\n",
       "                                              genres  \\\n",
       "0  Action,  Adventure,  Friendship,  Historical, ...   \n",
       "1  Business,  Psychological,  Life,  Drama,  Fami...   \n",
       "2  Suspense,  Mystery,  Crime,  Drama,  Supernatu...   \n",
       "3  Friendship,  Historical,  Wuxia,  Drama,  Fant...   \n",
       "4               Friendship,  Comedy,  Life,  Drama     \n",
       "\n",
       "                                                tags  \\\n",
       "0  Censored Romance, Tragic Past, Adapted From A ...   \n",
       "1  Nice Male Lead, Strong Female Lead, Healing, I...   \n",
       "2  Different Timelines, Criminal Profiler, Serial...   \n",
       "3  Bromance, Smart Male Lead, Political Intrigue,...   \n",
       "4  Prison, Bromance, Slight Romance, Black Comedy...   \n",
       "\n",
       "                                            synopsis  \n",
       "0  Wei Wuxian and Lan Wangji are two completely d...  \n",
       "1  Park Dong Hoon is a middle-aged engineer who i...  \n",
       "2  Fifteen years ago, a young girl was kidnapped ...  \n",
       "3  During the Datong era of the Southern Liang Dy...  \n",
       "4  Kim Je Hyuk, a famous baseball player, is conv...  "
      ]
     },
     "execution_count": 2,
     "metadata": {},
     "output_type": "execute_result"
    }
   ],
   "source": [
    "df = pd.read_csv('drama_list.csv')\n",
    "df.head()"
   ]
  },
  {
   "cell_type": "code",
   "execution_count": 3,
   "metadata": {},
   "outputs": [
    {
     "data": {
      "text/plain": [
       "(4999, 23363)"
      ]
     },
     "execution_count": 3,
     "metadata": {},
     "output_type": "execute_result"
    }
   ],
   "source": [
    "from sklearn.feature_extraction.text import TfidfVectorizer\n",
    "\n",
    "#Define a TF-IDF Vectorizer Object. Remove all english stop words such as 'the', 'a'\n",
    "tfidf = TfidfVectorizer(stop_words='english')\n",
    "\n",
    "#Replace NaN with an empty string\n",
    "df['synopsis'] = df['synopsis'].fillna('') # some dramas might not have synopsis\n",
    "\n",
    "#Construct the required TF-IDF matrix by fitting and transforming the data\n",
    "tfidf_matrix = tfidf.fit_transform(df['synopsis'])\n",
    "\n",
    "tfidf_matrix.shape"
   ]
  },
  {
   "cell_type": "markdown",
   "metadata": {},
   "source": [
    "Over 23,000 words are used to describe 4,999 dramas.\n",
    "\n",
    "### Calculate consine similarity\n",
    "\n",
    "A consine similarity score is calculated between each pair of dramas. The dramas with the highest similarity score will be returned."
   ]
  },
  {
   "cell_type": "code",
   "execution_count": 4,
   "metadata": {},
   "outputs": [],
   "source": [
    "from sklearn.metrics.pairwise import linear_kernel\n",
    "\n",
    "# Compute the cosine similarity matrix\n",
    "cosine_sim = linear_kernel(tfidf_matrix, tfidf_matrix)"
   ]
  },
  {
   "cell_type": "code",
   "execution_count": 5,
   "metadata": {},
   "outputs": [],
   "source": [
    "#Construct a reverse map of indices and movie titles\n",
    "indices = pd.Series(df.index, index=df['drama_title']).drop_duplicates()"
   ]
  },
  {
   "cell_type": "code",
   "execution_count": 6,
   "metadata": {},
   "outputs": [],
   "source": [
    "# Function that takes in drama title as input and outputs most similar dramas\n",
    "def get_recommendations(title, cosine_sim=cosine_sim):\n",
    "    # Get the index of the drama that matches the title\n",
    "    idx = indices[title]\n",
    "\n",
    "    # Get the pairwsie similarity scores of all dramas with that drama\n",
    "    sim_scores = list(enumerate(cosine_sim[idx]))\n",
    "\n",
    "    # Sort the dramas based on the similarity scores\n",
    "    sim_scores = sorted(sim_scores, key=lambda x: x[1], reverse=True)\n",
    "\n",
    "    # Get the scores of the 10 most similar drama\n",
    "    sim_scores = sim_scores[1:11]\n",
    "\n",
    "    # Get the drama indices\n",
    "    drama_indices = [i[0] for i in sim_scores]\n",
    "\n",
    "    # Return the top 10 most similar movies\n",
    "    return df['drama_title'].iloc[drama_indices]"
   ]
  },
  {
   "cell_type": "code",
   "execution_count": 7,
   "metadata": {},
   "outputs": [
    {
     "data": {
      "text/plain": [
       "4306                                 The Switch II (2002)\n",
       "3197                           The Emperor's Harem (2011)\n",
       "1782                               Emperors and Me (2019)\n",
       "1068                 Granting You a Dreamlike Life (2018)\n",
       "1308                          Suddenly This Summer (2018)\n",
       "4939                                     Tiger Mom (2015)\n",
       "3128                          The Rippling Blossom (2011)\n",
       "2886                           Empress Myeongseong (2001)\n",
       "4178    The Voyage of Emperor Qian Long to Jiang Nan (...\n",
       "1192                         Legend of the Phoenix (2019)\n",
       "Name: drama_title, dtype: object"
      ]
     },
     "execution_count": 7,
     "metadata": {},
     "output_type": "execute_result"
    }
   ],
   "source": [
    "get_recommendations('Story of Yanxi Palace (2018)')"
   ]
  },
  {
   "cell_type": "code",
   "execution_count": 8,
   "metadata": {},
   "outputs": [
    {
     "data": {
      "text/plain": [
       "2135                  The Magicians of Love (2006)\n",
       "2696    Rent a Girlfriend Home for New Year (2010)\n",
       "59                        The King’s Avatar (2019)\n",
       "2654                   Happy & Love Forever (2010)\n",
       "3424                           Painted Skin (2011)\n",
       "708                              I Hear You (2019)\n",
       "1456                           Stay With Me (2016)\n",
       "808              Oh! My Emperor: Season Two (2018)\n",
       "4435                       Waiting to Bloom (2013)\n",
       "1033                   Murphy's Law of Love (2015)\n",
       "Name: drama_title, dtype: object"
      ]
     },
     "execution_count": 8,
     "metadata": {},
     "output_type": "execute_result"
    }
   ],
   "source": [
    "get_recommendations('Love O2O (2016)')"
   ]
  },
  {
   "cell_type": "markdown",
   "metadata": {},
   "source": [
    "There are some good recommendations here. Love O2O (2016) and The King’s Avatar (2019) are both based on gaming. The main leads excel at gaming and they continue to succeed on in their field.\n",
    "\n",
    "The recommendations for Story of Yanxi Palace (2018) are mostly historical palace dramas, with leads scheming against each other."
   ]
  },
  {
   "cell_type": "markdown",
   "metadata": {},
   "source": [
    "### Main Actors, Genres and Keywords Based Recommender\n",
    "\n",
    "A similar concept is used. However this time, instead of the synopsis, we focus on the main actors, tags and genres."
   ]
  },
  {
   "cell_type": "code",
   "execution_count": 9,
   "metadata": {},
   "outputs": [],
   "source": [
    "# Function to convert all strings to lower case and strip names of spaces\n",
    "def clean_data(x):\n",
    "    if isinstance(x, list):\n",
    "        return [str.lower(i.replace(\" \", \"\")) for i in x]\n",
    "    else:\n",
    "        #Check if director exists. If not, return empty string\n",
    "        if isinstance(x, str):\n",
    "            return str.lower(x.replace(\" \", \"\"))\n",
    "        else:\n",
    "            return ''"
   ]
  },
  {
   "cell_type": "code",
   "execution_count": 10,
   "metadata": {},
   "outputs": [],
   "source": [
    "# Apply clean_data function to your features.\n",
    "features = ['main_actors','tags','genres']\n",
    "\n",
    "for feature in features:\n",
    "    df[feature] = df[feature].apply(clean_data)"
   ]
  },
  {
   "cell_type": "code",
   "execution_count": 12,
   "metadata": {},
   "outputs": [],
   "source": [
    "# Create function that combines the text of main actors, tags and genres\n",
    "def create_soup(x):\n",
    "    return x['main_actors']+' '+x['tags']+' '+x['genres']"
   ]
  },
  {
   "cell_type": "code",
   "execution_count": 13,
   "metadata": {},
   "outputs": [],
   "source": [
    "# Create a new soup feature\n",
    "df['soup'] = df.apply(create_soup, axis=1)"
   ]
  },
  {
   "cell_type": "code",
   "execution_count": 14,
   "metadata": {},
   "outputs": [],
   "source": [
    "# Import CountVectorizer and create the count matrix\n",
    "from sklearn.feature_extraction.text import CountVectorizer\n",
    "\n",
    "count = CountVectorizer(stop_words='english')\n",
    "count_matrix = count.fit_transform(df['soup'])"
   ]
  },
  {
   "cell_type": "code",
   "execution_count": 15,
   "metadata": {},
   "outputs": [],
   "source": [
    "# Compute the Cosine Similarity matrix based on the count_matrix\n",
    "from sklearn.metrics.pairwise import cosine_similarity\n",
    "\n",
    "cosine_sim2 = cosine_similarity(count_matrix, count_matrix)"
   ]
  },
  {
   "cell_type": "code",
   "execution_count": 16,
   "metadata": {},
   "outputs": [],
   "source": [
    "# Reset index of your main DataFrame and construct reverse mapping as before\n",
    "df = df.reset_index()\n",
    "indices = pd.Series(df.index, index=df['drama_title'])"
   ]
  },
  {
   "cell_type": "code",
   "execution_count": 17,
   "metadata": {},
   "outputs": [
    {
     "data": {
      "text/plain": [
       "4836                    Jao Sao Ban Rai (2006)\n",
       "774                The Flame's Daughter (2018)\n",
       "4812                           Prissana (2000)\n",
       "962                          Ngao Asoke (2016)\n",
       "4941                     Kehas See Dang (2011)\n",
       "3992                       Maiden's Vow (2006)\n",
       "2477                      Rosy Business (2009)\n",
       "1585                       Plerng Naree (2016)\n",
       "4598                       I'm So Smart (2013)\n",
       "555     Ruyi's Royal Love in the Palace (2018)\n",
       "Name: drama_title, dtype: object"
      ]
     },
     "execution_count": 17,
     "metadata": {},
     "output_type": "execute_result"
    }
   ],
   "source": [
    "get_recommendations('Story of Yanxi Palace (2018)', cosine_sim2)"
   ]
  },
  {
   "cell_type": "code",
   "execution_count": 18,
   "metadata": {},
   "outputs": [
    {
     "data": {
      "text/plain": [
       "2098     Ugly Duckling Series: Pity Girl (2015)\n",
       "591         U-Prince: The Badly Politics (2017)\n",
       "834       U-Prince: The Lovely Geologist (2016)\n",
       "1597    U-Prince: The Absolute Economist (2016)\n",
       "4044                    Dream of Colours (2004)\n",
       "647                    The Sand Princess (2019)\n",
       "4598                        I'm So Smart (2013)\n",
       "1496     U-Prince: The Playful Comm-Arts (2017)\n",
       "96          Put Your Head on My Shoulder (2019)\n",
       "1153                         My Dear Boy (2017)\n",
       "Name: drama_title, dtype: object"
      ]
     },
     "execution_count": 18,
     "metadata": {},
     "output_type": "execute_result"
    }
   ],
   "source": [
    "get_recommendations('Love O2O (2016)', cosine_sim2)"
   ]
  },
  {
   "cell_type": "markdown",
   "metadata": {},
   "source": [
    "Good recommendations are given here as well. Strong female leads with a historical stance are present in Story of Yanxi Palace (2018) and The Flame's Daughter (2018). Yanxi Palace was set in the Qing dynasty, which is the same as Ruyi's Royal Love in the Palace (2018).\n",
    "\n",
    "Both Love O2O (2016) and Put Your Head on My Shoulder (2019) have a youth/university setting, with romance and an adorable female lead as the commonality."
   ]
  },
  {
   "cell_type": "markdown",
   "metadata": {},
   "source": [
    "Source: https://www.datacamp.com/community/tutorials/recommender-systems-python"
   ]
  }
 ],
 "metadata": {
  "kernelspec": {
   "display_name": "Python 3",
   "language": "python",
   "name": "python3"
  },
  "language_info": {
   "codemirror_mode": {
    "name": "ipython",
    "version": 3
   },
   "file_extension": ".py",
   "mimetype": "text/x-python",
   "name": "python",
   "nbconvert_exporter": "python",
   "pygments_lexer": "ipython3",
   "version": "3.7.4"
  }
 },
 "nbformat": 4,
 "nbformat_minor": 2
}
