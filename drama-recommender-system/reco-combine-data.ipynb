{
 "cells": [
  {
   "cell_type": "markdown",
   "metadata": {},
   "source": [
    "# Concatenate DataFrames\n",
    "\n",
    "As I scraped the website in batches, I had to join the DataFrames into one single CSV file.\n",
    "\n",
    "## 1. Import Pandas Library"
   ]
  },
  {
   "cell_type": "code",
   "execution_count": 1,
   "metadata": {},
   "outputs": [],
   "source": [
    "import pandas as pd"
   ]
  },
  {
   "cell_type": "markdown",
   "metadata": {},
   "source": [
    "## 2. Read CSV File and Concatenate All Files\n",
    "\n",
    "Since there were other irrelevant CSV files in the same folder, I could not use the os or glob method to identify the CSV files present in the folder. I had to list the names of the CSV files, loop through the list to read the CSV files, and then concatenate them."
   ]
  },
  {
   "cell_type": "code",
   "execution_count": 7,
   "metadata": {},
   "outputs": [],
   "source": [
    "# names of CSV files\n",
    "csvfiles = ['drama_list1.csv','drama_list2.csv','drama_list3.csv','drama_list4.csv','drama_list5.csv','drama_list6.csv']\n",
    "\n",
    "# loop through the files and read them in with pandas\n",
    "dataframes = []  # a list to hold all the individual pandas DataFrames\n",
    "for csvfile in csvfiles:\n",
    "    df = pd.read_csv(csvfile)\n",
    "    dataframes.append(df)\n",
    "\n",
    "# concatenate them all together\n",
    "result = pd.concat(dataframes, ignore_index=True)"
   ]
  },
  {
   "cell_type": "markdown",
   "metadata": {},
   "source": [
    "Drop duplicated rows based on title. The later few pages repeat the display of dramas."
   ]
  },
  {
   "cell_type": "code",
   "execution_count": 8,
   "metadata": {},
   "outputs": [],
   "source": [
    "result = result.drop_duplicates(subset=['drama_title'])"
   ]
  },
  {
   "cell_type": "markdown",
   "metadata": {},
   "source": [
    "## 3. Explore Data"
   ]
  },
  {
   "cell_type": "code",
   "execution_count": 9,
   "metadata": {},
   "outputs": [
    {
     "data": {
      "text/html": [
       "<div>\n",
       "<style scoped>\n",
       "    .dataframe tbody tr th:only-of-type {\n",
       "        vertical-align: middle;\n",
       "    }\n",
       "\n",
       "    .dataframe tbody tr th {\n",
       "        vertical-align: top;\n",
       "    }\n",
       "\n",
       "    .dataframe thead th {\n",
       "        text-align: right;\n",
       "    }\n",
       "</style>\n",
       "<table border=\"1\" class=\"dataframe\">\n",
       "  <thead>\n",
       "    <tr style=\"text-align: right;\">\n",
       "      <th></th>\n",
       "      <th>drama_title</th>\n",
       "      <th>year</th>\n",
       "      <th>main_actors</th>\n",
       "      <th>genres</th>\n",
       "      <th>tags</th>\n",
       "      <th>synopsis</th>\n",
       "    </tr>\n",
       "  </thead>\n",
       "  <tbody>\n",
       "    <tr>\n",
       "      <td>0</td>\n",
       "      <td>The Untamed (2019)</td>\n",
       "      <td>2019</td>\n",
       "      <td>Sean Xiao, Wang Yi Bo</td>\n",
       "      <td>Action,  Adventure,  Friendship,  Historical, ...</td>\n",
       "      <td>Censored Romance, Tragic Past, Adapted From A ...</td>\n",
       "      <td>Wei Wuxian and Lan Wangji are two completely d...</td>\n",
       "    </tr>\n",
       "    <tr>\n",
       "      <td>1</td>\n",
       "      <td>My Mister (2018)</td>\n",
       "      <td>2018</td>\n",
       "      <td>Lee Sun Kyun, IU</td>\n",
       "      <td>Business,  Psychological,  Life,  Drama,  Fami...</td>\n",
       "      <td>Nice Male Lead, Strong Female Lead, Healing, I...</td>\n",
       "      <td>Park Dong Hoon is a middle-aged engineer who i...</td>\n",
       "    </tr>\n",
       "    <tr>\n",
       "      <td>2</td>\n",
       "      <td>Signal (2016)</td>\n",
       "      <td>2016</td>\n",
       "      <td>Lee Je Hoon, Kim Hye Soo, Jo Jin Woong</td>\n",
       "      <td>Suspense,  Mystery,  Crime,  Drama,  Supernatu...</td>\n",
       "      <td>Different Timelines, Criminal Profiler, Serial...</td>\n",
       "      <td>Fifteen years ago, a young girl was kidnapped ...</td>\n",
       "    </tr>\n",
       "    <tr>\n",
       "      <td>3</td>\n",
       "      <td>Nirvana in Fire (2015)</td>\n",
       "      <td>2015</td>\n",
       "      <td>Hu Ge, Tamia Liu, Wang Kai, Chen Long, Leo Wu,...</td>\n",
       "      <td>Friendship,  Historical,  Wuxia,  Drama,  Fant...</td>\n",
       "      <td>Bromance, Smart Male Lead, Political Intrigue,...</td>\n",
       "      <td>During the Datong era of the Southern Liang Dy...</td>\n",
       "    </tr>\n",
       "    <tr>\n",
       "      <td>4</td>\n",
       "      <td>Prison Playbook (2017)</td>\n",
       "      <td>2017</td>\n",
       "      <td>Park Hae Soo, Jung Kyung Ho</td>\n",
       "      <td>Friendship,  Comedy,  Life,  Drama</td>\n",
       "      <td>Prison, Bromance, Slight Romance, Black Comedy...</td>\n",
       "      <td>Kim Je Hyuk, a famous baseball player, is conv...</td>\n",
       "    </tr>\n",
       "  </tbody>\n",
       "</table>\n",
       "</div>"
      ],
      "text/plain": [
       "              drama_title  year  \\\n",
       "0      The Untamed (2019)  2019   \n",
       "1        My Mister (2018)  2018   \n",
       "2           Signal (2016)  2016   \n",
       "3  Nirvana in Fire (2015)  2015   \n",
       "4  Prison Playbook (2017)  2017   \n",
       "\n",
       "                                         main_actors  \\\n",
       "0                              Sean Xiao, Wang Yi Bo   \n",
       "1                                   Lee Sun Kyun, IU   \n",
       "2             Lee Je Hoon, Kim Hye Soo, Jo Jin Woong   \n",
       "3  Hu Ge, Tamia Liu, Wang Kai, Chen Long, Leo Wu,...   \n",
       "4                        Park Hae Soo, Jung Kyung Ho   \n",
       "\n",
       "                                              genres  \\\n",
       "0  Action,  Adventure,  Friendship,  Historical, ...   \n",
       "1  Business,  Psychological,  Life,  Drama,  Fami...   \n",
       "2  Suspense,  Mystery,  Crime,  Drama,  Supernatu...   \n",
       "3  Friendship,  Historical,  Wuxia,  Drama,  Fant...   \n",
       "4               Friendship,  Comedy,  Life,  Drama     \n",
       "\n",
       "                                                tags  \\\n",
       "0  Censored Romance, Tragic Past, Adapted From A ...   \n",
       "1  Nice Male Lead, Strong Female Lead, Healing, I...   \n",
       "2  Different Timelines, Criminal Profiler, Serial...   \n",
       "3  Bromance, Smart Male Lead, Political Intrigue,...   \n",
       "4  Prison, Bromance, Slight Romance, Black Comedy...   \n",
       "\n",
       "                                            synopsis  \n",
       "0  Wei Wuxian and Lan Wangji are two completely d...  \n",
       "1  Park Dong Hoon is a middle-aged engineer who i...  \n",
       "2  Fifteen years ago, a young girl was kidnapped ...  \n",
       "3  During the Datong era of the Southern Liang Dy...  \n",
       "4  Kim Je Hyuk, a famous baseball player, is conv...  "
      ]
     },
     "execution_count": 9,
     "metadata": {},
     "output_type": "execute_result"
    }
   ],
   "source": [
    "result.head()"
   ]
  },
  {
   "cell_type": "code",
   "execution_count": 10,
   "metadata": {},
   "outputs": [
    {
     "name": "stdout",
     "output_type": "stream",
     "text": [
      "<class 'pandas.core.frame.DataFrame'>\n",
      "Int64Index: 4999 entries, 0 to 4999\n",
      "Data columns (total 6 columns):\n",
      "drama_title    4999 non-null object\n",
      "year           4999 non-null object\n",
      "main_actors    4925 non-null object\n",
      "genres         4757 non-null object\n",
      "tags           2908 non-null object\n",
      "synopsis       4980 non-null object\n",
      "dtypes: object(6)\n",
      "memory usage: 273.4+ KB\n"
     ]
    }
   ],
   "source": [
    "result.info()"
   ]
  },
  {
   "cell_type": "markdown",
   "metadata": {},
   "source": [
    "There are 4999 unique dramas in the DataFrame. All dramas have a title and the year they were released. Only slightly more than half of the dramas have tags. This is understandable since tags were created by fans, and it undergoes voting. "
   ]
  },
  {
   "cell_type": "markdown",
   "metadata": {},
   "source": [
    "## 4. Save CSV File"
   ]
  },
  {
   "cell_type": "code",
   "execution_count": 12,
   "metadata": {},
   "outputs": [],
   "source": [
    "# print out to a new csv file\n",
    "result.to_csv('drama_list.csv',index=False)"
   ]
  }
 ],
 "metadata": {
  "kernelspec": {
   "display_name": "Python 3",
   "language": "python",
   "name": "python3"
  },
  "language_info": {
   "codemirror_mode": {
    "name": "ipython",
    "version": 3
   },
   "file_extension": ".py",
   "mimetype": "text/x-python",
   "name": "python",
   "nbconvert_exporter": "python",
   "pygments_lexer": "ipython3",
   "version": "3.7.4"
  }
 },
 "nbformat": 4,
 "nbformat_minor": 2
}
