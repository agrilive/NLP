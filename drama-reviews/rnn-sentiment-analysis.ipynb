{
  "nbformat": 4,
  "nbformat_minor": 0,
  "metadata": {
    "colab": {
      "name": "drama-tensorflow.ipynb",
      "provenance": [],
      "collapsed_sections": [],
      "authorship_tag": "ABX9TyNTv/drEtE5r1LuE5aV79ab"
    },
    "kernelspec": {
      "name": "python3",
      "display_name": "Python 3"
    }
  },
  "cells": [
    {
      "cell_type": "code",
      "metadata": {
        "id": "xadXplRq7ATN",
        "colab_type": "code",
        "colab": {
          "base_uri": "https://localhost:8080/",
          "height": 35
        },
        "outputId": "f731af54-4101-4722-b570-b0586c2e55dc"
      },
      "source": [
        "from google.colab import drive\n",
        "drive.mount('/content/drive')"
      ],
      "execution_count": 1,
      "outputs": [
        {
          "output_type": "stream",
          "text": [
            "Drive already mounted at /content/drive; to attempt to forcibly remount, call drive.mount(\"/content/drive\", force_remount=True).\n"
          ],
          "name": "stdout"
        }
      ]
    },
    {
      "cell_type": "code",
      "metadata": {
        "id": "U1cmhoGh7YlH",
        "colab_type": "code",
        "colab": {}
      },
      "source": [
        "import numpy as np\n",
        "import pandas as pd"
      ],
      "execution_count": 0,
      "outputs": []
    },
    {
      "cell_type": "code",
      "metadata": {
        "id": "1x17zQmi7JJu",
        "colab_type": "code",
        "colab": {
          "base_uri": "https://localhost:8080/",
          "height": 510
        },
        "outputId": "1167335d-6dc3-4f21-8019-cccada3f90f0"
      },
      "source": [
        "path = '/content/drive/My Drive/drama-reviews'\n",
        "reviews_csv = 'drama_reviews_processed.csv'\n",
        "\n",
        "df = pd.read_csv(path+'/'+reviews_csv)\n",
        "df.head()"
      ],
      "execution_count": 3,
      "outputs": [
        {
          "output_type": "execute_result",
          "data": {
            "text/html": [
              "<div>\n",
              "<style scoped>\n",
              "    .dataframe tbody tr th:only-of-type {\n",
              "        vertical-align: middle;\n",
              "    }\n",
              "\n",
              "    .dataframe tbody tr th {\n",
              "        vertical-align: top;\n",
              "    }\n",
              "\n",
              "    .dataframe thead th {\n",
              "        text-align: right;\n",
              "    }\n",
              "</style>\n",
              "<table border=\"1\" class=\"dataframe\">\n",
              "  <thead>\n",
              "    <tr style=\"text-align: right;\">\n",
              "      <th></th>\n",
              "      <th>drama_title</th>\n",
              "      <th>user_name</th>\n",
              "      <th>overall_rating</th>\n",
              "      <th>story_rating</th>\n",
              "      <th>cast_rating</th>\n",
              "      <th>music_rating</th>\n",
              "      <th>rewatch_value_rating</th>\n",
              "      <th>reviews</th>\n",
              "      <th>sentiment</th>\n",
              "      <th>reviews_processed</th>\n",
              "      <th>language</th>\n",
              "      <th>reviews_processed2x</th>\n",
              "      <th>reviews_lemmatized</th>\n",
              "    </tr>\n",
              "  </thead>\n",
              "  <tbody>\n",
              "    <tr>\n",
              "      <th>0</th>\n",
              "      <td>Dear My Friends (2016)</td>\n",
              "      <td>iamgeralddd</td>\n",
              "      <td>10.0</td>\n",
              "      <td>10.0</td>\n",
              "      <td>10.0</td>\n",
              "      <td>10.0</td>\n",
              "      <td>10.0</td>\n",
              "      <td>Thank you writer Noh for making this heart-wa...</td>\n",
              "      <td>1</td>\n",
              "      <td>thank you writer noh for making this heart war...</td>\n",
              "      <td>en</td>\n",
              "      <td>thank writer noh making heart warming story co...</td>\n",
              "      <td>heart warming story live drama excited weekend...</td>\n",
              "    </tr>\n",
              "    <tr>\n",
              "      <th>1</th>\n",
              "      <td>Dear My Friends (2016)</td>\n",
              "      <td>Dounie</td>\n",
              "      <td>10.0</td>\n",
              "      <td>10.0</td>\n",
              "      <td>10.0</td>\n",
              "      <td>8.5</td>\n",
              "      <td>9.0</td>\n",
              "      <td>I know for some, stories following and tellin...</td>\n",
              "      <td>1</td>\n",
              "      <td>i know for some stories following and telling ...</td>\n",
              "      <td>en</td>\n",
              "      <td>know stories following telling lives older peo...</td>\n",
              "      <td>story old people promise boring decide try fun...</td>\n",
              "    </tr>\n",
              "    <tr>\n",
              "      <th>2</th>\n",
              "      <td>Dear My Friends (2016)</td>\n",
              "      <td>Pelin</td>\n",
              "      <td>10.0</td>\n",
              "      <td>10.0</td>\n",
              "      <td>10.0</td>\n",
              "      <td>10.0</td>\n",
              "      <td>10.0</td>\n",
              "      <td>Story \"A realistic, cheerful story about “twi...</td>\n",
              "      <td>1</td>\n",
              "      <td>story a realistic cheerful story about twiligh...</td>\n",
              "      <td>en</td>\n",
              "      <td>story realistic cheerful story twilight youths...</td>\n",
              "      <td>story realistic cheerful story twilight young ...</td>\n",
              "    </tr>\n",
              "    <tr>\n",
              "      <th>3</th>\n",
              "      <td>Dear My Friends (2016)</td>\n",
              "      <td>silent_whispers</td>\n",
              "      <td>9.0</td>\n",
              "      <td>9.0</td>\n",
              "      <td>10.0</td>\n",
              "      <td>10.0</td>\n",
              "      <td>7.0</td>\n",
              "      <td>When I heard about a drama that would be comi...</td>\n",
              "      <td>1</td>\n",
              "      <td>when i heard about a drama that would be comin...</td>\n",
              "      <td>en</td>\n",
              "      <td>heard drama would coming 2016 twilight youths ...</td>\n",
              "      <td>drama twilight youth life long friend drama lo...</td>\n",
              "    </tr>\n",
              "    <tr>\n",
              "      <th>4</th>\n",
              "      <td>Dear My Friends (2016)</td>\n",
              "      <td>Dana</td>\n",
              "      <td>9.0</td>\n",
              "      <td>9.0</td>\n",
              "      <td>10.0</td>\n",
              "      <td>7.0</td>\n",
              "      <td>3.0</td>\n",
              "      <td>In a sometimes overwhelming world of perfect ...</td>\n",
              "      <td>1</td>\n",
              "      <td>in a sometimes overwhelming world of perfect f...</td>\n",
              "      <td>en</td>\n",
              "      <td>sometimes overwhelming world perfect faces scr...</td>\n",
              "      <td>overwhelming world perfect script dear friend ...</td>\n",
              "    </tr>\n",
              "  </tbody>\n",
              "</table>\n",
              "</div>"
            ],
            "text/plain": [
              "              drama_title  ...                                 reviews_lemmatized\n",
              "0  Dear My Friends (2016)  ...  heart warming story live drama excited weekend...\n",
              "1  Dear My Friends (2016)  ...  story old people promise boring decide try fun...\n",
              "2  Dear My Friends (2016)  ...  story realistic cheerful story twilight young ...\n",
              "3  Dear My Friends (2016)  ...  drama twilight youth life long friend drama lo...\n",
              "4  Dear My Friends (2016)  ...  overwhelming world perfect script dear friend ...\n",
              "\n",
              "[5 rows x 13 columns]"
            ]
          },
          "metadata": {
            "tags": []
          },
          "execution_count": 3
        }
      ]
    },
    {
      "cell_type": "markdown",
      "metadata": {
        "id": "SP2-C6Fj-4Xs",
        "colab_type": "text"
      },
      "source": [
        "To create word embeddings, we do not need the punctuation, as well as the '\\n' that denotes new paragraphs. Thus, we will use the _reviews_processed_ column. An example is as follows:"
      ]
    },
    {
      "cell_type": "code",
      "metadata": {
        "id": "HCwFfoIt7W_-",
        "colab_type": "code",
        "colab": {
          "base_uri": "https://localhost:8080/",
          "height": 55
        },
        "outputId": "f7711cd0-19f6-4432-81a5-3f558cdd70c3"
      },
      "source": [
        "df['reviews_processed'][3000]"
      ],
      "execution_count": 4,
      "outputs": [
        {
          "output_type": "execute_result",
          "data": {
            "text/plain": [
              "'this is my first time to watch a korean drama full of unexpected events and a lot of suspense i must say this is the best drama plot wise so far that i ve watched 3let me start with the plot this is the best paced plot that i saw so far the pacing of the plot is so smooth and normal that i can know the background of all characters very well the transitioning is so good the prosecuting law genres and the supernatural power to dream about the future really complimented each other very well and there are a lot of plot twists that i love i thought the ending would be disappointing but i think everything ended well for me almost everything was well explained almost why the word almost well it s because there are just little things that i wanted to know about the plot in order for it to be perfect for example they didn t explained how hong joo got that power to dream possible futures in the first place i don t know i really wanted the kind of drama to explain everything which were the plot and the characters really strict when it comes to those things but a big salute to the director s for this kind of drama very unique indeed 9 5 ugh let me just say the characters did so well at acting they really showed their expertise and experience in acting to this drama their sadness and struggles really made me cry and also did so well when it comes to comedy let me just say that hong joo and jae chan had such great chemistry but why do i feel butterflies in my stomach whenever i see hong joo and woo tak s scenes i don t know what s wrong with me i hope for a romcom drama with suzy and hae in so badly please please anyways a perfect 10 for the marvelous acting skills the music nothing to say really fits with the scenes perfect 10 it s really rare for me to re watch because i keep on watching new dramas after another but i would watch this again and hae in s hot body and handsome face ahh d overall giving it a 10 despite of a little hiccup on the plot because it s just based on my perspective i loved it one of the best dramas that i ve watched wishing for another season since it focuses on crime cases bravo'"
            ]
          },
          "metadata": {
            "tags": []
          },
          "execution_count": 4
        }
      ]
    },
    {
      "cell_type": "markdown",
      "metadata": {
        "id": "f4HO-AdcbhB4",
        "colab_type": "text"
      },
      "source": [
        "## Word embedding\n",
        "\n",
        "Words cannot be trained on directly in our models. We have to turn them into integer representations. One commonly used method is **one-hot encoding**. However, this would result in a sparse matrix since our vocabulary is large. Furthermore, this method does not take into consideration the relationship of words. A **word embedding** would make up for these shortfalls."
      ]
    },
    {
      "cell_type": "markdown",
      "metadata": {
        "id": "7qpG34rkV9NI",
        "colab_type": "text"
      },
      "source": [
        "### Tokenize\n",
        "\n",
        "Firstly, we use Keras Tokenizer to which turns text into a series of integers. \n",
        "\n"
      ]
    },
    {
      "cell_type": "code",
      "metadata": {
        "id": "Uq0eR_Hww5io",
        "colab_type": "code",
        "colab": {}
      },
      "source": [
        "from keras.preprocessing.text import Tokenizer\n",
        "from keras.preprocessing.sequence import pad_sequences\n",
        "from sklearn.model_selection import train_test_split"
      ],
      "execution_count": 0,
      "outputs": []
    },
    {
      "cell_type": "code",
      "metadata": {
        "id": "vwmeYtZgV-fL",
        "colab_type": "code",
        "colab": {}
      },
      "source": [
        "# Tokenize the reviews\n",
        "reviews = df['reviews_processed']\n",
        "tokenizer = Tokenizer()\n",
        "tokenizer.fit_on_texts(reviews)\n",
        "seq = tokenizer.texts_to_sequences(reviews)"
      ],
      "execution_count": 0,
      "outputs": []
    },
    {
      "cell_type": "markdown",
      "metadata": {
        "id": "m0XNRy0IXE0c",
        "colab_type": "text"
      },
      "source": [
        "_word_index_ is a dictionary that maps words to integers"
      ]
    },
    {
      "cell_type": "code",
      "metadata": {
        "id": "y1NU0MCTW00x",
        "colab_type": "code",
        "colab": {
          "base_uri": "https://localhost:8080/",
          "height": 35
        },
        "outputId": "29eb1a8a-a9b1-4c3f-d0a5-6b2405935eac"
      },
      "source": [
        "# Find the number of unique tokens\n",
        "word_index = tokenizer.word_index\n",
        "print(\"Words in index: %d\" % len(word_index))"
      ],
      "execution_count": 8,
      "outputs": [
        {
          "output_type": "stream",
          "text": [
            "Words in index: 53566\n"
          ],
          "name": "stdout"
        }
      ]
    },
    {
      "cell_type": "code",
      "metadata": {
        "id": "OO5OPV-7W65N",
        "colab_type": "code",
        "colab": {
          "base_uri": "https://localhost:8080/",
          "height": 177
        },
        "outputId": "57fb6fb2-7d4e-4d4a-ad51-525377001838"
      },
      "source": [
        "lengths = []\n",
        "for review in seq:\n",
        "    lengths.append(len(review))\n",
        "\n",
        "# Create a dataframe so that the values can be inspected\n",
        "lengths = pd.DataFrame(lengths, columns=['counts'])\n",
        "lengths.counts.describe()"
      ],
      "execution_count": 9,
      "outputs": [
        {
          "output_type": "execute_result",
          "data": {
            "text/plain": [
              "count    25034.000000\n",
              "mean       340.091236\n",
              "std        280.870434\n",
              "min          2.000000\n",
              "25%        159.000000\n",
              "50%        258.000000\n",
              "75%        400.000000\n",
              "max       3043.000000\n",
              "Name: counts, dtype: float64"
            ]
          },
          "metadata": {
            "tags": []
          },
          "execution_count": 9
        }
      ]
    },
    {
      "cell_type": "code",
      "metadata": {
        "id": "5WUUUa9yYSQw",
        "colab_type": "code",
        "colab": {
          "base_uri": "https://localhost:8080/",
          "height": 52
        },
        "outputId": "b6017764-0a1a-4654-c11c-2ead79db183a"
      },
      "source": [
        "print(np.percentile(lengths.counts, 80))\n",
        "print(np.percentile(lengths.counts, 85))"
      ],
      "execution_count": 12,
      "outputs": [
        {
          "output_type": "stream",
          "text": [
            "463.0\n",
            "525.0\n"
          ],
          "name": "stdout"
        }
      ]
    },
    {
      "cell_type": "markdown",
      "metadata": {
        "id": "O-QeNZemYgqb",
        "colab_type": "text"
      },
      "source": [
        "Then we convert the each word of each review to its corresponding numerical representation.\n",
        "\n",
        "To reduce the training time, we can limit the length of the reviews. For instance setting _max_review_length = 500_ ensures that at least 80% of the reviews have their full texts."
      ]
    },
    {
      "cell_type": "code",
      "metadata": {
        "id": "fVcIiRbXXnR-",
        "colab_type": "code",
        "colab": {}
      },
      "source": [
        "# Pad and truncate the reviews so that they all have the same length.\n",
        "maxlen = 500\n",
        "pad = pad_sequences(seq, maxlen = maxlen)"
      ],
      "execution_count": 0,
      "outputs": []
    },
    {
      "cell_type": "code",
      "metadata": {
        "id": "axqHYX_nY4ut",
        "colab_type": "code",
        "colab": {
          "base_uri": "https://localhost:8080/",
          "height": 444
        },
        "outputId": "75e29a4a-fdc4-4ce8-94cb-ed2be52c92e1"
      },
      "source": [
        "# Inspect the reviews after padding has been completed. \n",
        "for i in range(3):\n",
        "    print(pad[i,:100])\n",
        "    print()"
      ],
      "execution_count": 14,
      "outputs": [
        {
          "output_type": "stream",
          "text": [
            "[0 0 0 0 0 0 0 0 0 0 0 0 0 0 0 0 0 0 0 0 0 0 0 0 0 0 0 0 0 0 0 0 0 0 0 0 0\n",
            " 0 0 0 0 0 0 0 0 0 0 0 0 0 0 0 0 0 0 0 0 0 0 0 0 0 0 0 0 0 0 0 0 0 0 0 0 0\n",
            " 0 0 0 0 0 0 0 0 0 0 0 0 0 0 0 0 0 0 0 0 0 0 0 0 0 0]\n",
            "\n",
            "[    1   118   958    35    10   250    28    20  1622     2    61     4\n",
            "  4844   302    37     9     3    59   375     5   677    11     1   561\n",
            "  2512   349   520    15  1989    24   157    30    20   211   174     2\n",
            " 17417   349   520     9    99     4  7806   536    47    98    34     1\n",
            "  3879     7   421    29    72    43    38    20   714     2  1750     5\n",
            "    33   110 25072  6606     1   405  2980    60    15   213   493    19\n",
            "    28  2548  1918   242     1  3681     2  1393   400  8480   978     1\n",
            "  1586     2   566   400  3368   561     1   929  5182     2  1393   303\n",
            "     2   377   380   405]\n",
            "\n",
            "[   11    70    36    33    12     4   625    10   308    17     4    27\n",
            "    53     4   651    65    53   253   128    11   822   172  1032    65\n",
            "   151 10342     1    27     7    10    13     9   112     3   109   296\n",
            "   247    11   124    10   704  2962    47   257   783     7    79   783\n",
            "    51   236   128    23    36   175   172   163    11   247    56     5\n",
            "   175   172    65    86   175   172    14     1    91   236   746   128\n",
            "    19   746 11553     2   746   652    38  1079   385    84     1   419\n",
            "     2     1   789     8    36   361 32802     3   728     4   125    80\n",
            "    10    14    44    34]\n",
            "\n"
          ],
          "name": "stdout"
        }
      ]
    },
    {
      "cell_type": "code",
      "metadata": {
        "id": "iQby6xdwY91x",
        "colab_type": "code",
        "colab": {}
      },
      "source": [
        "# Creating the training and validation sets# Creating the training and validation sets\n",
        "X_train, X_test, y_train, y_test = train_test_split(pad, df.sentiment, test_size = 0.20, random_state = 42)"
      ],
      "execution_count": 0,
      "outputs": []
    },
    {
      "cell_type": "markdown",
      "metadata": {
        "id": "BGs_zDbwwQrb",
        "colab_type": "text"
      },
      "source": [
        "## LSTM\n",
        "\n",
        "In natural language processing with deep learning, we use **Recurrent Neural Networks** in our modelling. RNN is a type of neural network that applies a recurrence relation at every step to process a sequence. A sequence is a series of interdependent data.\n",
        "\n",
        "One example of RNN is **Long Short-Term Memory**. In the vanilla RNN network, the gradient of the loss function vanishes exponentially over time. LSTMs differ from vanilla RNN by having a special \"memory cell\" that can retain information for a long period of time. A set of gates control when information is remembered and forgotten."
      ]
    },
    {
      "cell_type": "code",
      "metadata": {
        "id": "TVI8wkk9fwxh",
        "colab_type": "code",
        "colab": {}
      },
      "source": [
        "from keras.preprocessing import sequence\n",
        "from keras.models import Sequential\n",
        "from keras.layers import Dense, Embedding\n",
        "from keras.layers import LSTM\n",
        "from keras.callbacks import EarlyStopping, ModelCheckpoint"
      ],
      "execution_count": 0,
      "outputs": []
    },
    {
      "cell_type": "code",
      "metadata": {
        "id": "2uAmFBEefKqf",
        "colab_type": "code",
        "colab": {}
      },
      "source": [
        "max_features = len(word_index)+1\n",
        "# cut texts after this number of words (among top max_features most common words)\n",
        "batch_size = 32"
      ],
      "execution_count": 0,
      "outputs": []
    },
    {
      "cell_type": "code",
      "metadata": {
        "id": "DwfVjIdIfLVN",
        "colab_type": "code",
        "colab": {}
      },
      "source": [
        "model = Sequential()\n",
        "model.add(Embedding(max_features, 128))\n",
        "model.add(LSTM(128, dropout=0.2, recurrent_dropout=0.2))\n",
        "model.add(Dense(1, activation='sigmoid'))"
      ],
      "execution_count": 0,
      "outputs": []
    },
    {
      "cell_type": "code",
      "metadata": {
        "id": "mA6yluTLgw63",
        "colab_type": "code",
        "colab": {}
      },
      "source": [
        "model.compile(loss='binary_crossentropy',\n",
        "              optimizer='adam',\n",
        "              metrics=['accuracy'])"
      ],
      "execution_count": 0,
      "outputs": []
    },
    {
      "cell_type": "code",
      "metadata": {
        "id": "kpjbvKE65cDJ",
        "colab_type": "code",
        "colab": {}
      },
      "source": [
        "es = EarlyStopping(monitor='val_loss',\n",
        "                              min_delta=0,\n",
        "                              patience=2,\n",
        "                              verbose=0, mode='auto')"
      ],
      "execution_count": 0,
      "outputs": []
    },
    {
      "cell_type": "code",
      "metadata": {
        "id": "80tKTy7dgEpE",
        "colab_type": "code",
        "colab": {
          "base_uri": "https://localhost:8080/",
          "height": 304
        },
        "outputId": "a50b6380-1d28-4440-f8d5-1c913d9e8636"
      },
      "source": [
        "history = model.fit(X_train, y_train,\n",
        "                    batch_size=batch_size,\n",
        "                    epochs=15,\n",
        "                    validation_data=(X_test, y_test),\n",
        "                    callbacks=[es])"
      ],
      "execution_count": 51,
      "outputs": [
        {
          "output_type": "stream",
          "text": [
            "/usr/local/lib/python3.6/dist-packages/tensorflow/python/framework/indexed_slices.py:434: UserWarning: Converting sparse IndexedSlices to a dense Tensor of unknown shape. This may consume a large amount of memory.\n",
            "  \"Converting sparse IndexedSlices to a dense Tensor of unknown shape. \"\n"
          ],
          "name": "stderr"
        },
        {
          "output_type": "stream",
          "text": [
            "Train on 20027 samples, validate on 5007 samples\n",
            "Epoch 1/15\n",
            "20027/20027 [==============================] - 497s 25ms/step - loss: 0.3266 - accuracy: 0.9160 - val_loss: 0.2447 - val_accuracy: 0.8822\n",
            "Epoch 2/15\n",
            "20027/20027 [==============================] - 497s 25ms/step - loss: 0.1908 - accuracy: 0.9029 - val_loss: 0.2202 - val_accuracy: 0.8814\n",
            "Epoch 3/15\n",
            "20027/20027 [==============================] - 497s 25ms/step - loss: 0.0598 - accuracy: 0.9039 - val_loss: 0.6824 - val_accuracy: 0.8209\n",
            "Epoch 4/15\n",
            "20027/20027 [==============================] - 500s 25ms/step - loss: -0.5447 - accuracy: 0.9107 - val_loss: 0.1340 - val_accuracy: 0.9133\n",
            "Epoch 5/15\n",
            "20027/20027 [==============================] - 506s 25ms/step - loss: -1.2199 - accuracy: 0.9171 - val_loss: 0.2836 - val_accuracy: 0.8999\n",
            "Epoch 6/15\n",
            "20027/20027 [==============================] - 493s 25ms/step - loss: -2.1046 - accuracy: 0.9148 - val_loss: 0.7087 - val_accuracy: 0.8922\n"
          ],
          "name": "stdout"
        }
      ]
    },
    {
      "cell_type": "code",
      "metadata": {
        "id": "SvWWbrcW6k6a",
        "colab_type": "code",
        "colab": {}
      },
      "source": [
        "import matplotlib.pyplot as plt"
      ],
      "execution_count": 0,
      "outputs": []
    },
    {
      "cell_type": "code",
      "metadata": {
        "id": "PHUyX4Zd6KWN",
        "colab_type": "code",
        "colab": {
          "base_uri": "https://localhost:8080/",
          "height": 318
        },
        "outputId": "7b21aff5-4815-4030-ffb7-44e1abbd1ca1"
      },
      "source": [
        "_, train_acc = model.evaluate(X_train, y_train)\n",
        "_, test_acc = model.evaluate(X_test, y_test)\n",
        "print('Train: %.3f, Test: %.3f' % (train_acc, test_acc))\n",
        "# plot training history\n",
        "plt.plot(history.history['loss'], label='train')\n",
        "plt.plot(history.history['val_loss'], label='test')\n",
        "plt.legend()\n",
        "plt.show()"
      ],
      "execution_count": 53,
      "outputs": [
        {
          "output_type": "stream",
          "text": [
            "20027/20027 [==============================] - 87s 4ms/step\n",
            "5007/5007 [==============================] - 22s 4ms/step\n",
            "Train: 0.917, Test: 0.892\n"
          ],
          "name": "stdout"
        },
        {
          "output_type": "display_data",
          "data": {
            "image/png": "[encoded data removed]",
            "text/plain": [
              "<Figure size 432x288 with 1 Axes>"
            ]
          },
          "metadata": {
            "tags": [],
            "needs_background": "light"
          }
        }
      ]
    },
    {
      "cell_type": "code",
      "metadata": {
        "id": "rkxKa-TTz3_c",
        "colab_type": "code",
        "colab": {
          "base_uri": "https://localhost:8080/",
          "height": 318
        },
        "outputId": "2920a13b-1f84-4bda-df6b-2e39e2605068"
      },
      "source": [
        "# plot training history\n",
        "plt.plot(history.history['accuracy'], label='train')\n",
        "plt.plot(history.history['val_accuracy'], label='test')\n",
        "plt.legend()\n",
        "plt.show()"
      ],
      "execution_count": 57,
      "outputs": [
        {
          "output_type": "stream",
          "text": [
            "20027/20027 [==============================] - 86s 4ms/step\n",
            "5007/5007 [==============================] - 22s 4ms/step\n",
            "Train: 0.917, Test: 0.892\n"
          ],
          "name": "stdout"
        },
        {
          "output_type": "display_data",
          "data": {
            "image/png": "[encoded data removed]",
            "text/plain": [
              "<Figure size 432x288 with 1 Axes>"
            ]
          },
          "metadata": {
            "tags": [],
            "needs_background": "light"
          }
        }
      ]
    },
    {
      "cell_type": "code",
      "metadata": {
        "id": "zyY7zuP9gnnb",
        "colab_type": "code",
        "colab": {}
      },
      "source": [
        "model.save(\"model.h5\")"
      ],
      "execution_count": 0,
      "outputs": []
    },
    {
      "cell_type": "code",
      "metadata": {
        "id": "u2YG6vMHJtwc",
        "colab_type": "code",
        "colab": {
          "base_uri": "https://localhost:8080/",
          "height": 72
        },
        "outputId": "5a122488-bcc0-49d9-f131-98f494ab034e"
      },
      "source": [
        "from keras.models import load_model\n",
        " \n",
        "# load model\n",
        "model = load_model('model.h5')"
      ],
      "execution_count": 55,
      "outputs": [
        {
          "output_type": "stream",
          "text": [
            "/usr/local/lib/python3.6/dist-packages/tensorflow/python/framework/indexed_slices.py:434: UserWarning: Converting sparse IndexedSlices to a dense Tensor of unknown shape. This may consume a large amount of memory.\n",
            "  \"Converting sparse IndexedSlices to a dense Tensor of unknown shape. \"\n"
          ],
          "name": "stderr"
        }
      ]
    },
    {
      "cell_type": "code",
      "metadata": {
        "id": "TqXMZTeIJyiY",
        "colab_type": "code",
        "colab": {
          "base_uri": "https://localhost:8080/",
          "height": 88
        },
        "outputId": "728afef7-066d-4db8-fe85-11f475c3554c"
      },
      "source": [
        "test_sample1 = 'This drama is horrible.'\n",
        "test_sample2 = 'Love the actors and music. Best drama in 2019'\n",
        "test_sample3 = 'I think this drama is so-so. Maybe a 5/10'\n",
        "test_sample4 = 'Enjoyed it thoroughly. Although people say the plot progressed very slowly, it hooked me throughout the dramas.'\n",
        "test_samples = [test_sample1, test_sample2, test_sample3, test_sample4]\n",
        "\n",
        "test_samples_tokens = tokenizer.texts_to_sequences(test_samples)\n",
        "test_samples_tokens_pad = pad_sequences(test_samples_tokens, maxlen=maxlen)\n",
        "\n",
        "model.predict(x=test_samples_tokens_pad)"
      ],
      "execution_count": 58,
      "outputs": [
        {
          "output_type": "execute_result",
          "data": {
            "text/plain": [
              "array([[0.9999666],\n",
              "       [0.9992404],\n",
              "       [0.9743017],\n",
              "       [0.997743 ]], dtype=float32)"
            ]
          },
          "metadata": {
            "tags": []
          },
          "execution_count": 58
        }
      ]
    },
    {
      "cell_type": "markdown",
      "metadata": {
        "id": "bRrw9CqxJ2PZ",
        "colab_type": "text"
      },
      "source": [
        "The results are not good at all. The model is unable to differentiate a positive sentiment from a negative one. To improve the model, we can..."
      ]
    },
    {
      "cell_type": "markdown",
      "metadata": {
        "id": "8WaYcEO-N-ql",
        "colab_type": "text"
      },
      "source": [
        "## Repeat with binary sentiment and adding dropout\n",
        "\n",
        "Instead of a multiclass classification (positive, negative, neutral), we can turn it into a binary classification problem (positive, negative). \n",
        "\n",
        "In addition, to reduce overfitting, we can add a dropout layer."
      ]
    },
    {
      "cell_type": "code",
      "metadata": {
        "id": "QLgqM2fCMyhK",
        "colab_type": "code",
        "colab": {
          "base_uri": "https://localhost:8080/",
          "height": 35
        },
        "outputId": "fe5fa926-efff-4bf8-d988-d591c25102e0"
      },
      "source": [
        "df['sentiment'] = [1 if i == 1 else 0 for i in df['sentiment']]\n",
        "df['sentiment'].unique()"
      ],
      "execution_count": 63,
      "outputs": [
        {
          "output_type": "execute_result",
          "data": {
            "text/plain": [
              "array([1, 0])"
            ]
          },
          "metadata": {
            "tags": []
          },
          "execution_count": 63
        }
      ]
    },
    {
      "cell_type": "code",
      "metadata": {
        "id": "zt2EDpT7SKIQ",
        "colab_type": "code",
        "colab": {}
      },
      "source": [
        "# Creating the training and validation sets\n",
        "X_train, X_test, y_train, y_test = train_test_split(pad, df.sentiment, test_size = 0.20, random_state = 42)"
      ],
      "execution_count": 0,
      "outputs": []
    },
    {
      "cell_type": "code",
      "metadata": {
        "id": "RIfmohaFSg_5",
        "colab_type": "code",
        "colab": {}
      },
      "source": [
        "from keras.layers import Dropout"
      ],
      "execution_count": 0,
      "outputs": []
    },
    {
      "cell_type": "code",
      "metadata": {
        "id": "rz3DWjUYOC0v",
        "colab_type": "code",
        "colab": {}
      },
      "source": [
        "model = Sequential()\n",
        "model.add(Embedding(max_features, 128))\n",
        "model.add(LSTM(128, dropout=0.2, recurrent_dropout=0.2))\n",
        "model.add(Dropout(0.2))\n",
        "model.add(Dense(1, activation='sigmoid'))"
      ],
      "execution_count": 0,
      "outputs": []
    },
    {
      "cell_type": "code",
      "metadata": {
        "id": "lSbavnimSJUB",
        "colab_type": "code",
        "colab": {}
      },
      "source": [
        "model.compile(loss='binary_crossentropy',\n",
        "              optimizer='adam',\n",
        "              metrics=['accuracy'])"
      ],
      "execution_count": 0,
      "outputs": []
    },
    {
      "cell_type": "code",
      "metadata": {
        "id": "C61uH3p_Se52",
        "colab_type": "code",
        "colab": {}
      },
      "source": [
        "es = EarlyStopping(monitor='val_loss',\n",
        "                              min_delta=0,\n",
        "                              patience=2,\n",
        "                              verbose=0, mode='auto')\n",
        "mc = ModelCheckpoint('best_model.h5', \n",
        "                     monitor='val_accuracy', \n",
        "                     mode='max', \n",
        "                     verbose=1, \n",
        "                     save_best_only=True)"
      ],
      "execution_count": 0,
      "outputs": []
    },
    {
      "cell_type": "code",
      "metadata": {
        "id": "NiP1HkW-SsCR",
        "colab_type": "code",
        "colab": {
          "base_uri": "https://localhost:8080/",
          "height": 446
        },
        "outputId": "2e789eb5-78d5-43f3-db62-2e921531ce71"
      },
      "source": [
        "history = model.fit(X_train, y_train,\n",
        "                    batch_size=batch_size,\n",
        "                    epochs=15,\n",
        "                    validation_data=(X_test, y_test),\n",
        "                    callbacks=[es, mc])"
      ],
      "execution_count": 72,
      "outputs": [
        {
          "output_type": "stream",
          "text": [
            "/usr/local/lib/python3.6/dist-packages/tensorflow/python/framework/indexed_slices.py:434: UserWarning: Converting sparse IndexedSlices to a dense Tensor of unknown shape. This may consume a large amount of memory.\n",
            "  \"Converting sparse IndexedSlices to a dense Tensor of unknown shape. \"\n"
          ],
          "name": "stderr"
        },
        {
          "output_type": "stream",
          "text": [
            "Train on 20027 samples, validate on 5007 samples\n",
            "Epoch 1/15\n",
            "20027/20027 [==============================] - 497s 25ms/step - loss: 0.2489 - accuracy: 0.9242 - val_loss: 0.2115 - val_accuracy: 0.9291\n",
            "\n",
            "Epoch 00001: val_accuracy improved from -inf to 0.92910, saving model to best_model.h5\n",
            "Epoch 2/15\n",
            "20027/20027 [==============================] - 499s 25ms/step - loss: 0.1713 - accuracy: 0.9374 - val_loss: 0.1966 - val_accuracy: 0.9329\n",
            "\n",
            "Epoch 00002: val_accuracy improved from 0.92910 to 0.93289, saving model to best_model.h5\n",
            "Epoch 3/15\n",
            "20027/20027 [==============================] - 497s 25ms/step - loss: 0.1220 - accuracy: 0.9553 - val_loss: 0.1938 - val_accuracy: 0.9353\n",
            "\n",
            "Epoch 00003: val_accuracy improved from 0.93289 to 0.93529, saving model to best_model.h5\n",
            "Epoch 4/15\n",
            "20027/20027 [==============================] - 497s 25ms/step - loss: 0.1079 - accuracy: 0.9605 - val_loss: 0.2366 - val_accuracy: 0.9033\n",
            "\n",
            "Epoch 00004: val_accuracy did not improve from 0.93529\n",
            "Epoch 5/15\n",
            "20027/20027 [==============================] - 499s 25ms/step - loss: 0.0687 - accuracy: 0.9770 - val_loss: 0.2139 - val_accuracy: 0.9277\n",
            "\n",
            "Epoch 00005: val_accuracy did not improve from 0.93529\n"
          ],
          "name": "stdout"
        }
      ]
    },
    {
      "cell_type": "code",
      "metadata": {
        "id": "q5wHlX9jSuPP",
        "colab_type": "code",
        "colab": {
          "base_uri": "https://localhost:8080/",
          "height": 318
        },
        "outputId": "af9b66d3-ef47-4721-c5ac-935396f455fd"
      },
      "source": [
        "_, train_acc = model.evaluate(X_train, y_train)\n",
        "_, test_acc = model.evaluate(X_test, y_test)\n",
        "print('Train: %.3f, Test: %.3f' % (train_acc, test_acc))\n",
        "# plot training history\n",
        "plt.plot(history.history['loss'], label='train')\n",
        "plt.plot(history.history['val_loss'], label='test')\n",
        "plt.legend()\n",
        "plt.show()"
      ],
      "execution_count": 73,
      "outputs": [
        {
          "output_type": "stream",
          "text": [
            "20027/20027 [==============================] - 89s 4ms/step\n",
            "5007/5007 [==============================] - 22s 4ms/step\n",
            "Train: 0.990, Test: 0.928\n"
          ],
          "name": "stdout"
        },
        {
          "output_type": "display_data",
          "data": {
            "image/png": "[encoded data removed]",
            "text/plain": [
              "<Figure size 432x288 with 1 Axes>"
            ]
          },
          "metadata": {
            "tags": [],
            "needs_background": "light"
          }
        }
      ]
    },
    {
      "cell_type": "code",
      "metadata": {
        "id": "rgCWL0iKS1cR",
        "colab_type": "code",
        "colab": {
          "base_uri": "https://localhost:8080/",
          "height": 268
        },
        "outputId": "388230b5-0b2d-4007-c6c6-1744b04c793c"
      },
      "source": [
        "# plot training history\n",
        "plt.plot(history.history['accuracy'], label='train')\n",
        "plt.plot(history.history['val_accuracy'], label='test')\n",
        "plt.legend()\n",
        "plt.show()"
      ],
      "execution_count": 74,
      "outputs": [
        {
          "output_type": "display_data",
          "data": {
            "image/png": "[encoded data removed]",
            "text/plain": [
              "<Figure size 432x288 with 1 Axes>"
            ]
          },
          "metadata": {
            "tags": [],
            "needs_background": "light"
          }
        }
      ]
    },
    {
      "cell_type": "code",
      "metadata": {
        "id": "BHe5JO-5fTCN",
        "colab_type": "code",
        "colab": {
          "base_uri": "https://localhost:8080/",
          "height": 88
        },
        "outputId": "d85ba42d-0309-4972-8e93-12bc3bd38e80"
      },
      "source": [
        "model.predict(x=test_samples_tokens_pad)"
      ],
      "execution_count": 75,
      "outputs": [
        {
          "output_type": "execute_result",
          "data": {
            "text/plain": [
              "array([[0.7383321 ],\n",
              "       [0.99972564],\n",
              "       [0.7311709 ],\n",
              "       [0.99955946]], dtype=float32)"
            ]
          },
          "metadata": {
            "tags": []
          },
          "execution_count": 75
        }
      ]
    },
    {
      "cell_type": "markdown",
      "metadata": {
        "id": "yc0qRqQZgASH",
        "colab_type": "text"
      },
      "source": [
        "Now, there is at least 0.2 probability difference between the positive and negative sentiment. With the sigmoid function, it is possible to set the threshold to higher than 0.5, such as 0.8 to classify a positive sentiment as positive. This higher treshold could be due to the significantly higher proportion of positive reviews compared to negative ones.\n",
        "\n"
      ]
    },
    {
      "cell_type": "markdown",
      "metadata": {
        "id": "KPSv285YjqkU",
        "colab_type": "text"
      },
      "source": [
        "## Increasing patience\n",
        "\n",
        "Another way to reduce the validation loss is to increase the number of training epochs. We could increase patience from 2 to 4. "
      ]
    },
    {
      "cell_type": "code",
      "metadata": {
        "id": "5-wDBoVGfkTu",
        "colab_type": "code",
        "colab": {
          "base_uri": "https://localhost:8080/",
          "height": 517
        },
        "outputId": "7a211cde-02a7-4f3e-cbd9-229fc09ce8de"
      },
      "source": [
        "model = Sequential()\n",
        "model.add(Embedding(max_features, 128))\n",
        "model.add(LSTM(128, dropout=0.2, recurrent_dropout=0.2))\n",
        "model.add(Dropout(0.2))\n",
        "model.add(Dense(1, activation='sigmoid'))\n",
        "\n",
        "model.compile(loss='binary_crossentropy',\n",
        "              optimizer='adam',\n",
        "              metrics=['accuracy'])\n",
        "\n",
        "es = EarlyStopping(monitor='val_loss',\n",
        "                              min_delta=0,\n",
        "                              patience=4,\n",
        "                              verbose=0, mode='auto')\n",
        "mc = ModelCheckpoint('best_model_soft.h5', \n",
        "                     monitor='val_accuracy', \n",
        "                     mode='max', \n",
        "                     verbose=1, \n",
        "                     save_best_only=True)\n",
        "\n",
        "history = model.fit(X_train, y_train,\n",
        "                    batch_size=batch_size,\n",
        "                    epochs=15,\n",
        "                    validation_data=(X_test, y_test),\n",
        "                    callbacks=[es, mc])"
      ],
      "execution_count": 81,
      "outputs": [
        {
          "output_type": "stream",
          "text": [
            "/usr/local/lib/python3.6/dist-packages/tensorflow/python/framework/indexed_slices.py:434: UserWarning: Converting sparse IndexedSlices to a dense Tensor of unknown shape. This may consume a large amount of memory.\n",
            "  \"Converting sparse IndexedSlices to a dense Tensor of unknown shape. \"\n"
          ],
          "name": "stderr"
        },
        {
          "output_type": "stream",
          "text": [
            "Train on 20027 samples, validate on 5007 samples\n",
            "Epoch 1/15\n",
            "20027/20027 [==============================] - 481s 24ms/step - loss: 0.2442 - accuracy: 0.9243 - val_loss: 0.2121 - val_accuracy: 0.9283\n",
            "\n",
            "Epoch 00001: val_accuracy improved from -inf to 0.92830, saving model to best_model_soft.h5\n",
            "Epoch 2/15\n",
            "20027/20027 [==============================] - 492s 25ms/step - loss: 0.1708 - accuracy: 0.9390 - val_loss: 0.1928 - val_accuracy: 0.9339\n",
            "\n",
            "Epoch 00002: val_accuracy improved from 0.92830 to 0.93389, saving model to best_model_soft.h5\n",
            "Epoch 3/15\n",
            "20027/20027 [==============================] - 480s 24ms/step - loss: 0.1373 - accuracy: 0.9521 - val_loss: 0.1968 - val_accuracy: 0.9395\n",
            "\n",
            "Epoch 00003: val_accuracy improved from 0.93389 to 0.93948, saving model to best_model_soft.h5\n",
            "Epoch 4/15\n",
            "20027/20027 [==============================] - 469s 23ms/step - loss: 0.0880 - accuracy: 0.9696 - val_loss: 0.2093 - val_accuracy: 0.9297\n",
            "\n",
            "Epoch 00004: val_accuracy did not improve from 0.93948\n",
            "Epoch 5/15\n",
            "20027/20027 [==============================] - 460s 23ms/step - loss: 0.0607 - accuracy: 0.9789 - val_loss: 0.2286 - val_accuracy: 0.9401\n",
            "\n",
            "Epoch 00005: val_accuracy improved from 0.93948 to 0.94008, saving model to best_model_soft.h5\n",
            "Epoch 6/15\n",
            "20027/20027 [==============================] - 472s 24ms/step - loss: 0.0457 - accuracy: 0.9847 - val_loss: 0.2305 - val_accuracy: 0.9307\n",
            "\n",
            "Epoch 00006: val_accuracy did not improve from 0.94008\n"
          ],
          "name": "stdout"
        }
      ]
    },
    {
      "cell_type": "code",
      "metadata": {
        "id": "8Bpp_BE3k3ka",
        "colab_type": "code",
        "colab": {
          "base_uri": "https://localhost:8080/",
          "height": 318
        },
        "outputId": "b32ca42b-c54a-4e13-f617-9171f869fa9b"
      },
      "source": [
        "_, train_acc = model.evaluate(X_train, y_train)\n",
        "_, test_acc = model.evaluate(X_test, y_test)\n",
        "print('Train: %.3f, Test: %.3f' % (train_acc, test_acc))\n",
        "# plot training history\n",
        "plt.plot(history.history['loss'], label='train')\n",
        "plt.plot(history.history['val_loss'], label='test')\n",
        "plt.legend()\n",
        "plt.show()"
      ],
      "execution_count": 82,
      "outputs": [
        {
          "output_type": "stream",
          "text": [
            "20027/20027 [==============================] - 88s 4ms/step\n",
            "5007/5007 [==============================] - 22s 4ms/step\n",
            "Train: 0.993, Test: 0.931\n"
          ],
          "name": "stdout"
        },
        {
          "output_type": "display_data",
          "data": {
            "image/png": "[encoded data removed]",
            "text/plain": [
              "<Figure size 432x288 with 1 Axes>"
            ]
          },
          "metadata": {
            "tags": [],
            "needs_background": "light"
          }
        }
      ]
    },
    {
      "cell_type": "code",
      "metadata": {
        "id": "uRMF1iaascvA",
        "colab_type": "code",
        "colab": {
          "base_uri": "https://localhost:8080/",
          "height": 265
        },
        "outputId": "da0dbea2-127b-47c6-bb88-97e1fce704ff"
      },
      "source": [
        "# plot training history\n",
        "plt.plot(history.history['accuracy'], label='train')\n",
        "plt.plot(history.history['val_accuracy'], label='test')\n",
        "plt.legend()\n",
        "plt.show()"
      ],
      "execution_count": 83,
      "outputs": [
        {
          "output_type": "display_data",
          "data": {
            "image/png": "[encoded data removed]",
            "text/plain": [
              "<Figure size 432x288 with 1 Axes>"
            ]
          },
          "metadata": {
            "tags": [],
            "needs_background": "light"
          }
        }
      ]
    },
    {
      "cell_type": "code",
      "metadata": {
        "id": "I5SRwInjzseB",
        "colab_type": "code",
        "colab": {
          "base_uri": "https://localhost:8080/",
          "height": 88
        },
        "outputId": "71382931-58bc-4f07-aefc-9d50ca0f229a"
      },
      "source": [
        "model.predict(x=test_samples_tokens_pad)"
      ],
      "execution_count": 84,
      "outputs": [
        {
          "output_type": "execute_result",
          "data": {
            "text/plain": [
              "array([[0.25155318],\n",
              "       [0.9995559 ],\n",
              "       [0.77527547],\n",
              "       [0.9981889 ]], dtype=float32)"
            ]
          },
          "metadata": {
            "tags": []
          },
          "execution_count": 84
        }
      ]
    },
    {
      "cell_type": "markdown",
      "metadata": {
        "id": "fO7JCUk6EydR",
        "colab_type": "text"
      },
      "source": [
        "Although there does not seem to be a difference in the loss and accuracy scores, we can see a stark difference in the probability for _test_sample1_. In our previous training, the probability was 0.7383321, which was rather similar to _test_sample3_, a somewhat neutral statement. Since the probability is much closer to 0 than to 1, we can say with confidence that _test_sample1_ has a negative sentiment. \n",
        "\n",
        "Similarly, this model gives us a good sense of the probability of a neutral sentiment. In this prediction, the probability for _test_sample3_ was 0.77527547, which was approximately 0.2 lower than the positive review and 0.5 higher than the negative review."
      ]
    },
    {
      "cell_type": "code",
      "metadata": {
        "id": "LjL8jXTmz1hl",
        "colab_type": "code",
        "colab": {}
      },
      "source": [
        ""
      ],
      "execution_count": 0,
      "outputs": []
    }
  ]
}