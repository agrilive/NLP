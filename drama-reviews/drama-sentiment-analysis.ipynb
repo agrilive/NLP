{
 "cells": [
  {
   "cell_type": "markdown",
   "metadata": {},
   "source": [
    "# Drama Reviews Sentiment Analysis\n",
    "\n",
    "**Problem Statement:** Given drama reviews from mydramalist, the task is to predict whether a review contains positive, neutral or negative sentiment about the drama. This is a supervised learning task, where given a string of review text, we have to categorise them into predefined categories based on rating.\n",
    "\n",
    "**Solution:** After retrieving the reviews from the website, I have preprocessed the reviews text, as well as conduct exploratory data analysis on the ratings and the reviews. Here, I convert the text to numerical representation in order to be trained by a machine learning algorithm. Then, the algorithm will train and test the drama reviews sentiment.\n",
    "\n",
    "## 1. Import libraries and load CSV file"
   ]
  },
  {
   "cell_type": "code",
   "execution_count": 1,
   "metadata": {},
   "outputs": [],
   "source": [
    "import pandas as pd\n",
    "import numpy as np"
   ]
  },
  {
   "cell_type": "code",
   "execution_count": 2,
   "metadata": {},
   "outputs": [],
   "source": [
    "df = pd.read_csv('drama_reviews_processed.csv')"
   ]
  },
  {
   "cell_type": "code",
   "execution_count": 3,
   "metadata": {},
   "outputs": [
    {
     "data": {
      "text/html": [
       "<div>\n",
       "<style scoped>\n",
       "    .dataframe tbody tr th:only-of-type {\n",
       "        vertical-align: middle;\n",
       "    }\n",
       "\n",
       "    .dataframe tbody tr th {\n",
       "        vertical-align: top;\n",
       "    }\n",
       "\n",
       "    .dataframe thead th {\n",
       "        text-align: right;\n",
       "    }\n",
       "</style>\n",
       "<table border=\"1\" class=\"dataframe\">\n",
       "  <thead>\n",
       "    <tr style=\"text-align: right;\">\n",
       "      <th></th>\n",
       "      <th>drama_title</th>\n",
       "      <th>user_name</th>\n",
       "      <th>overall_rating</th>\n",
       "      <th>story_rating</th>\n",
       "      <th>cast_rating</th>\n",
       "      <th>music_rating</th>\n",
       "      <th>rewatch_value_rating</th>\n",
       "      <th>reviews</th>\n",
       "      <th>sentiment</th>\n",
       "      <th>reviews_processed</th>\n",
       "      <th>language</th>\n",
       "      <th>reviews_processed2x</th>\n",
       "      <th>reviews_lemmatized</th>\n",
       "    </tr>\n",
       "  </thead>\n",
       "  <tbody>\n",
       "    <tr>\n",
       "      <td>0</td>\n",
       "      <td>Dear My Friends (2016)</td>\n",
       "      <td>iamgeralddd</td>\n",
       "      <td>10.0</td>\n",
       "      <td>10.0</td>\n",
       "      <td>10.0</td>\n",
       "      <td>10.0</td>\n",
       "      <td>10.0</td>\n",
       "      <td>Thank you writer Noh for making this heart-wa...</td>\n",
       "      <td>1</td>\n",
       "      <td>thank you writer noh for making this heart war...</td>\n",
       "      <td>en</td>\n",
       "      <td>thank writer noh making heart warming story co...</td>\n",
       "      <td>heart warming story live drama excited weekend...</td>\n",
       "    </tr>\n",
       "    <tr>\n",
       "      <td>1</td>\n",
       "      <td>Dear My Friends (2016)</td>\n",
       "      <td>Dounie</td>\n",
       "      <td>10.0</td>\n",
       "      <td>10.0</td>\n",
       "      <td>10.0</td>\n",
       "      <td>8.5</td>\n",
       "      <td>9.0</td>\n",
       "      <td>I know for some, stories following and tellin...</td>\n",
       "      <td>1</td>\n",
       "      <td>i know for some stories following and telling ...</td>\n",
       "      <td>en</td>\n",
       "      <td>know stories following telling lives older peo...</td>\n",
       "      <td>story old people promise boring decide try fun...</td>\n",
       "    </tr>\n",
       "    <tr>\n",
       "      <td>2</td>\n",
       "      <td>Dear My Friends (2016)</td>\n",
       "      <td>Pelin</td>\n",
       "      <td>10.0</td>\n",
       "      <td>10.0</td>\n",
       "      <td>10.0</td>\n",
       "      <td>10.0</td>\n",
       "      <td>10.0</td>\n",
       "      <td>Story \"A realistic, cheerful story about “twi...</td>\n",
       "      <td>1</td>\n",
       "      <td>story a realistic cheerful story about twiligh...</td>\n",
       "      <td>en</td>\n",
       "      <td>story realistic cheerful story twilight youths...</td>\n",
       "      <td>story realistic cheerful story twilight young ...</td>\n",
       "    </tr>\n",
       "    <tr>\n",
       "      <td>3</td>\n",
       "      <td>Dear My Friends (2016)</td>\n",
       "      <td>silent_whispers</td>\n",
       "      <td>9.0</td>\n",
       "      <td>9.0</td>\n",
       "      <td>10.0</td>\n",
       "      <td>10.0</td>\n",
       "      <td>7.0</td>\n",
       "      <td>When I heard about a drama that would be comi...</td>\n",
       "      <td>1</td>\n",
       "      <td>when i heard about a drama that would be comin...</td>\n",
       "      <td>en</td>\n",
       "      <td>heard drama would coming 2016 twilight youths ...</td>\n",
       "      <td>drama twilight youth life long friend drama lo...</td>\n",
       "    </tr>\n",
       "    <tr>\n",
       "      <td>4</td>\n",
       "      <td>Dear My Friends (2016)</td>\n",
       "      <td>Dana</td>\n",
       "      <td>9.0</td>\n",
       "      <td>9.0</td>\n",
       "      <td>10.0</td>\n",
       "      <td>7.0</td>\n",
       "      <td>3.0</td>\n",
       "      <td>In a sometimes overwhelming world of perfect ...</td>\n",
       "      <td>1</td>\n",
       "      <td>in a sometimes overwhelming world of perfect f...</td>\n",
       "      <td>en</td>\n",
       "      <td>sometimes overwhelming world perfect faces scr...</td>\n",
       "      <td>overwhelming world perfect script dear friend ...</td>\n",
       "    </tr>\n",
       "  </tbody>\n",
       "</table>\n",
       "</div>"
      ],
      "text/plain": [
       "              drama_title        user_name  overall_rating  story_rating  \\\n",
       "0  Dear My Friends (2016)      iamgeralddd            10.0          10.0   \n",
       "1  Dear My Friends (2016)           Dounie            10.0          10.0   \n",
       "2  Dear My Friends (2016)            Pelin            10.0          10.0   \n",
       "3  Dear My Friends (2016)  silent_whispers             9.0           9.0   \n",
       "4  Dear My Friends (2016)             Dana             9.0           9.0   \n",
       "\n",
       "   cast_rating  music_rating  rewatch_value_rating  \\\n",
       "0         10.0          10.0                  10.0   \n",
       "1         10.0           8.5                   9.0   \n",
       "2         10.0          10.0                  10.0   \n",
       "3         10.0          10.0                   7.0   \n",
       "4         10.0           7.0                   3.0   \n",
       "\n",
       "                                             reviews  sentiment  \\\n",
       "0   Thank you writer Noh for making this heart-wa...          1   \n",
       "1   I know for some, stories following and tellin...          1   \n",
       "2   Story \"A realistic, cheerful story about “twi...          1   \n",
       "3   When I heard about a drama that would be comi...          1   \n",
       "4   In a sometimes overwhelming world of perfect ...          1   \n",
       "\n",
       "                                   reviews_processed language  \\\n",
       "0  thank you writer noh for making this heart war...       en   \n",
       "1  i know for some stories following and telling ...       en   \n",
       "2  story a realistic cheerful story about twiligh...       en   \n",
       "3  when i heard about a drama that would be comin...       en   \n",
       "4  in a sometimes overwhelming world of perfect f...       en   \n",
       "\n",
       "                                 reviews_processed2x  \\\n",
       "0  thank writer noh making heart warming story co...   \n",
       "1  know stories following telling lives older peo...   \n",
       "2  story realistic cheerful story twilight youths...   \n",
       "3  heard drama would coming 2016 twilight youths ...   \n",
       "4  sometimes overwhelming world perfect faces scr...   \n",
       "\n",
       "                                  reviews_lemmatized  \n",
       "0  heart warming story live drama excited weekend...  \n",
       "1  story old people promise boring decide try fun...  \n",
       "2  story realistic cheerful story twilight young ...  \n",
       "3  drama twilight youth life long friend drama lo...  \n",
       "4  overwhelming world perfect script dear friend ...  "
      ]
     },
     "execution_count": 3,
     "metadata": {},
     "output_type": "execute_result"
    }
   ],
   "source": [
    "df.head()"
   ]
  },
  {
   "cell_type": "markdown",
   "metadata": {},
   "source": [
    "## 2. Vectorization - Term Frequency & Inverse Document Frequency (TF-IDF)\n",
    "\n",
    "From the exploratory data analysis, we found that the words \"drama\", \"story\" and \"character\" appeared very often. However, these common words may not be helpful in classification. Thus, TF-IDF is used to increase the significance of words that appear frequently in a document while decreasing the importance of common words that appear across all documents.\n",
    "\n",
    "TF-IDF is calculated as:\n",
    "- TF  = (Frequency of a word in doc)/(Total words in the doc)\n",
    "- IDF = Log((Total number of docs)/(Number of docs containing the word))\n",
    "\n",
    "df['reviews_processed'] is used here since the TfidfVectorizer in Scikit-Learn will factor in these stopwords."
   ]
  },
  {
   "cell_type": "code",
   "execution_count": 4,
   "metadata": {},
   "outputs": [],
   "source": [
    "processed_features = df['reviews_processed']"
   ]
  },
  {
   "cell_type": "code",
   "execution_count": 5,
   "metadata": {},
   "outputs": [],
   "source": [
    "from nltk.corpus import stopwords\n",
    "from sklearn.feature_extraction.text import TfidfVectorizer\n",
    "\n",
    "vectorizer = TfidfVectorizer(max_features=2500, min_df=7, max_df=0.8, stop_words=stopwords.words('english'))\n",
    "processed_features = vectorizer.fit_transform(processed_features).toarray()"
   ]
  },
  {
   "cell_type": "markdown",
   "metadata": {},
   "source": [
    "## 3. Split data into train and test sets"
   ]
  },
  {
   "cell_type": "code",
   "execution_count": 6,
   "metadata": {},
   "outputs": [],
   "source": [
    "labels = df['sentiment']"
   ]
  },
  {
   "cell_type": "code",
   "execution_count": 7,
   "metadata": {},
   "outputs": [],
   "source": [
    "from sklearn.model_selection import train_test_split\n",
    "\n",
    "X_train, X_test, y_train, y_test = train_test_split(processed_features, labels, test_size=0.2, random_state=42)"
   ]
  },
  {
   "cell_type": "markdown",
   "metadata": {},
   "source": [
    "## 4. Random Forest Classifier\n",
    "\n",
    "The Random Forest algorithm is an ensemble of many decision trees. An ensemble technique aggregates the outcome of individual predictions to get a better result and reduce overfitting. Random Forest is trained by bagging. Subsets of the training data are randomly sampled, fitted and the predicted outputs are aggregated. Sampling is done with replacement.\n",
    "\n",
    "### 4.1 Train model"
   ]
  },
  {
   "cell_type": "code",
   "execution_count": 8,
   "metadata": {},
   "outputs": [
    {
     "data": {
      "text/plain": [
       "RandomForestClassifier(bootstrap=True, class_weight=None, criterion='gini',\n",
       "                       max_depth=None, max_features='auto', max_leaf_nodes=None,\n",
       "                       min_impurity_decrease=0.0, min_impurity_split=None,\n",
       "                       min_samples_leaf=1, min_samples_split=2,\n",
       "                       min_weight_fraction_leaf=0.0, n_estimators=200,\n",
       "                       n_jobs=None, oob_score=False, random_state=42, verbose=0,\n",
       "                       warm_start=False)"
      ]
     },
     "execution_count": 8,
     "metadata": {},
     "output_type": "execute_result"
    }
   ],
   "source": [
    "from sklearn.ensemble import RandomForestClassifier\n",
    "\n",
    "rfc = RandomForestClassifier(n_estimators=200, random_state=42)\n",
    "rfc.fit(X_train, y_train)"
   ]
  },
  {
   "cell_type": "markdown",
   "metadata": {},
   "source": [
    "### 4.2 Make predictions and evaluate model"
   ]
  },
  {
   "cell_type": "code",
   "execution_count": 9,
   "metadata": {},
   "outputs": [],
   "source": [
    "y_pred = rfc.predict(X_test)"
   ]
  },
  {
   "cell_type": "code",
   "execution_count": 10,
   "metadata": {},
   "outputs": [
    {
     "name": "stdout",
     "output_type": "stream",
     "text": [
      "[[  51    0  177]\n",
      " [   0   35   97]\n",
      " [   0    0 4647]]\n",
      "              precision    recall  f1-score   support\n",
      "\n",
      "          -1       1.00      0.22      0.37       228\n",
      "           0       1.00      0.27      0.42       132\n",
      "           1       0.94      1.00      0.97      4647\n",
      "\n",
      "    accuracy                           0.95      5007\n",
      "   macro avg       0.98      0.50      0.59      5007\n",
      "weighted avg       0.95      0.95      0.93      5007\n",
      "\n",
      "0.945276612742161\n"
     ]
    }
   ],
   "source": [
    "from sklearn.metrics import classification_report, confusion_matrix, accuracy_score\n",
    "\n",
    "print(confusion_matrix(y_test,y_pred))\n",
    "print(classification_report(y_test,y_pred))\n",
    "print(accuracy_score(y_test,y_pred))"
   ]
  },
  {
   "cell_type": "markdown",
   "metadata": {},
   "source": [
    "The acurracy level does not reveal the effectiveness of the model as the size of the positive sentiment class outweighs the negative and neutral sentiment classes. Thus, we look into other metrics to identify the effectiveness of the model.\n",
    "\n",
    "From the confusion matrix, we can see that there is a high proportion of negative reviews (177/228) wrongly predicted as positive reviews. Although a similarly high proportion of neutral reviews (97/132) were wrongly predicted as positive reviews, a rating of 5.0/10.0 would be considered positive under a binary classification problem of negative or positive reviews. As such, a binary classification task could be tested as well.\n",
    "\n",
    "It is noteworthy to say that the precision values are high, meaning to say that there is a high propotion of true positives relative to false positives. Yet, recall score is sacrificed. A high proportion of negative and neutral reviews were wrongly classified."
   ]
  },
  {
   "cell_type": "markdown",
   "metadata": {},
   "source": [
    "## 5. Logistic Regression\n",
    "\n",
    "Logistic Regression is a classification algorithm, which predicts the probability that an input belong to a particular category. The Logistic Regression models data using the sigmoid function, g(z)=1/(1+e^-z).\n",
    "\n",
    "### 5.1 Train model"
   ]
  },
  {
   "cell_type": "code",
   "execution_count": 12,
   "metadata": {},
   "outputs": [
    {
     "data": {
      "text/plain": [
       "LogisticRegression(C=1.0, class_weight=None, dual=False, fit_intercept=True,\n",
       "                   intercept_scaling=1, l1_ratio=None, max_iter=100,\n",
       "                   multi_class='ovr', n_jobs=None, penalty='l2',\n",
       "                   random_state=42, solver='lbfgs', tol=0.0001, verbose=0,\n",
       "                   warm_start=False)"
      ]
     },
     "execution_count": 12,
     "metadata": {},
     "output_type": "execute_result"
    }
   ],
   "source": [
    "from sklearn.linear_model import LogisticRegression\n",
    "\n",
    "lr = LogisticRegression(random_state=42, solver='lbfgs', multi_class='ovr')\n",
    "lr.fit(X_train, y_train)"
   ]
  },
  {
   "cell_type": "markdown",
   "metadata": {},
   "source": [
    "### 5.2 Make predictions and evaluate model"
   ]
  },
  {
   "cell_type": "code",
   "execution_count": 13,
   "metadata": {},
   "outputs": [],
   "source": [
    "y_pred = lr.predict(X_test)"
   ]
  },
  {
   "cell_type": "code",
   "execution_count": 14,
   "metadata": {},
   "outputs": [
    {
     "name": "stdout",
     "output_type": "stream",
     "text": [
      "[[  36    0  192]\n",
      " [   4    0  128]\n",
      " [   9    0 4638]]\n",
      "              precision    recall  f1-score   support\n",
      "\n",
      "          -1       0.73      0.16      0.26       228\n",
      "           0       0.00      0.00      0.00       132\n",
      "           1       0.94      1.00      0.97      4647\n",
      "\n",
      "    accuracy                           0.93      5007\n",
      "   macro avg       0.56      0.39      0.41      5007\n",
      "weighted avg       0.90      0.93      0.91      5007\n",
      "\n",
      "0.9334931096464949\n"
     ]
    },
    {
     "name": "stderr",
     "output_type": "stream",
     "text": [
      "C:\\Users\\weich\\Anaconda3\\lib\\site-packages\\sklearn\\metrics\\classification.py:1437: UndefinedMetricWarning: Precision and F-score are ill-defined and being set to 0.0 in labels with no predicted samples.\n",
      "  'precision', 'predicted', average, warn_for)\n"
     ]
    }
   ],
   "source": [
    "print(confusion_matrix(y_test,y_pred))\n",
    "print(classification_report(y_test,y_pred))\n",
    "print(accuracy_score(y_test,y_pred))"
   ]
  },
  {
   "cell_type": "markdown",
   "metadata": {},
   "source": [
    "Although accuracy is almost as high as the one given by the random forest algorithm, closer analysis is needed to evaluate the effectiveness of the logistic regression model.\n",
    "\n",
    "The precision and recall scores of positive reviews are high, while that of negative and neutral reviews are significantly lower. This could be contributed to the fact that none of the neutral reviews were correctly predicted. "
   ]
  },
  {
   "cell_type": "markdown",
   "metadata": {},
   "source": [
    "## 6. Support Vector Machine\n",
    "\n",
    "Support Vector Machine algorithms find the hyperplane that best divides the dataset into its classes. Support Vectors are the data points nearest to the hyperplane, which changes the hyperplane position if removed.\n",
    "\n",
    "### 6.1 Train model"
   ]
  },
  {
   "cell_type": "code",
   "execution_count": 15,
   "metadata": {},
   "outputs": [
    {
     "data": {
      "text/plain": [
       "LinearSVC(C=1.0, class_weight=None, dual=True, fit_intercept=True,\n",
       "          intercept_scaling=1, loss='squared_hinge', max_iter=1000,\n",
       "          multi_class='ovr', penalty='l2', random_state=None, tol=0.0001,\n",
       "          verbose=0)"
      ]
     },
     "execution_count": 15,
     "metadata": {},
     "output_type": "execute_result"
    }
   ],
   "source": [
    "from sklearn import svm\n",
    "\n",
    "svm = svm.LinearSVC(random_state=42)\n",
    "svm.fit(X_train, y_train)"
   ]
  },
  {
   "cell_type": "markdown",
   "metadata": {},
   "source": [
    "### 6.2 Make predictions and evaluate model"
   ]
  },
  {
   "cell_type": "code",
   "execution_count": 21,
   "metadata": {},
   "outputs": [],
   "source": [
    "y_pred = svm.predict(X_test)"
   ]
  },
  {
   "cell_type": "code",
   "execution_count": 22,
   "metadata": {},
   "outputs": [
    {
     "name": "stdout",
     "output_type": "stream",
     "text": [
      "[[  95   10  123]\n",
      " [   9   16  107]\n",
      " [  49   16 4582]]\n",
      "              precision    recall  f1-score   support\n",
      "\n",
      "          -1       0.62      0.42      0.50       228\n",
      "           0       0.38      0.12      0.18       132\n",
      "           1       0.95      0.99      0.97      4647\n",
      "\n",
      "    accuracy                           0.94      5007\n",
      "   macro avg       0.65      0.51      0.55      5007\n",
      "weighted avg       0.92      0.94      0.93      5007\n",
      "\n",
      "0.9372877970840823\n"
     ]
    }
   ],
   "source": [
    "print(confusion_matrix(y_test,y_pred))\n",
    "print(classification_report(y_test,y_pred))\n",
    "print(accuracy_score(y_test,y_pred))"
   ]
  },
  {
   "cell_type": "markdown",
   "metadata": {},
   "source": [
    "The results of the support vector machine seem to be rather similar to that of the logistic regression, with high precision and recall scores for positive reviews, and lower scores for negative and neutral reviews."
   ]
  },
  {
   "cell_type": "markdown",
   "metadata": {},
   "source": [
    "## 7. K-Nearest Neighbors\n",
    "\n",
    "K-Nearest Neighbors algorithm classifies data into classes based on a similiarity measure.\n",
    "\n",
    "### 7.1 Train model"
   ]
  },
  {
   "cell_type": "code",
   "execution_count": 18,
   "metadata": {},
   "outputs": [
    {
     "data": {
      "text/plain": [
       "KNeighborsClassifier(algorithm='auto', leaf_size=30, metric='minkowski',\n",
       "                     metric_params=None, n_jobs=None, n_neighbors=5, p=2,\n",
       "                     weights='uniform')"
      ]
     },
     "execution_count": 18,
     "metadata": {},
     "output_type": "execute_result"
    }
   ],
   "source": [
    "from sklearn.neighbors import KNeighborsClassifier\n",
    "\n",
    "knn = KNeighborsClassifier(n_neighbors=5)\n",
    "knn.fit(X_train, y_train)"
   ]
  },
  {
   "cell_type": "markdown",
   "metadata": {},
   "source": [
    "### 7.2 Make predictions and evaluate model"
   ]
  },
  {
   "cell_type": "code",
   "execution_count": 19,
   "metadata": {},
   "outputs": [],
   "source": [
    "y_pred = knn.predict(X_test)"
   ]
  },
  {
   "cell_type": "code",
   "execution_count": 20,
   "metadata": {},
   "outputs": [
    {
     "name": "stdout",
     "output_type": "stream",
     "text": [
      "[[  25    6  197]\n",
      " [   7    3  122]\n",
      " [  18   10 4619]]\n",
      "              precision    recall  f1-score   support\n",
      "\n",
      "          -1       0.50      0.11      0.18       228\n",
      "           0       0.16      0.02      0.04       132\n",
      "           1       0.94      0.99      0.96      4647\n",
      "\n",
      "    accuracy                           0.93      5007\n",
      "   macro avg       0.53      0.38      0.39      5007\n",
      "weighted avg       0.90      0.93      0.90      5007\n",
      "\n",
      "0.9281006590772918\n"
     ]
    }
   ],
   "source": [
    "print(confusion_matrix(y_test,y_pred))\n",
    "print(classification_report(y_test,y_pred))\n",
    "print(accuracy_score(y_test,y_pred))"
   ]
  },
  {
   "cell_type": "markdown",
   "metadata": {},
   "source": [
    "Again, the k-nearest neighbors algorithm give high precision and recall scores for positive reviews and lower scores for negative and neutral reviews.\n",
    "\n",
    "## 8. Hyperparameter Tuning - Random Forest Classifier\n",
    "\n",
    "Despite the high accuracy and precision scores for the random forest classifier, the best parameters may not have been selected. As such, a **Grid Search Cross Validation** would be used to identify the best parameters."
   ]
  },
  {
   "cell_type": "code",
   "execution_count": 11,
   "metadata": {},
   "outputs": [
    {
     "data": {
      "text/plain": [
       "GridSearchCV(cv=5, error_score='raise-deprecating',\n",
       "             estimator=RandomForestClassifier(bootstrap=True, class_weight=None,\n",
       "                                              criterion='gini', max_depth=None,\n",
       "                                              max_features='auto',\n",
       "                                              max_leaf_nodes=None,\n",
       "                                              min_impurity_decrease=0.0,\n",
       "                                              min_impurity_split=None,\n",
       "                                              min_samples_leaf=1,\n",
       "                                              min_samples_split=2,\n",
       "                                              min_weight_fraction_leaf=0.0,\n",
       "                                              n_estimators=200, n_jobs=-1,\n",
       "                                              oob_score=True, random_state=42,\n",
       "                                              verbose=0, warm_start=False),\n",
       "             iid='warn', n_jobs=None,\n",
       "             param_grid={'max_features': ['auto', 'sqrt', 'log2'],\n",
       "                         'n_estimators': [200, 400, 600]},\n",
       "             pre_dispatch='2*n_jobs', refit=True, return_train_score=False,\n",
       "             scoring=None, verbose=0)"
      ]
     },
     "execution_count": 11,
     "metadata": {},
     "output_type": "execute_result"
    }
   ],
   "source": [
    "from sklearn.model_selection import GridSearchCV\n",
    "\n",
    "rfc = RandomForestClassifier(n_jobs=-1,n_estimators=200, oob_score = True, random_state=42) \n",
    "\n",
    "param_grid = { \n",
    "    'n_estimators': [200, 400, 600],\n",
    "    'max_features': ['auto', 'sqrt', 'log2']\n",
    "}\n",
    "\n",
    "CV_rfc = GridSearchCV(estimator=rfc, param_grid=param_grid, cv= 5)\n",
    "CV_rfc.fit(X_train, y_train)"
   ]
  },
  {
   "cell_type": "code",
   "execution_count": 12,
   "metadata": {},
   "outputs": [
    {
     "data": {
      "text/plain": [
       "{'max_features': 'auto', 'n_estimators': 200}"
      ]
     },
     "execution_count": 12,
     "metadata": {},
     "output_type": "execute_result"
    }
   ],
   "source": [
    "CV_rfc.best_params_ # best parameters of grid search"
   ]
  },
  {
   "cell_type": "code",
   "execution_count": 13,
   "metadata": {},
   "outputs": [],
   "source": [
    "best_rfc = CV_rfc.best_estimator_\n",
    "y_pred = best_rfc.predict(X_test)"
   ]
  },
  {
   "cell_type": "code",
   "execution_count": 14,
   "metadata": {},
   "outputs": [
    {
     "name": "stdout",
     "output_type": "stream",
     "text": [
      "[[  51    0  177]\n",
      " [   0   35   97]\n",
      " [   0    0 4647]]\n",
      "              precision    recall  f1-score   support\n",
      "\n",
      "          -1       1.00      0.22      0.37       228\n",
      "           0       1.00      0.27      0.42       132\n",
      "           1       0.94      1.00      0.97      4647\n",
      "\n",
      "    accuracy                           0.95      5007\n",
      "   macro avg       0.98      0.50      0.59      5007\n",
      "weighted avg       0.95      0.95      0.93      5007\n",
      "\n",
      "0.945276612742161\n"
     ]
    }
   ],
   "source": [
    "print(confusion_matrix(y_test,y_pred))\n",
    "print(classification_report(y_test,y_pred))\n",
    "print(accuracy_score(y_test,y_pred))"
   ]
  },
  {
   "cell_type": "markdown",
   "metadata": {},
   "source": [
    "Of the parameters I tested, the best parameters are the same as the Random Forest Classifier I had tried earlier. \n",
    "\n",
    "For further analysis, I will make two changes and use the Random Forest Classifier to train and predict the sentiments again.\n",
    "\n",
    "## 9. Binary Class & Down Sample the Majority Class\n",
    "\n",
    "Since the Random Forest Classifier predicted a huge proportion of neutral sentiments as positive, I combined the neutral and positive sentiments into one class - positive. Thus, this will be a binary classification problem.\n",
    "\n",
    "In addition, accuracy was not a good indicator of model effectiveness as the size of the positive sentiment class far outweighs the negative class. Thus, I will down sample the majority positive class.\n",
    "\n",
    "### 9.1 Convert data to binary class"
   ]
  },
  {
   "cell_type": "code",
   "execution_count": 19,
   "metadata": {},
   "outputs": [],
   "source": [
    "def label_sentiment(row): # label sentiment according to overall rating\n",
    "    if row['overall_rating'] < 5.0:\n",
    "        return 0 # 0 means negative rating\n",
    "    return 1 # 1 means positive rating\n",
    "\n",
    "df['sentiment'] = df.apply(lambda row: label_sentiment(row), axis=1)"
   ]
  },
  {
   "cell_type": "code",
   "execution_count": 20,
   "metadata": {},
   "outputs": [
    {
     "data": {
      "text/plain": [
       "1    23867\n",
       "0     1167\n",
       "Name: sentiment, dtype: int64"
      ]
     },
     "execution_count": 20,
     "metadata": {},
     "output_type": "execute_result"
    }
   ],
   "source": [
    "df['sentiment'].value_counts() # data is skewed"
   ]
  },
  {
   "cell_type": "markdown",
   "metadata": {},
   "source": [
    "### 9.2 Down sample positive sentiment reviews"
   ]
  },
  {
   "cell_type": "code",
   "execution_count": 24,
   "metadata": {},
   "outputs": [
    {
     "data": {
      "text/plain": [
       "1    1167\n",
       "0    1167\n",
       "Name: sentiment, dtype: int64"
      ]
     },
     "execution_count": 24,
     "metadata": {},
     "output_type": "execute_result"
    }
   ],
   "source": [
    "from sklearn.utils import resample\n",
    "\n",
    "df_majority = df[df['sentiment']==1] # Separate majority and minority classes\n",
    "df_minority = df[df['sentiment']==0]\n",
    "\n",
    "df_majority_downsampled = resample(df_majority, replace=False, n_samples=len(df_minority), random_state=42)\n",
    "df_downsampled = pd.concat([df_majority_downsampled, df_minority]) # Combine minority class with downsampled majority class\n",
    "df_downsampled['sentiment'].value_counts()"
   ]
  },
  {
   "cell_type": "markdown",
   "metadata": {},
   "source": [
    "## 10. Random Forest Classifier with best parameters\n",
    "\n",
    "The downsampled data is then trained with the random forest classifier and its best parameters.\n",
    "\n",
    "### 10.1 Vectorization"
   ]
  },
  {
   "cell_type": "code",
   "execution_count": 25,
   "metadata": {},
   "outputs": [],
   "source": [
    "processed_features = df_downsampled['reviews_processed']\n",
    "\n",
    "vectorizer = TfidfVectorizer(max_features=2500, min_df=7, max_df=0.8, stop_words=stopwords.words('english')) # vectorization\n",
    "processed_features = vectorizer.fit_transform(processed_features).toarray()"
   ]
  },
  {
   "cell_type": "markdown",
   "metadata": {},
   "source": [
    "### 10.2 Split data into train and test sets"
   ]
  },
  {
   "cell_type": "code",
   "execution_count": 26,
   "metadata": {},
   "outputs": [],
   "source": [
    "labels = df_downsampled['sentiment']\n",
    "\n",
    "X_train, X_test, y_train, y_test = train_test_split(processed_features, labels, test_size=0.2, random_state=42) \n",
    "#split train and test sets"
   ]
  },
  {
   "cell_type": "markdown",
   "metadata": {},
   "source": [
    "### 10.3 Train Random Forest Classifier with the best parameters"
   ]
  },
  {
   "cell_type": "code",
   "execution_count": 27,
   "metadata": {},
   "outputs": [
    {
     "data": {
      "text/plain": [
       "RandomForestClassifier(bootstrap=True, class_weight=None, criterion='gini',\n",
       "                       max_depth=None, max_features='auto', max_leaf_nodes=None,\n",
       "                       min_impurity_decrease=0.0, min_impurity_split=None,\n",
       "                       min_samples_leaf=1, min_samples_split=2,\n",
       "                       min_weight_fraction_leaf=0.0, n_estimators=200,\n",
       "                       n_jobs=None, oob_score=False, random_state=42, verbose=0,\n",
       "                       warm_start=False)"
      ]
     },
     "execution_count": 27,
     "metadata": {},
     "output_type": "execute_result"
    }
   ],
   "source": [
    "rfc = RandomForestClassifier(n_estimators=200, random_state=42)\n",
    "rfc.fit(X_train, y_train)"
   ]
  },
  {
   "cell_type": "markdown",
   "metadata": {},
   "source": [
    "### 10.4 Make predictions and evaluate model"
   ]
  },
  {
   "cell_type": "code",
   "execution_count": 28,
   "metadata": {},
   "outputs": [],
   "source": [
    "y_pred = rfc.predict(X_test)"
   ]
  },
  {
   "cell_type": "code",
   "execution_count": 29,
   "metadata": {},
   "outputs": [
    {
     "name": "stdout",
     "output_type": "stream",
     "text": [
      "[[205  30]\n",
      " [ 49 183]]\n",
      "              precision    recall  f1-score   support\n",
      "\n",
      "           0       0.81      0.87      0.84       235\n",
      "           1       0.86      0.79      0.82       232\n",
      "\n",
      "    accuracy                           0.83       467\n",
      "   macro avg       0.83      0.83      0.83       467\n",
      "weighted avg       0.83      0.83      0.83       467\n",
      "\n",
      "0.8308351177730193\n"
     ]
    }
   ],
   "source": [
    "print(confusion_matrix(y_test,y_pred))\n",
    "print(classification_report(y_test,y_pred))\n",
    "print(accuracy_score(y_test,y_pred))"
   ]
  },
  {
   "cell_type": "markdown",
   "metadata": {},
   "source": [
    "The accuracy score now gives a better view on the effectiveness of the model. The precision and recall scores are roughly similar as well. \n",
    "\n",
    "### 10.5 Receiver Operating Characteristics curve\n",
    "\n",
    "To view the trade-off between sensitivity and specificity, we can use the Receiver Operating Characteristics curve. This allows us to choose a threshold that balances sensitivity and specificity. Sensitivity is the true positive rate while specificity is the true negative rate."
   ]
  },
  {
   "cell_type": "code",
   "execution_count": null,
   "metadata": {},
   "outputs": [],
   "source": [
    "from sklearn.metrics import roc_curve\n",
    "%matplotlib inline\n",
    "import matplotlib.pyplot as plt\n",
    "\n",
    "y_probs = rfc.predict_proba(X_test)\n",
    "y_pred_probs = y_probs[:,1]\n",
    "fpr, tpr, thresholds = roc_curve(y_test, y_pred_probs)"
   ]
  },
  {
   "cell_type": "code",
   "execution_count": 35,
   "metadata": {},
   "outputs": [],
   "source": [
    "def plot_roc_curve(fpr, tpr):\n",
    "    plt.plot(fpr, tpr, color='orange', label='ROC')\n",
    "    plt.plot([0, 1], [0, 1], color='darkblue', linestyle='--')\n",
    "    plt.xlabel('False Positive Rate')\n",
    "    plt.ylabel('True Positive Rate')\n",
    "    plt.title('Receiver Operating Characteristic (ROC) Curve')\n",
    "    plt.legend()\n",
    "    plt.show()"
   ]
  },
  {
   "cell_type": "code",
   "execution_count": 36,
   "metadata": {},
   "outputs": [
    {
     "data": {
      "image/png": "[encoded data removed]",
      "text/plain": [
       "<Figure size 432x288 with 1 Axes>"
      ]
     },
     "metadata": {
      "needs_background": "light"
     },
     "output_type": "display_data"
    }
   ],
   "source": [
    "plot_roc_curve(fpr, tpr)"
   ]
  },
  {
   "cell_type": "markdown",
   "metadata": {},
   "source": [
    "The steep curve reveals a positive sign. We are maximising the true positive rate while minimising the false positive rate."
   ]
  },
  {
   "cell_type": "code",
   "execution_count": 37,
   "metadata": {},
   "outputs": [
    {
     "name": "stdout",
     "output_type": "stream",
     "text": [
      "0.9150678650036683\n"
     ]
    }
   ],
   "source": [
    "from sklearn.metrics import auc\n",
    "\n",
    "roc_auc = auc(fpr, tpr)\n",
    "print(roc_auc)"
   ]
  },
  {
   "cell_type": "markdown",
   "metadata": {},
   "source": [
    "The target value for Area Under Curve (AUC) is 1, and this model gives a value of 0.915 - pretty close!\n",
    "\n",
    "## 11. Closing Thoughts\n",
    "\n",
    "This is the first end-to-end project that I did, from getting the data, processing it and training machine learning algorithm for a classification project. I struggled with data retrieval as I had not learnt web scraping before. It was a challenge putting the data into a DataFrame as it tested my for loop and regular expression skills. \n",
    "\n",
    "Data pre-processing was almost as challenging. The first time I did it gave funny words like \"gth\", \"seriesi\" \"hormones\" and even \"shitpeace\" as most commonly occuring words for the negative sentiments! It took several iterations back and forth between data pre-processing and exploratory data analysis to get it right.\n",
    "\n",
    "I am thoroughly thankful that this mini project I have worked on for close to a month has come to fruition. \n",
    "\n"
   ]
  }
 ],
 "metadata": {
  "kernelspec": {
   "display_name": "Python 3",
   "language": "python",
   "name": "python3"
  },
  "language_info": {
   "codemirror_mode": {
    "name": "ipython",
    "version": 3
   },
   "file_extension": ".py",
   "mimetype": "text/x-python",
   "name": "python",
   "nbconvert_exporter": "python",
   "pygments_lexer": "ipython3",
   "version": "3.7.4"
  }
 },
 "nbformat": 4,
 "nbformat_minor": 2
}
