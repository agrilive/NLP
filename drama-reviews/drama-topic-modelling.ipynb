{
 "cells": [
  {
   "cell_type": "markdown",
   "metadata": {},
   "source": [
    "# Topic Modelling\n",
    "\n",
    "Topic modelling identifies the topics within texts. For the drama reviews, this helps in understanding what viewers are saying about the dramas.\n",
    "\n",
    "This notebook is the fourth of a 5 part series of the drama reviews project that I did.\n",
    "\n",
    "\n",
    "## 1. Import libraries and load CSV file"
   ]
  },
  {
   "cell_type": "code",
   "execution_count": 2,
   "metadata": {},
   "outputs": [],
   "source": [
    "import pandas as pd\n",
    "import numpy as np\n",
    "import gensim\n",
    "from gensim import corpora\n",
    "\n",
    "import pyLDAvis # libraries for visualization\n",
    "import pyLDAvis.gensim\n",
    "import matplotlib.pyplot as plt\n",
    "import seaborn as sns\n",
    "%matplotlib inline"
   ]
  },
  {
   "cell_type": "code",
   "execution_count": 36,
   "metadata": {
    "scrolled": true
   },
   "outputs": [
    {
     "data": {
      "text/html": [
       "<div>\n",
       "<style scoped>\n",
       "    .dataframe tbody tr th:only-of-type {\n",
       "        vertical-align: middle;\n",
       "    }\n",
       "\n",
       "    .dataframe tbody tr th {\n",
       "        vertical-align: top;\n",
       "    }\n",
       "\n",
       "    .dataframe thead th {\n",
       "        text-align: right;\n",
       "    }\n",
       "</style>\n",
       "<table border=\"1\" class=\"dataframe\">\n",
       "  <thead>\n",
       "    <tr style=\"text-align: right;\">\n",
       "      <th></th>\n",
       "      <th>drama_title</th>\n",
       "      <th>user_name</th>\n",
       "      <th>overall_rating</th>\n",
       "      <th>story_rating</th>\n",
       "      <th>cast_rating</th>\n",
       "      <th>music_rating</th>\n",
       "      <th>rewatch_value_rating</th>\n",
       "      <th>reviews</th>\n",
       "      <th>sentiment</th>\n",
       "      <th>reviews_processed</th>\n",
       "      <th>language</th>\n",
       "      <th>reviews_processed2x</th>\n",
       "      <th>reviews_lemmatized</th>\n",
       "    </tr>\n",
       "  </thead>\n",
       "  <tbody>\n",
       "    <tr>\n",
       "      <td>0</td>\n",
       "      <td>Dear My Friends (2016)</td>\n",
       "      <td>iamgeralddd</td>\n",
       "      <td>10.0</td>\n",
       "      <td>10.0</td>\n",
       "      <td>10.0</td>\n",
       "      <td>10.0</td>\n",
       "      <td>10.0</td>\n",
       "      <td>Thank you writer Noh for making this heart-wa...</td>\n",
       "      <td>1</td>\n",
       "      <td>thank you writer noh for making this heart war...</td>\n",
       "      <td>en</td>\n",
       "      <td>thank writer noh making heart warming story co...</td>\n",
       "      <td>heart warming story live drama excited weekend...</td>\n",
       "    </tr>\n",
       "    <tr>\n",
       "      <td>1</td>\n",
       "      <td>Dear My Friends (2016)</td>\n",
       "      <td>Dounie</td>\n",
       "      <td>10.0</td>\n",
       "      <td>10.0</td>\n",
       "      <td>10.0</td>\n",
       "      <td>8.5</td>\n",
       "      <td>9.0</td>\n",
       "      <td>I know for some, stories following and tellin...</td>\n",
       "      <td>1</td>\n",
       "      <td>i know for some stories following and telling ...</td>\n",
       "      <td>en</td>\n",
       "      <td>know stories following telling lives older peo...</td>\n",
       "      <td>story old people promise boring decide try fun...</td>\n",
       "    </tr>\n",
       "    <tr>\n",
       "      <td>2</td>\n",
       "      <td>Dear My Friends (2016)</td>\n",
       "      <td>Pelin</td>\n",
       "      <td>10.0</td>\n",
       "      <td>10.0</td>\n",
       "      <td>10.0</td>\n",
       "      <td>10.0</td>\n",
       "      <td>10.0</td>\n",
       "      <td>Story \"A realistic, cheerful story about “twi...</td>\n",
       "      <td>1</td>\n",
       "      <td>story a realistic cheerful story about twiligh...</td>\n",
       "      <td>en</td>\n",
       "      <td>story realistic cheerful story twilight youths...</td>\n",
       "      <td>story realistic cheerful story twilight young ...</td>\n",
       "    </tr>\n",
       "    <tr>\n",
       "      <td>3</td>\n",
       "      <td>Dear My Friends (2016)</td>\n",
       "      <td>silent_whispers</td>\n",
       "      <td>9.0</td>\n",
       "      <td>9.0</td>\n",
       "      <td>10.0</td>\n",
       "      <td>10.0</td>\n",
       "      <td>7.0</td>\n",
       "      <td>When I heard about a drama that would be comi...</td>\n",
       "      <td>1</td>\n",
       "      <td>when i heard about a drama that would be comin...</td>\n",
       "      <td>en</td>\n",
       "      <td>heard drama would coming 2016 twilight youths ...</td>\n",
       "      <td>drama twilight youth life long friend drama lo...</td>\n",
       "    </tr>\n",
       "    <tr>\n",
       "      <td>4</td>\n",
       "      <td>Dear My Friends (2016)</td>\n",
       "      <td>Dana</td>\n",
       "      <td>9.0</td>\n",
       "      <td>9.0</td>\n",
       "      <td>10.0</td>\n",
       "      <td>7.0</td>\n",
       "      <td>3.0</td>\n",
       "      <td>In a sometimes overwhelming world of perfect ...</td>\n",
       "      <td>1</td>\n",
       "      <td>in a sometimes overwhelming world of perfect f...</td>\n",
       "      <td>en</td>\n",
       "      <td>sometimes overwhelming world perfect faces scr...</td>\n",
       "      <td>overwhelming world perfect script dear friend ...</td>\n",
       "    </tr>\n",
       "  </tbody>\n",
       "</table>\n",
       "</div>"
      ],
      "text/plain": [
       "              drama_title        user_name  overall_rating  story_rating  \\\n",
       "0  Dear My Friends (2016)      iamgeralddd            10.0          10.0   \n",
       "1  Dear My Friends (2016)           Dounie            10.0          10.0   \n",
       "2  Dear My Friends (2016)            Pelin            10.0          10.0   \n",
       "3  Dear My Friends (2016)  silent_whispers             9.0           9.0   \n",
       "4  Dear My Friends (2016)             Dana             9.0           9.0   \n",
       "\n",
       "   cast_rating  music_rating  rewatch_value_rating  \\\n",
       "0         10.0          10.0                  10.0   \n",
       "1         10.0           8.5                   9.0   \n",
       "2         10.0          10.0                  10.0   \n",
       "3         10.0          10.0                   7.0   \n",
       "4         10.0           7.0                   3.0   \n",
       "\n",
       "                                             reviews  sentiment  \\\n",
       "0   Thank you writer Noh for making this heart-wa...          1   \n",
       "1   I know for some, stories following and tellin...          1   \n",
       "2   Story \"A realistic, cheerful story about “twi...          1   \n",
       "3   When I heard about a drama that would be comi...          1   \n",
       "4   In a sometimes overwhelming world of perfect ...          1   \n",
       "\n",
       "                                   reviews_processed language  \\\n",
       "0  thank you writer noh for making this heart war...       en   \n",
       "1  i know for some stories following and telling ...       en   \n",
       "2  story a realistic cheerful story about twiligh...       en   \n",
       "3  when i heard about a drama that would be comin...       en   \n",
       "4  in a sometimes overwhelming world of perfect f...       en   \n",
       "\n",
       "                                 reviews_processed2x  \\\n",
       "0  thank writer noh making heart warming story co...   \n",
       "1  know stories following telling lives older peo...   \n",
       "2  story realistic cheerful story twilight youths...   \n",
       "3  heard drama would coming 2016 twilight youths ...   \n",
       "4  sometimes overwhelming world perfect faces scr...   \n",
       "\n",
       "                                  reviews_lemmatized  \n",
       "0  heart warming story live drama excited weekend...  \n",
       "1  story old people promise boring decide try fun...  \n",
       "2  story realistic cheerful story twilight young ...  \n",
       "3  drama twilight youth life long friend drama lo...  \n",
       "4  overwhelming world perfect script dear friend ...  "
      ]
     },
     "execution_count": 36,
     "metadata": {},
     "output_type": "execute_result"
    }
   ],
   "source": [
    "df = pd.read_csv('drama_reviews_processed.csv')\n",
    "df.head()"
   ]
  },
  {
   "cell_type": "markdown",
   "metadata": {},
   "source": [
    "We are using the lemmatized reviews as they provide meaningful words for analysis. Stopwords are not helpful in this case. Thus, we drop the rows that do not have any words in the 'reviews_lemmatized' column. "
   ]
  },
  {
   "cell_type": "code",
   "execution_count": 44,
   "metadata": {},
   "outputs": [],
   "source": [
    "df = df.dropna(subset=['reviews_lemmatized'])\n",
    "df = df.reset_index(drop=True)"
   ]
  },
  {
   "cell_type": "markdown",
   "metadata": {},
   "source": [
    "## 2. Building a Latent Dirichlet Allocation (LDA) model\n",
    "\n",
    "Topic modelling is new to me so I looked up https://www.analyticsvidhya.com/blog/2018/10/mining-online-reviews-topic-modeling-lda/ as a guide. LDA assumes that documents were written based on topics, and these topics have a set of words. It finds the topics by reverse engineering:\n",
    "\n",
    "1. Assume k topics occur across all documents\n",
    "2. For each document, assign each word to a topic\n",
    "3. For each topic, find: (1) p(topic t | document d) and (2) p(word w | topic t) \n",
    "4. Reassign each word with a new topic, with probability p(topic t | document d) * p(word w | topic t) \n",
    "5. Repeat this to find the topic composition of each document and the word composition of each topic"
   ]
  },
  {
   "cell_type": "code",
   "execution_count": 46,
   "metadata": {},
   "outputs": [],
   "source": [
    "tokenized_reviews = df.apply(lambda row: row['reviews_lemmatized'].split(), axis=1) # separate words into tokens"
   ]
  },
  {
   "cell_type": "code",
   "execution_count": 47,
   "metadata": {},
   "outputs": [],
   "source": [
    "dictionary = corpora.Dictionary(tokenized_reviews) # create a dictionary of all the words"
   ]
  },
  {
   "cell_type": "code",
   "execution_count": 48,
   "metadata": {},
   "outputs": [],
   "source": [
    "doc_term_matrix = [dictionary.doc2bow(rev) for rev in tokenized_reviews] # create a document term matrix"
   ]
  },
  {
   "cell_type": "markdown",
   "metadata": {},
   "source": [
    "A document term matrix describes the frequency of terms that occur in a collection of documents."
   ]
  },
  {
   "cell_type": "code",
   "execution_count": 49,
   "metadata": {},
   "outputs": [],
   "source": [
    "LDA = gensim.models.ldamodel.LdaModel # Creating the object for LDA model using gensim library\n",
    "\n",
    "lda_model = LDA(corpus=doc_term_matrix, id2word=dictionary, num_topics=7, random_state=100,\n",
    "                chunksize=1000, passes=50) # Build LDA model"
   ]
  },
  {
   "cell_type": "code",
   "execution_count": 50,
   "metadata": {},
   "outputs": [
    {
     "data": {
      "text/plain": [
       "[(0,\n",
       "  '0.060*\"drama\" + 0.029*\"story\" + 0.029*\"character\" + 0.023*\"good\" + 0.017*\"episode\" + 0.013*\"time\" + 0.010*\"love\" + 0.010*\"great\" + 0.010*\"music\" + 0.009*\"many\"'),\n",
       " (1,\n",
       "  '0.068*\"time\" + 0.063*\"actor\" + 0.034*\"day\" + 0.029*\"boy\" + 0.029*\"main\" + 0.025*\"break\" + 0.018*\"year\" + 0.018*\"drama\" + 0.017*\"love\" + 0.017*\"episode\"'),\n",
       " (2,\n",
       "  '0.059*\"character\" + 0.048*\"drama\" + 0.030*\"certain\" + 0.020*\"storyline\" + 0.018*\"beautiful\" + 0.018*\"story\" + 0.015*\"scene\" + 0.015*\"interesting\" + 0.013*\"life\" + 0.013*\"role\"'),\n",
       " (3,\n",
       "  '0.092*\"drama\" + 0.023*\"japanese\" + 0.022*\"platonic\" + 0.021*\"watch\" + 0.019*\"old\" + 0.019*\"life\" + 0.018*\"first\" + 0.018*\"thing\" + 0.018*\"whole\" + 0.017*\"tearjerker\"'),\n",
       " (4,\n",
       "  '0.034*\"woman\" + 0.026*\"lead\" + 0.025*\"drama\" + 0.023*\"main\" + 0.023*\"enough\" + 0.022*\"gay\" + 0.020*\"character\" + 0.019*\"lakorn\" + 0.018*\"story\" + 0.016*\"mature\"'),\n",
       " (5,\n",
       "  '0.025*\"life\" + 0.023*\"school\" + 0.021*\"family\" + 0.017*\"people\" + 0.016*\"student\" + 0.016*\"love\" + 0.015*\"friend\" + 0.014*\"girl\" + 0.013*\"man\" + 0.013*\"young\"'),\n",
       " (6,\n",
       "  '0.052*\"good\" + 0.045*\"lead\" + 0.042*\"story\" + 0.029*\"plot\" + 0.027*\"drama\" + 0.027*\"girl\" + 0.026*\"male\" + 0.026*\"actor\" + 0.025*\"much\" + 0.025*\"female\"')]"
      ]
     },
     "execution_count": 50,
     "metadata": {},
     "output_type": "execute_result"
    }
   ],
   "source": [
    "lda_model.print_topics()"
   ]
  },
  {
   "cell_type": "markdown",
   "metadata": {},
   "source": [
    "Looking at these keywords, I made some guesses on the topics: \n",
    "- Topic 1 seems to reveal positive sentiments, with words like \"good\", \"love\" and \"great\"\n",
    "- Topic 2 seems to talk about romance shows, with words like \"boy\", \"break\" and \"love\"\n",
    "- Topic 5 seems to be related to family / school life"
   ]
  },
  {
   "cell_type": "markdown",
   "metadata": {},
   "source": [
    "## Topics Visualization"
   ]
  },
  {
   "cell_type": "code",
   "execution_count": 51,
   "metadata": {},
   "outputs": [
    {
     "name": "stderr",
     "output_type": "stream",
     "text": [
      "C:\\Users\\weich\\Anaconda3\\lib\\site-packages\\pyLDAvis\\_prepare.py:257: FutureWarning: Sorting because non-concatenation axis is not aligned. A future version\n",
      "of pandas will change to not sort by default.\n",
      "\n",
      "To accept the future behavior, pass 'sort=False'.\n",
      "\n",
      "To retain the current behavior and silence the warning, pass 'sort=True'.\n",
      "\n",
      "  return pd.concat([default_term_info] + list(topic_dfs))\n"
     ]
    },
    {
     "data": {
      "text/html": [
       "\n",
       "<link rel=\"stylesheet\" type=\"text/css\" href=\"https://cdn.rawgit.com/bmabey/pyLDAvis/files/ldavis.v1.0.0.css\">\n",
       "\n",
       "\n",
       "<div id=\"ldavis_el808823277411038162888785521\"></div>\n",
       "<script type=\"text/javascript\">\n",
       "\n",
       "var ldavis_el808823277411038162888785521_data = {\"mdsDat\": {\"x\": [-0.046500144851784636, -0.22122461274334518, 0.2889463180313079, -0.04354955395882083, 0.21110754325601205, -0.14686047670980282, -0.04191907302356683], \"y\": [-0.07782814671735697, -0.023764043865110624, -0.2557314289971956, 0.16004214683759635, 0.3018736607137219, -0.03691577239779044, -0.06767641557386436], \"topics\": [1, 2, 3, 4, 5, 6, 7], \"cluster\": [1, 1, 1, 1, 1, 1, 1], \"Freq\": [59.72630310058594, 11.415779113769531, 8.489593505859375, 5.528820514678955, 5.457043647766113, 5.291340351104736, 4.091114044189453]}, \"tinfo\": {\"Category\": [\"Default\", \"Default\", \"Default\", \"Default\", \"Default\", \"Default\", \"Default\", \"Default\", \"Default\", \"Default\", \"Default\", \"Default\", \"Default\", \"Default\", \"Default\", \"Default\", \"Default\", \"Default\", \"Default\", \"Default\", \"Default\", \"Default\", \"Default\", \"Default\", \"Default\", \"Default\", \"Default\", \"Default\", \"Default\", \"Default\", \"Topic1\", \"Topic1\", \"Topic1\", \"Topic1\", \"Topic1\", \"Topic1\", \"Topic1\", \"Topic1\", \"Topic1\", \"Topic1\", \"Topic1\", \"Topic1\", \"Topic1\", \"Topic1\", \"Topic1\", \"Topic1\", \"Topic1\", \"Topic1\", \"Topic1\", \"Topic1\", \"Topic1\", \"Topic1\", \"Topic1\", \"Topic1\", \"Topic1\", \"Topic1\", \"Topic1\", \"Topic1\", \"Topic1\", \"Topic1\", \"Topic1\", \"Topic1\", \"Topic1\", \"Topic1\", \"Topic1\", \"Topic1\", \"Topic1\", \"Topic1\", \"Topic1\", \"Topic1\", \"Topic1\", \"Topic1\", \"Topic1\", \"Topic1\", \"Topic1\", \"Topic1\", \"Topic1\", \"Topic1\", \"Topic1\", \"Topic1\", \"Topic1\", \"Topic1\", \"Topic1\", \"Topic1\", \"Topic1\", \"Topic1\", \"Topic1\", \"Topic1\", \"Topic1\", \"Topic1\", \"Topic1\", \"Topic1\", \"Topic1\", \"Topic1\", \"Topic1\", \"Topic1\", \"Topic1\", \"Topic1\", \"Topic1\", \"Topic1\", \"Topic2\", \"Topic2\", \"Topic2\", \"Topic2\", \"Topic2\", \"Topic2\", \"Topic2\", \"Topic2\", \"Topic2\", \"Topic2\", \"Topic2\", \"Topic2\", \"Topic2\", \"Topic2\", \"Topic2\", \"Topic2\", \"Topic2\", \"Topic2\", \"Topic2\", \"Topic2\", \"Topic2\", \"Topic2\", \"Topic2\", \"Topic2\", \"Topic2\", \"Topic2\", \"Topic2\", \"Topic2\", \"Topic2\", \"Topic2\", \"Topic2\", \"Topic2\", \"Topic2\", \"Topic2\", \"Topic2\", \"Topic2\", \"Topic2\", \"Topic2\", \"Topic2\", \"Topic2\", \"Topic2\", \"Topic2\", \"Topic2\", \"Topic2\", \"Topic2\", \"Topic2\", \"Topic2\", \"Topic2\", \"Topic2\", \"Topic2\", \"Topic2\", \"Topic2\", \"Topic2\", \"Topic2\", \"Topic2\", \"Topic2\", \"Topic2\", \"Topic2\", \"Topic2\", \"Topic2\", \"Topic2\", \"Topic3\", \"Topic3\", \"Topic3\", \"Topic3\", \"Topic3\", \"Topic3\", \"Topic3\", \"Topic3\", \"Topic3\", \"Topic3\", \"Topic3\", \"Topic3\", \"Topic3\", \"Topic3\", \"Topic3\", \"Topic3\", \"Topic3\", \"Topic3\", \"Topic3\", \"Topic3\", \"Topic3\", \"Topic3\", \"Topic3\", \"Topic3\", \"Topic3\", \"Topic3\", \"Topic3\", \"Topic3\", \"Topic3\", \"Topic3\", \"Topic3\", \"Topic3\", \"Topic3\", \"Topic3\", \"Topic3\", \"Topic3\", \"Topic3\", \"Topic3\", \"Topic3\", \"Topic3\", \"Topic3\", \"Topic3\", \"Topic3\", \"Topic3\", \"Topic3\", \"Topic3\", \"Topic3\", \"Topic3\", \"Topic3\", \"Topic3\", \"Topic3\", \"Topic3\", \"Topic3\", \"Topic3\", \"Topic3\", \"Topic3\", \"Topic3\", \"Topic3\", \"Topic3\", \"Topic3\", \"Topic3\", \"Topic3\", \"Topic3\", \"Topic3\", \"Topic4\", \"Topic4\", \"Topic4\", \"Topic4\", \"Topic4\", \"Topic4\", \"Topic4\", \"Topic4\", \"Topic4\", \"Topic4\", \"Topic4\", \"Topic4\", \"Topic4\", \"Topic4\", \"Topic4\", \"Topic4\", \"Topic4\", \"Topic4\", \"Topic4\", \"Topic4\", \"Topic4\", \"Topic4\", \"Topic4\", \"Topic4\", \"Topic4\", \"Topic4\", \"Topic4\", \"Topic4\", \"Topic4\", \"Topic4\", \"Topic4\", \"Topic4\", \"Topic4\", \"Topic4\", \"Topic4\", \"Topic4\", \"Topic4\", \"Topic4\", \"Topic4\", \"Topic4\", \"Topic4\", \"Topic4\", \"Topic4\", \"Topic4\", \"Topic4\", \"Topic4\", \"Topic4\", \"Topic4\", \"Topic4\", \"Topic4\", \"Topic4\", \"Topic4\", \"Topic4\", \"Topic4\", \"Topic4\", \"Topic4\", \"Topic4\", \"Topic4\", \"Topic4\", \"Topic4\", \"Topic4\", \"Topic4\", \"Topic4\", \"Topic4\", \"Topic4\", \"Topic4\", \"Topic4\", \"Topic4\", \"Topic5\", \"Topic5\", \"Topic5\", \"Topic5\", \"Topic5\", \"Topic5\", \"Topic5\", \"Topic5\", \"Topic5\", \"Topic5\", \"Topic5\", \"Topic5\", \"Topic5\", \"Topic5\", \"Topic5\", \"Topic5\", \"Topic5\", \"Topic5\", \"Topic5\", \"Topic5\", \"Topic5\", \"Topic5\", \"Topic5\", \"Topic5\", \"Topic5\", \"Topic5\", \"Topic5\", \"Topic5\", \"Topic5\", \"Topic5\", \"Topic5\", \"Topic5\", \"Topic5\", \"Topic5\", \"Topic5\", \"Topic5\", \"Topic5\", \"Topic5\", \"Topic5\", \"Topic5\", \"Topic5\", \"Topic5\", \"Topic5\", \"Topic5\", \"Topic5\", \"Topic5\", \"Topic5\", \"Topic5\", \"Topic5\", \"Topic5\", \"Topic5\", \"Topic5\", \"Topic5\", \"Topic5\", \"Topic5\", \"Topic5\", \"Topic5\", \"Topic5\", \"Topic6\", \"Topic6\", \"Topic6\", \"Topic6\", \"Topic6\", \"Topic6\", \"Topic6\", \"Topic6\", \"Topic6\", \"Topic6\", \"Topic6\", \"Topic6\", \"Topic6\", \"Topic6\", \"Topic6\", \"Topic6\", \"Topic6\", \"Topic6\", \"Topic6\", \"Topic6\", \"Topic6\", \"Topic6\", \"Topic6\", \"Topic6\", \"Topic6\", \"Topic6\", \"Topic6\", \"Topic6\", \"Topic6\", \"Topic6\", \"Topic6\", \"Topic6\", \"Topic6\", \"Topic6\", \"Topic6\", \"Topic6\", \"Topic6\", \"Topic6\", \"Topic6\", \"Topic6\", \"Topic6\", \"Topic6\", \"Topic6\", \"Topic6\", \"Topic6\", \"Topic6\", \"Topic6\", \"Topic6\", \"Topic6\", \"Topic6\", \"Topic6\", \"Topic6\", \"Topic6\", \"Topic6\", \"Topic6\", \"Topic7\", \"Topic7\", \"Topic7\", \"Topic7\", \"Topic7\", \"Topic7\", \"Topic7\", \"Topic7\", \"Topic7\", \"Topic7\", \"Topic7\", \"Topic7\", \"Topic7\", \"Topic7\", \"Topic7\", \"Topic7\", \"Topic7\", \"Topic7\", \"Topic7\", \"Topic7\", \"Topic7\", \"Topic7\", \"Topic7\", \"Topic7\", \"Topic7\", \"Topic7\", \"Topic7\", \"Topic7\", \"Topic7\", \"Topic7\", \"Topic7\", \"Topic7\", \"Topic7\", \"Topic7\", \"Topic7\", \"Topic7\", \"Topic7\", \"Topic7\", \"Topic7\", \"Topic7\", \"Topic7\", \"Topic7\", \"Topic7\", \"Topic7\", \"Topic7\", \"Topic7\", \"Topic7\", \"Topic7\", \"Topic7\", \"Topic7\", \"Topic7\", \"Topic7\", \"Topic7\", \"Topic7\", \"Topic7\", \"Topic7\", \"Topic7\"], \"Freq\": [99780.0, 37281.0, 45437.0, 28605.0, 53388.0, 18336.0, 14224.0, 17622.0, 15027.0, 23876.0, 15573.0, 12262.0, 11557.0, 16254.0, 18820.0, 10135.0, 6925.0, 11427.0, 11352.0, 12196.0, 17012.0, 7425.0, 6278.0, 9218.0, 15437.0, 13715.0, 5545.0, 6059.0, 7263.0, 4637.0, 4810.845703125, 4285.6953125, 3915.180908203125, 3559.6826171875, 3523.48779296875, 3037.752197265625, 3026.74365234375, 2876.1982421875, 2853.577392578125, 2763.166748046875, 2688.46533203125, 2227.71484375, 2169.15283203125, 2065.095947265625, 2015.9246826171875, 2025.2149658203125, 1918.1888427734375, 1689.9781494140625, 1632.3095703125, 1624.862548828125, 1542.5023193359375, 1379.8697509765625, 1367.58056640625, 1332.583740234375, 1323.4400634765625, 1260.15576171875, 1240.0654296875, 1224.752685546875, 1164.9031982421875, 1158.5181884765625, 2013.9967041015625, 2565.98388671875, 10543.166015625, 3269.57568359375, 2788.478515625, 20843.3828125, 6736.3046875, 9069.1279296875, 35191.6328125, 11020.9521484375, 72018.1875, 7736.01904296875, 8587.814453125, 27829.802734375, 11434.7509765625, 35091.265625, 4536.708984375, 4648.9677734375, 4613.20751953125, 12335.8994140625, 10798.9951171875, 10534.162109375, 12497.35546875, 8237.58984375, 7603.30517578125, 15186.1064453125, 5030.9443359375, 4465.029296875, 10280.6962890625, 7584.5517578125, 7946.6728515625, 5701.9765625, 8996.7060546875, 8018.8330078125, 8106.14404296875, 6320.24853515625, 6005.33544921875, 7178.13671875, 5231.21533203125, 5334.228515625, 6924.7197265625, 2283.78564453125, 2273.717529296875, 2223.306884765625, 1762.1146240234375, 1631.2066650390625, 1179.205810546875, 1179.5316162109375, 1148.849365234375, 1148.208251953125, 1096.1309814453125, 1092.8443603515625, 1086.8328857421875, 1083.80322265625, 1083.2325439453125, 603.3101806640625, 594.3518676757812, 589.244873046875, 588.6116943359375, 584.0203857421875, 583.9717407226562, 577.8450317382812, 575.1531372070312, 572.6220092773438, 568.98486328125, 566.6266479492188, 563.7042846679688, 563.3019409179688, 562.9757690429688, 562.4364013671875, 1261.672607421875, 2850.5625, 4597.595703125, 1717.1773681640625, 1129.796875, 4073.95556640625, 2351.434326171875, 2878.907958984375, 2308.5458984375, 1717.897705078125, 1754.7940673828125, 2377.311279296875, 13437.7265625, 1174.3607177734375, 1163.8515625, 3459.712890625, 1885.27294921875, 11011.9677734375, 2303.78369140625, 2896.259033203125, 3460.634765625, 2921.107421875, 2896.250732421875, 4043.07568359375, 1752.7906494140625, 2303.646484375, 2309.4755859375, 2330.5234375, 1753.850341796875, 1742.4310302734375, 1734.2705078125, 3936.317138671875, 2779.19921875, 1198.1593017578125, 862.7482299804688, 830.0517578125, 747.1762084960938, 707.3820190429688, 603.968505859375, 420.5593566894531, 373.93133544921875, 324.27862548828125, 298.4615173339844, 273.2953186035156, 264.72906494140625, 251.41384887695312, 246.44325256347656, 234.52748107910156, 227.72377014160156, 215.7404022216797, 212.170654296875, 189.87127685546875, 181.68246459960938, 162.9074249267578, 158.90609741210938, 158.16067504882812, 153.145751953125, 148.22366333007812, 146.37847900390625, 146.36891174316406, 144.7074432373047, 3629.51708984375, 752.670654296875, 407.203125, 637.9093017578125, 381.28680419921875, 984.2946166992188, 1359.820068359375, 1051.605712890625, 2550.294921875, 446.69171142578125, 688.2261962890625, 4220.4169921875, 507.6993103027344, 2230.793212890625, 2466.239990234375, 1478.8505859375, 911.0419311523438, 2150.84130859375, 2869.994384765625, 2084.831298828125, 1927.7388916015625, 653.8709106445312, 988.4633178710938, 617.1787109375, 1556.1806640625, 1413.03369140625, 1081.9534912109375, 2677.4521484375, 1294.80810546875, 1048.4156494140625, 1371.1302490234375, 1014.9996337890625, 915.4885864257812, 935.105712890625, 852.8955688476562, 793.4356079101562, 763.9789428710938, 741.767333984375, 734.6143188476562, 727.4767456054688, 725.6461181640625, 723.3538208007812, 710.0255126953125, 690.409423828125, 687.782470703125, 686.9456176757812, 666.6072998046875, 652.0070190429688, 656.7222290039062, 643.546875, 641.2733154296875, 647.4645385742188, 50.972049713134766, 49.02105712890625, 26.668752670288086, 25.65081787109375, 25.095901489257812, 22.998111724853516, 22.313169479370117, 21.9057559967041, 20.59246826171875, 18.228883743286133, 17.741086959838867, 17.143798828125, 696.28662109375, 704.5234985351562, 707.1307373046875, 1372.2279052734375, 731.4978637695312, 1528.009033203125, 2568.6767578125, 1381.9310302734375, 2843.445068359375, 836.5628051757812, 768.4432373046875, 735.8955078125, 1621.4278564453125, 2746.374755859375, 2496.947021484375, 5039.49609375, 2987.36083984375, 5717.6533203125, 2294.564697265625, 3218.892578125, 4711.18115234375, 2804.669921875, 2836.908203125, 1506.9810791015625, 1977.5185546875, 2025.45263671875, 1515.3974609375, 2388.939697265625, 1635.1875, 1868.286865234375, 2988.919921875, 1595.214599609375, 1442.0225830078125, 1958.3912353515625, 1267.3106689453125, 1026.138671875, 1029.744873046875, 1107.4769287109375, 2681.859375, 1470.60693359375, 1440.1832275390625, 1422.884521484375, 1402.15966796875, 1374.658447265625, 1306.43310546875, 1272.2340087890625, 1272.991943359375, 1214.3349609375, 1180.7442626953125, 1175.57958984375, 1160.3973388671875, 727.699462890625, 589.8431396484375, 318.8716125488281, 259.4390869140625, 235.9738006591797, 176.31336975097656, 173.59939575195312, 171.50955200195312, 168.44805908203125, 162.0304718017578, 150.97784423828125, 129.46701049804688, 123.94546508789062, 121.57331848144531, 116.28821563720703, 114.8696060180664, 114.47575378417969, 1637.526123046875, 1363.264892578125, 1385.380126953125, 3673.69580078125, 1572.19775390625, 3200.35791015625, 1552.90478515625, 1460.5125732421875, 6895.53515625, 1012.53125, 7393.38134765625, 2006.1669921875, 1698.302978515625, 1189.4957275390625, 3161.17578125, 1468.606689453125, 1809.617431640625, 1780.164306640625, 1593.5511474609375, 1789.08642578125, 1755.93994140625, 1859.436767578125, 1892.5382080078125, 1723.890869140625, 1880.7694091796875, 1625.9891357421875, 1866.611083984375, 1923.8563232421875, 2452.997314453125, 1782.0562744140625, 1243.1602783203125, 1238.35791015625, 1205.9263916015625, 1187.7841796875, 680.6361083984375, 675.9439697265625, 670.9088134765625, 667.930419921875, 666.1134033203125, 655.1467895507812, 648.1250610351562, 645.4287719726562, 641.63525390625, 637.5093383789062, 630.2149047851562, 634.8240966796875, 628.4593505859375, 611.6095581054688, 615.5353393554688, 609.7990112304688, 609.7000732421875, 608.0634155273438, 605.269775390625, 602.8997192382812, 601.7781982421875, 607.5523681640625, 599.6091918945312, 602.0650634765625, 2368.900634765625, 1290.8563232421875, 1272.0360107421875, 9768.7978515625, 2009.8087158203125, 1283.0118408203125, 1311.009033203125, 1938.648681640625, 2259.345947265625, 1301.4112548828125, 1967.9276123046875, 1950.4171142578125, 1296.5355224609375, 1947.769287109375, 1503.85546875, 1289.4307861328125, 1239.093017578125, 1312.234619140625, 1273.4808349609375, 1306.76513671875, 1290.1912841796875, 1293.808837890625, 746.0219116210938, 749.2239379882812, 756.3194580078125, 1799.8223876953125, 1154.3536376953125, 655.6321411132812, 648.2656860351562, 641.1907958984375, 627.3521728515625, 621.9999389648438, 620.2318115234375, 608.3607788085938, 606.59375, 605.269287109375, 604.0169677734375, 602.7330932617188, 602.5426025390625, 596.786376953125, 593.7256469726562, 587.9500122070312, 583.735595703125, 583.5814819335938, 582.5004272460938, 581.5233764648438, 578.1825561523438, 578.0730590820312, 577.6726684570312, 577.6482543945312, 577.2021484375, 577.2021484375, 577.2020874023438, 319.80328369140625, 242.38253784179688, 618.4600219726562, 1294.694091796875, 2755.404541015625, 1567.5869140625, 1141.107177734375, 1854.4903564453125, 1252.246337890625, 1253.1470947265625, 2115.803955078125, 1870.5953369140625, 1281.8128662109375, 1261.8292236328125, 1261.1551513671875, 1199.3492431640625, 1259.983642578125, 2069.01123046875, 1259.55078125, 1606.6173095703125, 1490.935791015625, 880.3751220703125, 667.7382202148438, 1050.599365234375, 959.4332275390625, 848.0973510742188, 667.8245849609375, 692.0564575195312, 654.050048828125], \"Term\": [\"drama\", \"good\", \"story\", \"time\", \"character\", \"actor\", \"lead\", \"main\", \"plot\", \"episode\", \"much\", \"first\", \"lot\", \"scene\", \"love\", \"people\", \"certain\", \"watch\", \"part\", \"life\", \"great\", \"overall\", \"whole\", \"little\", \"thing\", \"way\", \"funny\", \"female\", \"girl\", \"enough\", \"amazing\", \"writer\", \"viewer\", \"line\", \"romantic\", \"season\", \"expression\", \"fan\", \"short\", \"favorite\", \"sure\", \"joke\", \"mixed\", \"jealousy\", \"half\", \"build\", \"original\", \"start\", \"minute\", \"rest\", \"mystery\", \"think\", \"expectation\", \"laugh\", \"aspect\", \"ending\", \"revenge\", \"middle\", \"guess\", \"weak\", \"case\", \"annoying\", \"show\", \"long\", \"korean\", \"episode\", \"action\", \"end\", \"story\", \"many\", \"drama\", \"cast\", \"bad\", \"good\", \"music\", \"character\", \"rewatch\", \"second\", \"reason\", \"great\", \"thing\", \"plot\", \"love\", \"lot\", \"romance\", \"time\", \"different\", \"job\", \"main\", \"part\", \"first\", \"moment\", \"much\", \"way\", \"scene\", \"watch\", \"people\", \"actor\", \"slow\", \"lead\", \"certain\", \"nature\", \"extra\", \"gentle\", \"various\", \"reflective\", \"circumstance\", \"conversation\", \"mix\", \"creative\", \"melancholy\", \"outlook\", \"positivity\", \"naturalistic\", \"sari\", \"desperate\", \"sensitive\", \"realism\", \"surface\", \"apart\", \"safe\", \"warmth\", \"thoughtful\", \"acceptance\", \"load\", \"stranger\", \"decade\", \"despair\", \"sorrow\", \"sea\", \"daughter\", \"mood\", \"storyline\", \"lovely\", \"instrumental\", \"beautiful\", \"situation\", \"sad\", \"world\", \"unique\", \"due\", \"theme\", \"character\", \"early\", \"positive\", \"interesting\", \"mother\", \"drama\", \"actress\", \"role\", \"scene\", \"life\", \"much\", \"story\", \"other\", \"romance\", \"main\", \"time\", \"way\", \"part\", \"lead\", \"school\", \"student\", \"parent\", \"teacher\", \"com\", \"rom\", \"marriage\", \"society\", \"home\", \"sex\", \"band\", \"teen\", \"social\", \"sport\", \"dad\", \"youth\", \"dog\", \"teenager\", \"mental\", \"college\", \"pressure\", \"system\", \"contract\", \"behaviour\", \"weight\", \"responsibility\", \"rape\", \"model\", \"grade\", \"public\", \"family\", \"money\", \"boyfriend\", \"son\", \"career\", \"rich\", \"child\", \"brother\", \"friend\", \"food\", \"dream\", \"life\", \"business\", \"man\", \"girl\", \"person\", \"friendship\", \"young\", \"people\", \"relationship\", \"woman\", \"sister\", \"age\", \"self\", \"old\", \"year\", \"issue\", \"love\", \"real\", \"heart\", \"way\", \"guy\", \"problem\", \"high\", \"misunderstanding\", \"jealous\", \"uncomfortable\", \"meet\", \"skin\", \"tiring\", \"timing\", \"tad\", \"thai\", \"cheerful\", \"crier\", \"togetherness\", \"feminist\", \"cheeky\", \"judgement\", \"sorrowful\", \"exaggerate\", \"embarrassed\", \"reply\", \"eun\", \"cross\", \"slapstick\", \"mode\", \"shirt\", \"sweetheart\", \"advertising\", \"neighborhood\", \"farm\", \"dense\", \"unhealthy\", \"majority\", \"relatable\", \"refreshing\", \"humor\", \"class\", \"dramatic\", \"simple\", \"conflict\", \"male\", \"kiss\", \"unnecessary\", \"average\", \"lakorn\", \"female\", \"funny\", \"lead\", \"girl\", \"good\", \"overall\", \"plot\", \"story\", \"much\", \"actor\", \"comedy\", \"bit\", \"part\", \"song\", \"time\", \"little\", \"scene\", \"drama\", \"lot\", \"life\", \"character\", \"great\", \"cute\", \"old\", \"love\", \"break\", \"month\", \"2nd\", \"fault\", \"baby\", \"leave\", \"manner\", \"veteran\", \"pregnant\", \"suspect\", \"skipped\", \"dunno\", \"swiss\", \"historical\", \"tear\", \"war\", \"remake\", \"king\", \"anime\", \"sadness\", \"masterpiece\", \"anger\", \"raw\", \"martial\", \"scenery\", \"coaster\", \"officer\", \"precious\", \"amazed\", \"omg\", \"sorry\", \"famous\", \"exciting\", \"day\", \"close\", \"boy\", \"waste\", \"boring\", \"actor\", \"version\", \"time\", \"year\", \"friend\", \"greedy\", \"main\", \"next\", \"girl\", \"little\", \"couple\", \"first\", \"watch\", \"scene\", \"love\", \"lot\", \"episode\", \"bit\", \"good\", \"drama\", \"japanese\", \"tearjerker\", \"slice\", \"dislike\", \"disease\", \"terminal\", \"unusual\", \"read\", \"description\", \"color\", \"sight\", \"space\", \"exact\", \"recent\", \"subtitle\", \"english\", \"formula\", \"mouth\", \"nostalgic\", \"eager\", \"swoon\", \"impatient\", \"simplicity\", \"undeniable\", \"surreal\", \"sentiment\", \"excel\", \"boat\", \"sailing\", \"beach\", \"platonic\", \"cry\", \"fit\", \"drama\", \"old\", \"similar\", \"type\", \"whole\", \"watch\", \"thought\", \"life\", \"first\", \"emotion\", \"thing\", \"role\", \"woman\", \"slow\", \"way\", \"plot\", \"time\", \"good\", \"character\", \"worth\", \"man\", \"many\", \"gay\", \"chakrit\", \"violence\", \"victim\", \"water\", \"flawed\", \"foot\", \"reasonable\", \"cutesy\", \"agency\", \"miracle\", \"being\", \"treatment\", \"passive\", \"mindset\", \"sharp\", \"rebellious\", \"breathing\", \"evilness\", \"margie\", \"rationale\", \"smexy\", \"caricatural\", \"commodity\", \"independant\", \"douzain\", \"shriek\", \"shrewish\", \"wife\", \"husband\", \"knowledge\", \"mature\", \"woman\", \"lakorn\", \"slap\", \"enough\", \"single\", \"rating\", \"lead\", \"main\", \"man\", \"relationship\", \"point\", \"chemistry\", \"people\", \"drama\", \"way\", \"character\", \"story\", \"simple\", \"mom\", \"great\", \"scene\", \"actor\", \"kid\", \"child\", \"bad\"], \"Total\": [99780.0, 37281.0, 45437.0, 28605.0, 53388.0, 18336.0, 14224.0, 17622.0, 15027.0, 23876.0, 15573.0, 12262.0, 11557.0, 16254.0, 18820.0, 10135.0, 6925.0, 11427.0, 11352.0, 12196.0, 17012.0, 7425.0, 6278.0, 9218.0, 15437.0, 13715.0, 5545.0, 6059.0, 7263.0, 4637.0, 4811.451171875, 4286.30126953125, 3915.7880859375, 3560.2890625, 3524.09423828125, 3038.3583984375, 3027.3515625, 2876.8046875, 2854.183837890625, 2763.773193359375, 2689.07177734375, 2228.324462890625, 2169.761474609375, 2065.7060546875, 2016.531005859375, 2025.8251953125, 1918.795166015625, 1690.58447265625, 1632.9158935546875, 1625.4688720703125, 1543.1082763671875, 1380.4759521484375, 1368.1868896484375, 1333.1900634765625, 1324.04638671875, 1260.761962890625, 1240.6717529296875, 1225.3592529296875, 1165.5096435546875, 1159.1246337890625, 2015.7171630859375, 2627.44921875, 11334.7607421875, 3390.464599609375, 2880.488525390625, 23876.990234375, 7342.27197265625, 10299.333984375, 45437.2265625, 12899.275390625, 99780.9453125, 8874.7373046875, 10094.787109375, 37281.22265625, 14048.294921875, 53388.14453125, 5108.62841796875, 5292.75439453125, 5269.83740234375, 17012.064453125, 15437.76171875, 15027.0009765625, 18820.662109375, 11557.095703125, 10738.8291015625, 28605.986328125, 6189.22998046875, 5255.28759765625, 17622.2890625, 11352.9072265625, 12262.0595703125, 7519.92236328125, 15573.3125, 13715.8046875, 16254.208984375, 11427.693359375, 10135.6484375, 18336.388671875, 7600.72119140625, 14224.203125, 6925.47509765625, 2284.541015625, 2274.473388671875, 2224.06201171875, 1762.8704833984375, 1631.9613037109375, 1179.9617919921875, 1180.2877197265625, 1149.6051025390625, 1148.9639892578125, 1096.8857421875, 1093.5992431640625, 1087.5875244140625, 1084.557861328125, 1083.9871826171875, 604.0663452148438, 595.10791015625, 590.0010375976562, 589.36767578125, 584.7763061523438, 584.727783203125, 578.6010131835938, 575.9088745117188, 573.3779907226562, 569.740478515625, 567.382080078125, 564.4597778320312, 564.0572509765625, 563.73095703125, 563.1919555664062, 1344.6568603515625, 3314.553955078125, 6368.96533203125, 2061.033203125, 1304.822509765625, 6282.13671875, 3555.959716796875, 4803.8515625, 3826.936767578125, 2611.437744140625, 2734.008544921875, 4292.02197265625, 53388.14453125, 1641.3062744140625, 1624.50927734375, 9051.0322265625, 3475.675048828125, 99780.9453125, 5812.9404296875, 10103.072265625, 16254.208984375, 12196.6044921875, 15573.3125, 45437.2265625, 4204.5283203125, 10738.8291015625, 17622.2890625, 28605.986328125, 13715.8046875, 11352.9072265625, 14224.203125, 3936.947509765625, 2779.881103515625, 1198.7728271484375, 863.3614501953125, 830.6650390625, 747.7894897460938, 707.9954833984375, 604.5817260742188, 421.1729431152344, 374.5447082519531, 324.892333984375, 299.0750732421875, 273.9083557128906, 265.3427429199219, 252.02732849121094, 247.0565185546875, 235.14125061035156, 228.3370819091797, 216.3538360595703, 212.78366088867188, 190.4845733642578, 182.29563903808594, 163.52076721191406, 159.51959228515625, 158.7744140625, 153.7590789794922, 148.83692932128906, 146.99224853515625, 146.98297119140625, 145.3208465576172, 5234.9892578125, 927.0830688476562, 475.4031677246094, 797.1318359375, 445.5136413574219, 1383.90283203125, 2052.424072265625, 1576.6298828125, 4833.67333984375, 587.056640625, 1039.0257568359375, 12196.6044921875, 718.0775146484375, 6143.99609375, 7263.62548828125, 3459.926025390625, 1713.2352294921875, 6450.95458984375, 10135.6484375, 6687.03125, 6550.97265625, 1097.05810546875, 2227.056396484375, 998.4710693359375, 5604.87060546875, 4830.8076171875, 2910.677490234375, 18820.662109375, 5219.765625, 4075.330322265625, 13715.8046875, 5166.94921875, 2991.08447265625, 3642.205078125, 853.6406860351562, 794.1806640625, 764.7235717773438, 742.51220703125, 735.3588256835938, 728.2211303710938, 726.3905029296875, 724.0985717773438, 710.7696533203125, 691.1537475585938, 688.5259399414062, 687.6890258789062, 667.359375, 652.7510375976562, 657.4744873046875, 644.2904052734375, 642.0167846679688, 648.21728515625, 51.7177734375, 49.76770782470703, 27.420698165893555, 26.39719009399414, 25.84286117553711, 23.74704360961914, 23.0617618560791, 22.65592384338379, 21.340543746948242, 18.976411819458008, 18.487457275390625, 17.89031219482422, 809.0545654296875, 822.0240478515625, 872.535888671875, 1768.538818359375, 955.5416870117188, 2250.436279296875, 4036.4267578125, 2060.787353515625, 4689.38232421875, 1295.69189453125, 1266.1776123046875, 1232.5140380859375, 3189.692626953125, 6059.5537109375, 5545.0205078125, 14224.203125, 7263.62548828125, 37281.22265625, 7425.32421875, 15027.0009765625, 45437.2265625, 15573.3125, 18336.388671875, 4441.732421875, 8913.50390625, 11352.9072265625, 6908.45947265625, 28605.986328125, 9218.841796875, 16254.208984375, 99780.9453125, 11557.095703125, 12196.6044921875, 53388.14453125, 17012.064453125, 5002.41552734375, 5604.87060546875, 18820.662109375, 2682.545166015625, 1471.292236328125, 1440.8690185546875, 1423.5701904296875, 1402.84521484375, 1375.3438720703125, 1307.11865234375, 1272.9190673828125, 1273.677978515625, 1215.0198974609375, 1181.4287109375, 1176.2640380859375, 1161.0816650390625, 728.3847045898438, 590.5291137695312, 319.5577087402344, 260.1248779296875, 236.65939331054688, 176.99935913085938, 174.2853240966797, 172.19528198242188, 169.13478088378906, 162.7170867919922, 151.66336059570312, 130.1525421142578, 124.6308822631836, 122.2602310180664, 116.97450256347656, 115.5555191040039, 115.16168212890625, 1677.0458984375, 1406.7850341796875, 1653.4825439453125, 4925.29931640625, 1975.8890380859375, 4598.50830078125, 2210.827392578125, 2398.789306640625, 18336.388671875, 1800.5628662109375, 28605.986328125, 4830.8076171875, 4833.67333984375, 3111.658447265625, 17622.2890625, 4695.93505859375, 7263.62548828125, 9218.841796875, 6798.341796875, 12262.0595703125, 11427.693359375, 16254.208984375, 18820.662109375, 11557.095703125, 23876.990234375, 8913.50390625, 37281.22265625, 99780.9453125, 2453.747802734375, 1782.8052978515625, 1243.909912109375, 1239.1075439453125, 1206.6756591796875, 1188.5333251953125, 681.3866577148438, 676.694580078125, 671.6591796875, 668.6806030273438, 666.8638916015625, 655.8971557617188, 648.8753051757812, 646.1788330078125, 642.3850708007812, 638.2593994140625, 630.9649047851562, 635.5797119140625, 629.2089233398438, 612.3590698242188, 616.2914428710938, 610.5484619140625, 610.4495849609375, 608.812744140625, 606.01904296875, 603.6489868164062, 602.5274047851562, 608.3099975585938, 600.3583984375, 602.8228149414062, 2912.3427734375, 1497.36328125, 2078.6533203125, 99780.9453125, 5604.87060546875, 2464.125732421875, 2769.336181640625, 6278.81982421875, 11427.693359375, 3982.517333984375, 12196.6044921875, 12262.0595703125, 4469.16748046875, 15437.76171875, 10103.072265625, 6550.97265625, 7600.72119140625, 13715.8046875, 15027.0009765625, 28605.986328125, 37281.22265625, 53388.14453125, 4359.9580078125, 6143.99609375, 12899.275390625, 1800.5736083984375, 1155.104248046875, 656.3837890625, 649.017578125, 641.942626953125, 628.103759765625, 622.7515869140625, 620.9833984375, 609.1121215820312, 607.3450927734375, 606.0206909179688, 604.7684326171875, 603.4841918945312, 603.2939453125, 597.5375366210938, 594.4768676757812, 588.7009887695312, 584.4864501953125, 584.332275390625, 583.2510986328125, 582.2742309570312, 578.9332275390625, 578.82373046875, 578.42333984375, 578.39892578125, 577.9528198242188, 577.9528198242188, 577.9526977539062, 320.5565185546875, 243.1361541748047, 691.076171875, 1897.5738525390625, 6550.97265625, 3189.692626953125, 1923.249267578125, 4637.12255859375, 2316.23193359375, 2543.28564453125, 14224.203125, 17622.2890625, 6143.99609375, 6687.03125, 6982.87939453125, 6548.74267578125, 10135.6484375, 99780.9453125, 13715.8046875, 53388.14453125, 45437.2265625, 4036.4267578125, 1036.0377197265625, 17012.064453125, 16254.208984375, 18336.388671875, 1325.3392333984375, 2052.424072265625, 10094.787109375], \"loglift\": [30.0, 29.0, 28.0, 27.0, 26.0, 25.0, 24.0, 23.0, 22.0, 21.0, 20.0, 19.0, 18.0, 17.0, 16.0, 15.0, 14.0, 13.0, 12.0, 11.0, 10.0, 9.0, 8.0, 7.0, 6.0, 5.0, 4.0, 3.0, 2.0, 1.0, 0.5152999758720398, 0.5152999758720398, 0.5152000188827515, 0.5152000188827515, 0.5152000188827515, 0.5152000188827515, 0.5152000188827515, 0.5152000188827515, 0.5152000188827515, 0.5152000188827515, 0.5152000188827515, 0.5151000022888184, 0.5151000022888184, 0.5151000022888184, 0.5151000022888184, 0.5151000022888184, 0.5151000022888184, 0.5149999856948853, 0.5149999856948853, 0.5149999856948853, 0.5149999856948853, 0.5149999856948853, 0.5149999856948853, 0.5149000287055969, 0.5149000287055969, 0.5149000287055969, 0.5149000287055969, 0.5149000287055969, 0.5149000287055969, 0.5149000287055969, 0.5145000219345093, 0.4916999936103821, 0.4429999887943268, 0.47909998893737793, 0.4828999936580658, 0.37950000166893005, 0.4293000102043152, 0.3882000148296356, 0.2599000036716461, 0.3580000102519989, 0.18930000066757202, 0.3781000077724457, 0.35370001196861267, 0.22300000488758087, 0.30959999561309814, 0.0957999974489212, 0.396699994802475, 0.385699987411499, 0.3822999894618988, 0.1940000057220459, 0.15800000727176666, 0.16019999980926514, 0.10599999874830246, 0.17679999768733978, 0.17010000348091125, -0.11779999732971191, 0.30820000171661377, 0.352400004863739, -0.023499999195337296, 0.1120000034570694, 0.08160000294446945, 0.2387000024318695, -0.0333000011742115, -0.021400000900030136, -0.18029999732971191, -0.07689999788999557, -0.00800000037997961, -0.42250001430511475, 0.14180000126361847, -0.46540001034736633, 2.170099973678589, 2.169800043106079, 2.169800043106079, 2.169800043106079, 2.1696999073028564, 2.1696999073028564, 2.1695001125335693, 2.1695001125335693, 2.1695001125335693, 2.1695001125335693, 2.1695001125335693, 2.1695001125335693, 2.1695001125335693, 2.1695001125335693, 2.1695001125335693, 2.1689000129699707, 2.1689000129699707, 2.1689000129699707, 2.1689000129699707, 2.1689000129699707, 2.1689000129699707, 2.1689000129699707, 2.1689000129699707, 2.1689000129699707, 2.168800115585327, 2.168800115585327, 2.168800115585327, 2.168800115585327, 2.168800115585327, 2.168800115585327, 2.1064999103546143, 2.019399881362915, 1.8443000316619873, 1.9875999689102173, 2.026099920272827, 1.7371000051498413, 1.756600022315979, 1.6582000255584717, 1.6647000312805176, 1.7513999938964844, 1.7267999649047852, 1.5793999433517456, 0.7907000184059143, 1.8353999853134155, 1.8366999626159668, 1.2085000276565552, 1.558500051498413, -0.033799998462200165, 1.2446000576019287, 0.920799970626831, 0.6233000159263611, 0.7409999966621399, 0.4880000054836273, -0.2492000013589859, 1.295199990272522, 0.6308000087738037, 0.1379999965429306, -0.33730000257492065, 0.11339999735355377, 0.29600000381469727, 0.0658000037074089, 2.466200113296509, 2.466099977493286, 2.4658000469207764, 2.46560001373291, 2.46560001373291, 2.4655001163482666, 2.4655001163482666, 2.4653000831604004, 2.464900016784668, 2.4646999835968018, 2.464400053024292, 2.4642999172210693, 2.464099884033203, 2.4639999866485596, 2.463900089263916, 2.4637999534606934, 2.46370005607605, 2.463599920272827, 2.4635000228881836, 2.463399887084961, 2.463099956512451, 2.4630000591278076, 2.462599992752075, 2.4625000953674316, 2.4625000953674316, 2.4623000621795654, 2.4621999263763428, 2.462100028991699, 2.462100028991699, 2.462100028991699, 2.100100040435791, 2.2578999996185303, 2.311500072479248, 2.243499994277954, 2.310699939727783, 2.1256000995635986, 2.0546998977661133, 2.0613999366760254, 1.8269000053405762, 2.1930999755859375, 2.0543999671936035, 1.4050999879837036, 2.1196000576019287, 1.4531999826431274, 1.3861000537872314, 1.6162999868392944, 1.8348000049591064, 1.3680000305175781, 1.2045999765396118, 1.3007999658584595, 1.2431000471115112, 1.9488999843597412, 1.6540000438690186, 1.9852999448776245, 1.1849000453948975, 1.2371000051498413, 1.476699948310852, 0.5162000060081482, 1.0721999406814575, 1.1087000370025635, 0.16339999437332153, 0.8389000296592712, 1.2824000120162964, 1.106600046157837, 2.8942999839782715, 2.8942999839782715, 2.894200086593628, 2.894200086593628, 2.894200086593628, 2.894200086593628, 2.894200086593628, 2.894200086593628, 2.8940999507904053, 2.8940999507904053, 2.8940999507904053, 2.8940999507904053, 2.8940999507904053, 2.8940999507904053, 2.8940999507904053, 2.8940000534057617, 2.8940000534057617, 2.8940000534057617, 2.88070011138916, 2.8801000118255615, 2.8673999309539795, 2.866499900817871, 2.8659000396728516, 2.863100051879883, 2.8622000217437744, 2.8615000247955322, 2.859499931335449, 2.8550000190734863, 2.8540000915527344, 2.85260009765625, 2.7451000213623047, 2.7409000396728516, 2.684999942779541, 2.6414999961853027, 2.628000020980835, 2.507999897003174, 2.44320011138916, 2.4955999851226807, 2.39490008354187, 2.45770001411438, 2.3958001136779785, 2.379499912261963, 2.218600034713745, 2.103800058364868, 2.097399950027466, 1.8575999736785889, 2.006700038909912, 1.020300030708313, 1.7208000421524048, 1.3544000387191772, 0.6287999749183655, 1.180899977684021, 1.0290000438690186, 1.8142999410629272, 1.3895000219345093, 1.1714999675750732, 1.378100037574768, 0.4124000072479248, 1.1656999588012695, 0.7318999767303467, -0.6129000186920166, 0.914900004863739, 0.7601000070571899, -0.41029998660087585, 0.29820001125335693, 1.3111000061035156, 1.2008999586105347, 0.062300000339746475, 2.9079999923706055, 2.9077999591827393, 2.9077999591827393, 2.9077999591827393, 2.9077999591827393, 2.9077999591827393, 2.9077000617980957, 2.9077000617980957, 2.9077000617980957, 2.9077000617980957, 2.9077000617980957, 2.9077000617980957, 2.9077000617980957, 2.9072999954223633, 2.907099962234497, 2.906100034713745, 2.905600070953369, 2.905400037765503, 2.904400110244751, 2.9042999744415283, 2.9042999744415283, 2.9042000770568848, 2.9040000438690186, 2.903700113296509, 2.9030001163482666, 2.9026999473571777, 2.902600049972534, 2.902400016784668, 2.9022998809814453, 2.9022998809814453, 2.884399890899658, 2.876800060272217, 2.7314000129699707, 2.6150999069213867, 2.6796998977661133, 2.545799970626831, 2.555000066757202, 2.412100076675415, 1.9301999807357788, 2.3326001167297363, 1.5551999807357788, 2.0295000076293945, 1.8623000383377075, 1.9465999603271484, 1.190000057220459, 1.74590003490448, 1.5184999704360962, 1.263700008392334, 1.4574999809265137, 0.9835000038146973, 1.0351999998092651, 0.7401999831199646, 0.6111999750137329, 1.0054999589920044, 0.367000013589859, 1.2067999839782715, -0.08609999716281891, -1.0404000282287598, 2.938800096511841, 2.938699960708618, 2.938499927520752, 2.938499927520752, 2.938499927520752, 2.938499927520752, 2.937999963760376, 2.937999963760376, 2.937999963760376, 2.937999963760376, 2.937999963760376, 2.937999963760376, 2.9379000663757324, 2.9379000663757324, 2.9379000663757324, 2.9379000663757324, 2.9379000663757324, 2.9379000663757324, 2.9379000663757324, 2.9379000663757324, 2.9379000663757324, 2.9379000663757324, 2.9379000663757324, 2.9379000663757324, 2.9379000663757324, 2.9379000663757324, 2.9379000663757324, 2.9379000663757324, 2.9377999305725098, 2.9377999305725098, 2.732599973678589, 2.7906999588012695, 2.447999954223633, 0.6152999997138977, 1.9134999513626099, 2.2864999771118164, 2.1912999153137207, 1.7639000415802002, 1.3180999755859375, 1.8206000328063965, 1.11489999294281, 1.100600004196167, 1.7015999555587769, 0.8690000176429749, 1.0342999696731567, 1.3136999607086182, 1.1252000331878662, 0.5922999978065491, 0.47099998593330383, -0.1469999998807907, -0.4246000051498413, -0.7809000015258789, 1.1735999584197998, 0.8349000215530396, 0.10260000079870224, 3.1958999633789062, 3.19569993019104, 3.195199966430664, 3.195199966430664, 3.195199966430664, 3.195199966430664, 3.1951000690460205, 3.1951000690460205, 3.1951000690460205, 3.1951000690460205, 3.1951000690460205, 3.1951000690460205, 3.1951000690460205, 3.1951000690460205, 3.1951000690460205, 3.1951000690460205, 3.1951000690460205, 3.1951000690460205, 3.1951000690460205, 3.1951000690460205, 3.1951000690460205, 3.1951000690460205, 3.1951000690460205, 3.1951000690460205, 3.1951000690460205, 3.1951000690460205, 3.1951000690460205, 3.1951000690460205, 3.194000005722046, 3.19320011138916, 3.0852999687194824, 2.8141000270843506, 2.3303000926971436, 2.4860000610351562, 2.674299955368042, 2.279900074005127, 2.581399917602539, 2.488600015640259, 1.2907999753952026, 0.9534000158309937, 1.6291999816894531, 1.5286999940872192, 1.4848999977111816, 1.498900055885315, 1.1114000082015991, -0.6796000003814697, 0.8086000084877014, -0.30709999799728394, -0.22059999406337738, 1.6735999584197998, 2.7571001052856445, 0.41179999709129333, 0.36660000681877136, 0.12269999831914902, 2.510999917984009, 2.1092000007629395, 0.45980000495910645], \"logprob\": [30.0, 29.0, 28.0, 27.0, 26.0, 25.0, 24.0, 23.0, 22.0, 21.0, 20.0, 19.0, 18.0, 17.0, 16.0, 15.0, 14.0, 13.0, 12.0, 11.0, 10.0, 9.0, 8.0, 7.0, 6.0, 5.0, 4.0, 3.0, 2.0, 1.0, -5.517499923706055, -5.6331000328063965, -5.723499774932861, -5.818699836730957, -5.82889986038208, -5.977200031280518, -5.980899810791016, -6.031899929046631, -6.03980016708374, -6.072000026702881, -6.099400043487549, -6.287399768829346, -6.314000129699707, -6.3632001876831055, -6.38730001449585, -6.382699966430664, -6.436999797821045, -6.563600063323975, -6.598400115966797, -6.60290002822876, -6.65500020980835, -6.76639986038208, -6.775300025939941, -6.801199913024902, -6.80810022354126, -6.857100009918213, -6.873199939727783, -6.8856000900268555, -6.935699939727783, -6.941199779510498, -6.388199806213379, -6.145999908447266, -4.732900142669678, -5.90369987487793, -6.062900066375732, -4.051300048828125, -5.1809000968933105, -4.883500099182129, -3.527600049972534, -4.688600063323975, -2.8113999366760254, -5.042500019073486, -4.938000202178955, -3.7623000144958496, -4.651700019836426, -3.530400037765503, -5.576200008392334, -5.551700115203857, -5.5594000816345215, -4.575900077819824, -4.708899974822998, -4.733699798583984, -4.56279993057251, -4.979700088500977, -5.059800148010254, -4.368000030517578, -5.472799777984619, -5.592100143432617, -4.7581000328063965, -5.062300205230713, -5.015600204467773, -5.347599983215332, -4.891499996185303, -5.0065999031066895, -4.995699882507324, -5.24459981918335, -5.2957000732421875, -5.117300033569336, -5.433700084686279, -5.4141998291015625, -3.498500108718872, -4.607800006866455, -4.612199783325195, -4.6346001625061035, -4.867099761962891, -4.944300174713135, -5.268700122833252, -5.268499851226807, -5.2947998046875, -5.295400142669678, -5.341800212860107, -5.344799995422363, -5.350299835205078, -5.353099822998047, -5.353600025177002, -5.938899993896484, -5.95389986038208, -5.962500095367432, -5.963600158691406, -5.971399784088135, -5.971499919891357, -5.98199987411499, -5.986700057983398, -5.991099834442139, -5.997499942779541, -6.0015997886657715, -6.006800174713135, -6.007500171661377, -6.0081000328063965, -6.009099960327148, -5.201200008392334, -4.386099815368652, -3.908099889755249, -4.892899990081787, -5.311600208282471, -4.0289998054504395, -4.57859992980957, -4.376200199127197, -4.5970001220703125, -4.892499923706055, -4.871200084686279, -4.567599773406982, -2.8355000019073486, -5.272900104522705, -5.281899929046631, -4.192399978637695, -4.799499988555908, -3.034600019454956, -4.598999977111816, -4.370200157165527, -4.1921000480651855, -4.361599922180176, -4.370200157165527, -4.036600112915039, -4.872399806976318, -4.599100112915039, -4.59660005569458, -4.587500095367432, -4.871799945831299, -4.878300189971924, -4.882999897003174, -3.767199993133545, -4.115300178527832, -4.956600189208984, -5.285099983215332, -5.323699951171875, -5.428899765014648, -5.48360013961792, -5.64169979095459, -6.003600120544434, -6.121099948883057, -6.263599872589111, -6.346499919891357, -6.434599876403809, -6.4664998054504395, -6.518099784851074, -6.538099765777588, -6.587600231170654, -6.617099761962891, -6.67110013961792, -6.68779993057251, -6.798799991607666, -6.842899799346924, -6.952000141143799, -6.976900100708008, -6.981599807739258, -7.013800144195557, -7.046500205993652, -7.059000015258789, -7.059100151062012, -7.070499897003174, -3.848299980163574, -5.421599864959717, -6.035900115966797, -5.586999893188477, -6.101600170135498, -5.153299808502197, -4.830100059509277, -5.087100028991699, -4.201200008392334, -5.943299770355225, -5.511099815368652, -3.697499990463257, -5.815299987792969, -4.335100173950195, -4.2347002029418945, -4.746200084686279, -5.230599880218506, -4.371600151062012, -4.083099842071533, -4.402699947357178, -4.481100082397461, -5.562300205230713, -5.14900016784668, -5.619999885559082, -4.695199966430664, -4.7916998863220215, -5.058700084686279, -4.152599811553955, -4.8790998458862305, -5.090199947357178, -4.821800231933594, -5.122499942779541, -5.2256999015808105, -5.204500198364258, -4.867700099945068, -4.939899921417236, -4.977799892425537, -5.007299900054932, -5.017000198364258, -5.026700019836426, -5.029300212860107, -5.032400131225586, -5.051000118255615, -5.078999996185303, -5.082799911499023, -5.084099769592285, -5.114099979400635, -5.136300086975098, -5.1290998458862305, -5.1493000984191895, -5.152900218963623, -5.1433000564575195, -7.684999942779541, -7.724100112915039, -8.332799911499023, -8.371700286865234, -8.393600463867188, -8.480899810791016, -8.511099815368652, -8.529600143432617, -8.591400146484375, -8.713299751281738, -8.740400314331055, -8.774700164794922, -5.0706000328063965, -5.058800220489502, -5.055099964141846, -4.392099857330322, -5.021200180053711, -4.284599781036377, -3.765199899673462, -4.3850998878479, -3.663599967956543, -4.88700008392334, -4.9720001220703125, -5.015200138092041, -4.225299835205078, -3.6982998847961426, -3.7934999465942383, -3.0913000106811523, -3.6142001152038574, -2.9649999141693115, -3.878000020980835, -3.5394999980926514, -3.158600091934204, -3.677299976348877, -3.6658999919891357, -4.298500061035156, -4.026700019836426, -4.002799987792969, -4.292900085449219, -3.8376998901367188, -4.216800212860107, -4.083499908447266, -3.6136999130249023, -4.241600036621094, -4.34250020980835, -4.036399841308594, -4.471700191497803, -4.682799816131592, -4.679299831390381, -4.606500148773193, -3.7090001106262207, -4.309800148010254, -4.330699920654297, -4.342800140380859, -4.357500076293945, -4.377299785614014, -4.428199768066406, -4.454699993133545, -4.454100131988525, -4.501299858093262, -4.529399871826172, -4.533699989318848, -4.5467000007629395, -5.013400077819824, -5.223400115966797, -5.838500022888184, -6.0447001457214355, -6.139500141143799, -6.431000232696533, -6.446499824523926, -6.458600044250488, -6.476600170135498, -6.515500068664551, -6.586100101470947, -6.739799976348877, -6.783400058746338, -6.802700042724609, -6.8471999168396, -6.859499931335449, -6.8628997802734375, -4.202300071716309, -4.3856000900268555, -4.369500160217285, -3.3942999839782715, -4.243000030517578, -3.5322000980377197, -4.25540018081665, -4.316699981689453, -2.7646000385284424, -4.683000087738037, -2.6949000358581543, -3.999300003051758, -4.165900230407715, -4.521999835968018, -3.544600009918213, -4.311200141906738, -4.102399826049805, -4.118800163269043, -4.229499816894531, -4.113800048828125, -4.132500171661377, -4.075200080871582, -4.057600021362305, -4.150899887084961, -4.063799858093262, -4.209400177001953, -4.071400165557861, -4.041200160980225, -3.767400026321411, -4.086900234222412, -4.447000026702881, -4.450900077819824, -4.477399826049805, -4.492599964141846, -5.0493998527526855, -5.056300163269043, -5.063799858093262, -5.06820011138916, -5.071000099182129, -5.087600231170654, -5.098299980163574, -5.102499961853027, -5.108399868011475, -5.114799976348877, -5.126399993896484, -5.119100093841553, -5.1290998458862305, -5.156300067901611, -5.149899959564209, -5.159299850463867, -5.1595001220703125, -5.162099838256836, -5.1666998863220215, -5.1707000732421875, -5.172500133514404, -5.163000106811523, -5.17609977722168, -5.172100067138672, -3.8022000789642334, -4.40939998626709, -4.423999786376953, -2.385499954223633, -3.966599941253662, -4.415500164031982, -4.393899917602539, -4.002699851989746, -3.849600076675415, -4.401199817657471, -3.9876999855041504, -3.9965999126434326, -4.40500020980835, -3.997999906539917, -4.2565999031066895, -4.4105000495910645, -4.450300216674805, -4.392899990081787, -4.422900199890137, -4.39709997177124, -4.409900188446045, -4.407100200653076, -4.957699775695801, -4.953400135040283, -4.943999767303467, -3.819700002670288, -4.263899803161621, -4.829599857330322, -4.84089994430542, -4.851799964904785, -4.873700141906738, -4.882199764251709, -4.8850998878479, -4.904399871826172, -4.907299995422363, -4.9095001220703125, -4.911600112915039, -4.913700103759766, -4.914000034332275, -4.923600196838379, -4.928699970245361, -4.938499927520752, -4.945700168609619, -4.946000099182129, -4.947800159454346, -4.94950008392334, -4.9552998542785645, -4.95550012588501, -4.956200122833252, -4.956200122833252, -4.956999778747559, -4.956999778747559, -4.956999778747559, -5.547500133514404, -5.8246002197265625, -4.887899875640869, -4.149099826812744, -3.3938000202178955, -3.957900047302246, -4.275400161743164, -3.789799928665161, -4.182499885559082, -4.18179988861084, -3.6579999923706055, -3.7811999320983887, -4.15910005569458, -4.174799919128418, -4.1753997802734375, -4.225599765777588, -4.176300048828125, -3.680299997329712, -4.176700115203857, -3.933300018310547, -4.007999897003174, -4.534800052642822, -4.811299800872803, -4.357999801635742, -4.448800086975098, -4.572199821472168, -4.811100006103516, -4.7754998207092285, -4.831999778747559]}, \"token.table\": {\"Topic\": [5, 2, 1, 7, 1, 2, 4, 5, 7, 1, 2, 6, 4, 2, 3, 6, 7, 5, 1, 5, 5, 1, 3, 2, 1, 1, 4, 5, 1, 4, 7, 3, 6, 1, 2, 3, 7, 1, 4, 5, 6, 7, 6, 1, 5, 3, 4, 5, 1, 3, 5, 7, 1, 3, 1, 1, 3, 1, 3, 7, 1, 3, 1, 2, 2, 7, 1, 2, 4, 6, 7, 4, 4, 1, 6, 7, 3, 7, 2, 3, 4, 3, 5, 5, 3, 6, 3, 1, 2, 4, 7, 1, 4, 3, 2, 1, 2, 3, 5, 2, 4, 4, 5, 6, 1, 4, 7, 3, 2, 5, 3, 5, 7, 2, 4, 6, 2, 2, 1, 3, 6, 6, 6, 3, 7, 1, 2, 4, 5, 6, 7, 1, 4, 1, 3, 1, 2, 5, 6, 1, 2, 4, 1, 4, 6, 1, 2, 6, 1, 6, 1, 7, 1, 2, 5, 4, 7, 6, 4, 6, 1, 5, 1, 1, 2, 1, 3, 4, 3, 5, 1, 4, 5, 1, 1, 2, 4, 4, 1, 2, 5, 6, 1, 6, 7, 1, 3, 7, 6, 2, 3, 5, 1, 3, 1, 4, 7, 2, 3, 4, 5, 1, 2, 4, 5, 6, 3, 1, 2, 4, 6, 7, 1, 5, 1, 1, 3, 4, 7, 1, 1, 3, 1, 3, 5, 3, 1, 4, 7, 6, 7, 1, 2, 1, 2, 6, 7, 1, 2, 3, 6, 4, 1, 1, 4, 1, 4, 3, 7, 5, 1, 4, 3, 7, 1, 3, 4, 7, 1, 1, 2, 4, 7, 5, 1, 2, 3, 4, 6, 1, 1, 2, 4, 5, 2, 1, 3, 1, 4, 5, 1, 3, 4, 5, 6, 1, 2, 1, 2, 5, 7, 1, 4, 1, 4, 7, 1, 2, 3, 6, 7, 5, 1, 2, 6, 7, 7, 3, 5, 5, 2, 7, 4, 2, 3, 1, 7, 1, 7, 4, 2, 1, 4, 3, 1, 7, 1, 2, 6, 1, 3, 5, 1, 2, 1, 2, 6, 6, 1, 2, 4, 6, 7, 1, 2, 4, 6, 1, 2, 2, 4, 1, 5, 6, 5, 1, 3, 4, 6, 7, 5, 1, 1, 2, 3, 6, 2, 1, 2, 4, 3, 1, 2, 4, 7, 1, 3, 7, 1, 3, 2, 6, 1, 4, 6, 1, 2, 7, 1, 2, 2, 5, 5, 3, 1, 3, 3, 3, 1, 7, 7, 5, 6, 1, 3, 6, 7, 2, 1, 3, 7, 7, 7, 6, 2, 1, 4, 1, 4, 1, 3, 6, 7, 5, 4, 3, 1, 1, 1, 2, 1, 3, 1, 2, 6, 7, 3, 1, 2, 4, 1, 1, 2, 5, 2, 6, 2, 1, 2, 4, 5, 7, 5, 3, 2, 1, 1, 6, 1, 3, 2, 6, 3, 7, 4, 1, 1, 3, 7, 7, 6, 1, 2, 3, 6, 1, 4, 7, 6, 1, 3, 7, 1, 3, 1, 2, 3, 4, 5, 4, 7, 4, 6, 1, 2, 6, 7, 3, 3, 1, 3, 1, 2, 4, 2, 4, 3, 5, 6, 3, 1, 1, 2, 4, 7, 1, 2, 2, 3, 6, 1, 2, 6, 5, 4, 5, 6, 3, 4, 3, 5, 6, 3, 3, 6, 4, 1, 2, 3, 1, 2, 3, 4, 6, 1, 1, 2, 6, 2, 1, 2, 4, 5, 6, 4, 4, 4, 7, 1, 3, 6, 4, 6, 4, 1, 2, 1, 4, 6, 2, 1, 5, 5, 7, 1, 7, 5, 2, 5, 6, 1, 4, 5, 6, 7, 7, 1, 2, 3, 6, 7, 1, 3, 1, 6, 7, 2, 3, 6, 7, 1, 2, 3, 1, 4, 6, 7, 1, 2, 3, 4, 5, 1, 2, 3, 4, 6, 3], \"Freq\": [0.9993968605995178, 0.9993407726287842, 0.9174271821975708, 0.08239956200122833, 0.3914620280265808, 0.03146748244762421, 0.15471966564655304, 0.37608277797698975, 0.046246837824583054, 0.49389806389808655, 0.39635705947875977, 0.10975512117147446, 0.9710484743118286, 0.2613314986228943, 0.44363492727279663, 0.29455921053886414, 0.9994317889213562, 0.9951926469802856, 0.9999062418937683, 0.9932906627655029, 0.9943538904190063, 0.9766125679016113, 0.023216433823108673, 0.9986724853515625, 0.9992097020149231, 0.4024294912815094, 0.5971534252166748, 0.9993975162506104, 0.850736141204834, 0.0843999981880188, 0.0647859126329422, 0.99725341796875, 0.9986350536346436, 0.35147276520729065, 0.648505449295044, 0.9967427849769592, 0.9987293481826782, 0.4858919680118561, 0.2219104915857315, 0.18241985142230988, 0.07281087338924408, 0.03702247887849808, 0.9994903802871704, 0.39103057980537415, 0.6090572476387024, 0.08850695937871933, 0.21550466120243073, 0.6958778500556946, 0.14303648471832275, 0.856115460395813, 0.9997967481613159, 0.9991677403450012, 0.3329887390136719, 0.6672459840774536, 0.999592661857605, 0.2924475371837616, 0.7074444890022278, 0.14365440607070923, 0.8551926612854004, 0.9985768795013428, 0.9991481304168701, 0.0004961013328284025, 0.8716877698898315, 0.12822914123535156, 0.9999313950538635, 0.9990440011024475, 0.6572807431221008, 0.25170382857322693, 0.03667480871081352, 0.02423758991062641, 0.030100315809249878, 0.9988494515419006, 0.9983307123184204, 0.713572084903717, 0.10322592407464981, 0.18308858573436737, 0.662631094455719, 0.3371622860431671, 0.9991849064826965, 0.2344220131635666, 0.7650111317634583, 0.20395882427692413, 0.7955912351608276, 0.9949380159378052, 0.9963170886039734, 0.9989821910858154, 0.999199390411377, 0.5313242077827454, 0.1292288601398468, 0.3392820358276367, 0.999268114566803, 0.32900047302246094, 0.6706174612045288, 0.9968152642250061, 0.9997562170028687, 0.6205925345420837, 0.08472654223442078, 0.060308825224637985, 0.23446893692016602, 0.9991610050201416, 0.9992361068725586, 0.9846576452255249, 0.137575164437294, 0.8621821999549866, 0.7948160171508789, 0.2051009088754654, 0.9981741905212402, 0.9959237575531006, 0.9385294318199158, 0.060982100665569305, 0.12567764520645142, 0.7459444999694824, 0.12831707298755646, 0.9991854429244995, 0.9736331105232239, 0.9990186095237732, 0.9981256127357483, 0.998234748840332, 0.8128636479377747, 0.0798160657286644, 0.10728313773870468, 0.99944007396698, 0.9991061687469482, 0.9993993043899536, 0.9983513951301575, 0.7217610478401184, 0.11036175489425659, 0.02995561994612217, 0.01928223855793476, 0.09790446609258652, 0.020735422149300575, 0.3208266794681549, 0.6789794564247131, 0.3368540108203888, 0.662158727645874, 0.35808226466178894, 0.6419146060943604, 0.9997755289077759, 0.9994136095046997, 0.28392019867897034, 0.7152839303016663, 0.9981220960617065, 0.5522281527519226, 0.1575237512588501, 0.29021066427230835, 0.8805423974990845, 0.05670269578695297, 0.06262540817260742, 0.9993956089019775, 0.9995935559272766, 0.5999410152435303, 0.3998169004917145, 0.872932493686676, 0.048247285187244415, 0.07877877354621887, 0.9845741987228394, 0.9994313716888428, 0.9986510276794434, 0.9984162449836731, 0.9991247057914734, 0.16208215057849884, 0.837626039981842, 0.9998633861541748, 0.9998838901519775, 0.9997918605804443, 0.15186277031898499, 0.6934111714363098, 0.15472811460494995, 0.030566148459911346, 0.9688758254051208, 0.9997202754020691, 0.9485460519790649, 0.9995994567871094, 0.9997202157974243, 0.4501981735229492, 0.09637673199176788, 0.45316869020462036, 0.9994614720344543, 0.6480966806411743, 0.04697416350245476, 0.14589717984199524, 0.1590271145105362, 0.387751042842865, 0.6119346618652344, 0.9982427358627319, 0.23847784101963043, 0.7614256739616394, 0.9987931251525879, 0.9984707236289978, 0.12102597206830978, 0.5275490880012512, 0.3512856364250183, 0.46812018752098083, 0.531742513179779, 0.5496823787689209, 0.450313925743103, 0.9996814131736755, 0.9995225071907043, 0.33949989080429077, 0.41122713685035706, 0.24918685853481293, 0.7464883923530579, 0.015476959757506847, 0.1533747911453247, 0.050078827887773514, 0.03460187092423439, 0.9933123588562012, 0.7251324653625488, 0.10116349905729294, 0.07447655498981476, 0.037444014102220535, 0.06177968531847, 0.6176770329475403, 0.3821113407611847, 0.9995627403259277, 0.49448907375335693, 0.19644087553024292, 0.18598982691764832, 0.12309004366397858, 0.9997366666793823, 0.7427618503570557, 0.2571570575237274, 0.7432310581207275, 0.2567126154899597, 0.9994718432426453, 0.9995893836021423, 0.22391365468502045, 0.7757816910743713, 0.9953271150588989, 0.9991016983985901, 0.999310314655304, 0.13335147500038147, 0.8660181760787964, 0.47795653343200684, 0.38227683305740356, 0.07104162126779556, 0.06872144341468811, 0.22606420516967773, 0.4023118317127228, 0.37173476815223694, 0.9996952414512634, 0.9985133409500122, 0.9996582269668579, 0.8496204614639282, 0.15032479166984558, 0.9998543858528137, 0.9992783069610596, 0.4957221448421478, 0.5040218830108643, 0.9972137212753296, 0.35425087809562683, 0.6459869146347046, 0.1041853278875351, 0.8942574262619019, 0.9678913950920105, 0.03193902596831322, 0.5081994533538818, 0.4915834069252014, 0.9998574256896973, 0.3749946355819702, 0.1219048947095871, 0.354255348443985, 0.14876052737236023, 0.9997499585151672, 0.13487359881401062, 0.23949287831783295, 0.3459979295730591, 0.11822962760925293, 0.1613563895225525, 0.9999188184738159, 0.5655807852745056, 0.06389088928699493, 0.17735417187213898, 0.19308282434940338, 0.9987003207206726, 0.9644696116447449, 0.035393379628658295, 0.7128088474273682, 0.13801045715808868, 0.14917242527008057, 0.6640042662620544, 0.14223729074001312, 0.058818332850933075, 0.10058094561100006, 0.034323979169130325, 0.16642138361930847, 0.8330773115158081, 0.5834088921546936, 0.1310272514820099, 0.17937511205673218, 0.1061723604798317, 0.13843318819999695, 0.8602633476257324, 0.25738996267318726, 0.6062632203102112, 0.13605202734470367, 0.21061211824417114, 0.09570318460464478, 0.3631187081336975, 0.12190762907266617, 0.20865899324417114, 0.9991441965103149, 0.8543890714645386, 0.04527386277914047, 0.05860794335603714, 0.04170776903629303, 0.9995694756507874, 0.9985939264297485, 0.9956260919570923, 0.9988659024238586, 0.317247211933136, 0.6824503540992737, 0.9993101954460144, 0.999192476272583, 0.9983645677566528, 0.9997068047523499, 0.999100387096405, 0.9994391202926636, 0.9983157515525818, 0.9992494583129883, 0.9994736313819885, 0.9996490478515625, 0.9673851728439331, 0.9932496547698975, 0.3551994264125824, 0.6447641849517822, 0.7582525014877319, 0.15598565340042114, 0.08563917875289917, 0.18768544495105743, 0.8122249245643616, 0.9998013973236084, 0.1396869719028473, 0.8601459264755249, 0.2609564960002899, 0.5423406958580017, 0.19650858640670776, 0.999087929725647, 0.5777190923690796, 0.18595916032791138, 0.18011581897735596, 0.04160964488983154, 0.014576218090951443, 0.8139777779579163, 0.08221638202667236, 0.05787179246544838, 0.04598422721028328, 0.9999298453330994, 0.9994856119155884, 0.9997631907463074, 0.9840424060821533, 0.687190055847168, 0.31282374262809753, 0.9980786442756653, 0.9978715181350708, 0.08974337577819824, 0.2776156961917877, 0.18376873433589935, 0.3586166501045227, 0.09027862548828125, 0.9899125695228577, 0.9995855689048767, 0.3581852316856384, 0.4169314205646515, 0.06968677043914795, 0.15530873835086823, 0.9994520545005798, 0.6133065819740295, 0.07770704478025436, 0.3090774118900299, 0.9993553161621094, 0.6681107878684998, 0.15344087779521942, 0.17836840450763702, 0.999512791633606, 0.5924633145332336, 0.2831589877605438, 0.12431370466947556, 0.5725556015968323, 0.4274657964706421, 0.18644782900810242, 0.8134344816207886, 0.7010048031806946, 0.21421439945697784, 0.08471417427062988, 0.7350835800170898, 0.08420594781637192, 0.18058453500270844, 0.2831624448299408, 0.716524064540863, 0.9994598031044006, 0.9916691184043884, 0.999467670917511, 0.9974560737609863, 0.6937283277511597, 0.305909126996994, 0.99779212474823, 0.9943768978118896, 0.5072178840637207, 0.4926697909832001, 0.9995290637016296, 0.9955930709838867, 0.998973548412323, 0.5055782794952393, 0.24809543788433075, 0.12605929374694824, 0.1203119158744812, 0.9983033537864685, 0.875359058380127, 0.0037951834965497255, 0.12087659537792206, 0.9984163641929626, 0.998809278011322, 0.9981756806373596, 0.9994109272956848, 0.18910397589206696, 0.8102818727493286, 0.14233160018920898, 0.8576391339302063, 0.40301889181137085, 0.311797559261322, 0.09645535796880722, 0.18872350454330444, 0.9956756234169006, 0.9861213564872742, 0.9950631856918335, 0.9997115731239319, 0.9994585514068604, 0.8881053328514099, 0.11177168041467667, 0.2883150279521942, 0.7110325694084167, 0.5220194458961487, 0.28664547204971313, 0.14886561036109924, 0.04246233031153679, 0.9989442229270935, 0.7079915404319763, 0.2145485281944275, 0.07738273590803146, 0.999689519405365, 0.4005119502544403, 0.5993107557296753, 0.9983628988265991, 0.9987553358078003, 0.9994029998779297, 0.9990893006324768, 0.4987016022205353, 0.21292945742607117, 0.11492408066987991, 0.11437037587165833, 0.05900010094046593, 0.9911446571350098, 0.999759316444397, 0.9978835582733154, 0.9998820424079895, 0.8783706426620483, 0.1214868351817131, 0.38158342242240906, 0.6179447770118713, 0.9981383085250854, 0.9989249110221863, 0.9985457062721252, 0.9991978406906128, 0.9685416221618652, 0.9999355673789978, 0.9301475286483765, 0.06978532671928406, 0.9983515739440918, 0.9983513951301575, 0.9987045526504517, 0.22929024696350098, 0.23537759482860565, 0.014203820377588272, 0.5206714868545532, 0.14542564749717712, 0.6364539861679077, 0.21801461279392242, 0.9992635250091553, 0.4425290822982788, 0.01640595681965351, 0.5405330657958984, 0.40380722284317017, 0.5961397886276245, 0.2514089345932007, 0.6611436009407043, 0.0871775895357132, 0.9995120167732239, 0.9996371269226074, 0.4060836136341095, 0.5932668447494507, 0.9849533438682556, 0.9992685317993164, 0.6882241368293762, 0.14867010712623596, 0.1630108505487442, 0.9983879923820496, 0.9966837167739868, 0.9990378022193909, 0.19946512579917908, 0.8003695011138916, 0.6131613254547119, 0.1674758344888687, 0.21929635107517242, 0.9987033605575562, 0.9995492696762085, 0.023255176842212677, 0.976717472076416, 0.9986321926116943, 0.9987083077430725, 0.9996542930603027, 0.7745190858840942, 0.08897989988327026, 0.10368150472640991, 0.03281450271606445, 0.27806714177131653, 0.7219383120536804, 0.9993265867233276, 0.9996830224990845, 0.9994005560874939, 0.999601423740387, 0.9993761777877808, 0.9983184933662415, 0.9991605877876282, 0.9539600610733032, 0.9990683794021606, 0.999527096748352, 0.9983782172203064, 0.9984828233718872, 0.9995813369750977, 0.9991040229797363, 0.9995483160018921, 0.9964053630828857, 0.9985237717628479, 0.9995512962341309, 0.9989171624183655, 0.4081992208957672, 0.5538182258605957, 0.03774444758892059, 0.6995185017585754, 0.07546430826187134, 0.04599112272262573, 0.052857402712106705, 0.12618409097194672, 0.9996552467346191, 0.38041266798973083, 0.29252853989601135, 0.3266777992248535, 0.998421847820282, 0.530867874622345, 0.08148644119501114, 0.08351399004459381, 0.25844240188598633, 0.04568973556160927, 0.9994624257087708, 0.9983231425285339, 0.9989980459213257, 0.9991976618766785, 0.47592633962631226, 0.05055363103747368, 0.4733986556529999, 0.9990538358688354, 0.9986650347709656, 0.9502349495887756, 0.3419572114944458, 0.6578751802444458, 0.3925199806690216, 0.6065499782562256, 0.9994325637817383, 0.9995062351226807, 0.4376409351825714, 0.5626018643379211, 0.9992780089378357, 0.9984320998191833, 0.9997987151145935, 0.9994152784347534, 0.9982547760009766, 0.9989612698554993, 0.7024519443511963, 0.29717379808425903, 0.553042471408844, 0.06834275275468826, 0.1536618024110794, 0.19767768681049347, 0.027127083390951157, 0.9985315799713135, 0.5846539735794067, 0.12788167595863342, 0.09995768219232559, 0.09565607458353043, 0.09186482429504395, 0.9998924732208252, 0.9951225519180298, 0.6912127137184143, 0.30881598591804504, 0.9982638955116272, 0.0882311761379242, 0.2943074405193329, 0.19676467776298523, 0.4205482304096222, 0.2231549769639969, 0.6033546328544617, 0.17350691556930542, 0.5406015515327454, 0.169038325548172, 0.17110256850719452, 0.11926720291376114, 0.9999297261238098, 0.12109776586294174, 0.2924976646900177, 0.17119291424751282, 0.4152514636516571, 0.25763627886772156, 0.18105848133563995, 0.33343902230262756, 0.1266479194164276, 0.10122533142566681, 0.9957236051559448], \"Term\": [\"2nd\", \"acceptance\", \"action\", \"action\", \"actor\", \"actor\", \"actor\", \"actor\", \"actor\", \"actress\", \"actress\", \"actress\", \"advertising\", \"age\", \"age\", \"age\", \"agency\", \"amazed\", \"amazing\", \"anger\", \"anime\", \"annoying\", \"annoying\", \"apart\", \"aspect\", \"average\", \"average\", \"baby\", \"bad\", \"bad\", \"bad\", \"band\", \"beach\", \"beautiful\", \"beautiful\", \"behaviour\", \"being\", \"bit\", \"bit\", \"bit\", \"bit\", \"bit\", \"boat\", \"boring\", \"boring\", \"boy\", \"boy\", \"boy\", \"boyfriend\", \"boyfriend\", \"break\", \"breathing\", \"brother\", \"brother\", \"build\", \"business\", \"business\", \"career\", \"career\", \"caricatural\", \"case\", \"case\", \"cast\", \"cast\", \"certain\", \"chakrit\", \"character\", \"character\", \"character\", \"character\", \"character\", \"cheeky\", \"cheerful\", \"chemistry\", \"chemistry\", \"chemistry\", \"child\", \"child\", \"circumstance\", \"class\", \"class\", \"close\", \"close\", \"coaster\", \"college\", \"color\", \"com\", \"comedy\", \"comedy\", \"comedy\", \"commodity\", \"conflict\", \"conflict\", \"contract\", \"conversation\", \"couple\", \"couple\", \"couple\", \"couple\", \"creative\", \"crier\", \"cross\", \"cry\", \"cry\", \"cute\", \"cute\", \"cutesy\", \"dad\", \"daughter\", \"daughter\", \"day\", \"day\", \"day\", \"decade\", \"dense\", \"description\", \"despair\", \"desperate\", \"different\", \"different\", \"different\", \"disease\", \"dislike\", \"dog\", \"douzain\", \"drama\", \"drama\", \"drama\", \"drama\", \"drama\", \"drama\", \"dramatic\", \"dramatic\", \"dream\", \"dream\", \"due\", \"due\", \"dunno\", \"eager\", \"early\", \"early\", \"embarrassed\", \"emotion\", \"emotion\", \"emotion\", \"end\", \"end\", \"end\", \"ending\", \"english\", \"enough\", \"enough\", \"episode\", \"episode\", \"episode\", \"eun\", \"evilness\", \"exact\", \"exaggerate\", \"excel\", \"exciting\", \"exciting\", \"expectation\", \"expression\", \"extra\", \"family\", \"family\", \"family\", \"famous\", \"famous\", \"fan\", \"farm\", \"fault\", \"favorite\", \"female\", \"female\", \"female\", \"feminist\", \"first\", \"first\", \"first\", \"first\", \"fit\", \"fit\", \"flawed\", \"food\", \"food\", \"foot\", \"formula\", \"friend\", \"friend\", \"friend\", \"friendship\", \"friendship\", \"funny\", \"funny\", \"gay\", \"gentle\", \"girl\", \"girl\", \"girl\", \"good\", \"good\", \"good\", \"good\", \"good\", \"grade\", \"great\", \"great\", \"great\", \"great\", \"great\", \"greedy\", \"greedy\", \"guess\", \"guy\", \"guy\", \"guy\", \"guy\", \"half\", \"heart\", \"heart\", \"high\", \"high\", \"historical\", \"home\", \"humor\", \"humor\", \"husband\", \"impatient\", \"independant\", \"instrumental\", \"instrumental\", \"interesting\", \"interesting\", \"interesting\", \"interesting\", \"issue\", \"issue\", \"issue\", \"japanese\", \"jealous\", \"jealousy\", \"job\", \"job\", \"joke\", \"judgement\", \"kid\", \"kid\", \"king\", \"kiss\", \"kiss\", \"knowledge\", \"knowledge\", \"korean\", \"korean\", \"lakorn\", \"lakorn\", \"laugh\", \"lead\", \"lead\", \"lead\", \"lead\", \"leave\", \"life\", \"life\", \"life\", \"life\", \"life\", \"line\", \"little\", \"little\", \"little\", \"little\", \"load\", \"long\", \"long\", \"lot\", \"lot\", \"lot\", \"love\", \"love\", \"love\", \"love\", \"love\", \"lovely\", \"lovely\", \"main\", \"main\", \"main\", \"main\", \"majority\", \"majority\", \"male\", \"male\", \"male\", \"man\", \"man\", \"man\", \"man\", \"man\", \"manner\", \"many\", \"many\", \"many\", \"many\", \"margie\", \"marriage\", \"martial\", \"masterpiece\", \"mature\", \"mature\", \"meet\", \"melancholy\", \"mental\", \"middle\", \"mindset\", \"minute\", \"miracle\", \"misunderstanding\", \"mix\", \"mixed\", \"mode\", \"model\", \"mom\", \"mom\", \"moment\", \"moment\", \"moment\", \"money\", \"money\", \"month\", \"mood\", \"mood\", \"mother\", \"mother\", \"mother\", \"mouth\", \"much\", \"much\", \"much\", \"much\", \"much\", \"music\", \"music\", \"music\", \"music\", \"mystery\", \"naturalistic\", \"nature\", \"neighborhood\", \"next\", \"next\", \"nostalgic\", \"officer\", \"old\", \"old\", \"old\", \"old\", \"old\", \"omg\", \"original\", \"other\", \"other\", \"other\", \"other\", \"outlook\", \"overall\", \"overall\", \"overall\", \"parent\", \"part\", \"part\", \"part\", \"passive\", \"people\", \"people\", \"people\", \"person\", \"person\", \"platonic\", \"platonic\", \"plot\", \"plot\", \"plot\", \"point\", \"point\", \"point\", \"positive\", \"positive\", \"positivity\", \"precious\", \"pregnant\", \"pressure\", \"problem\", \"problem\", \"public\", \"rape\", \"rating\", \"rating\", \"rationale\", \"raw\", \"read\", \"real\", \"real\", \"real\", \"real\", \"realism\", \"reason\", \"reason\", \"reason\", \"reasonable\", \"rebellious\", \"recent\", \"reflective\", \"refreshing\", \"refreshing\", \"relatable\", \"relatable\", \"relationship\", \"relationship\", \"relationship\", \"relationship\", \"remake\", \"reply\", \"responsibility\", \"rest\", \"revenge\", \"rewatch\", \"rewatch\", \"rich\", \"rich\", \"role\", \"role\", \"role\", \"role\", \"rom\", \"romance\", \"romance\", \"romance\", \"romantic\", \"sad\", \"sad\", \"sadness\", \"safe\", \"sailing\", \"sari\", \"scene\", \"scene\", \"scene\", \"scene\", \"scene\", \"scenery\", \"school\", \"sea\", \"season\", \"second\", \"second\", \"self\", \"self\", \"sensitive\", \"sentiment\", \"sex\", \"sharp\", \"shirt\", \"short\", \"show\", \"show\", \"shrewish\", \"shriek\", \"sight\", \"similar\", \"similar\", \"similar\", \"similar\", \"simple\", \"simple\", \"simple\", \"simplicity\", \"single\", \"single\", \"single\", \"sister\", \"sister\", \"situation\", \"situation\", \"situation\", \"skin\", \"skipped\", \"slap\", \"slap\", \"slapstick\", \"slice\", \"slow\", \"slow\", \"slow\", \"smexy\", \"social\", \"society\", \"son\", \"son\", \"song\", \"song\", \"song\", \"sorrow\", \"sorrowful\", \"sorry\", \"sorry\", \"space\", \"sport\", \"start\", \"story\", \"story\", \"story\", \"story\", \"storyline\", \"storyline\", \"stranger\", \"student\", \"subtitle\", \"sure\", \"surface\", \"surreal\", \"suspect\", \"sweetheart\", \"swiss\", \"swoon\", \"system\", \"tad\", \"teacher\", \"tear\", \"tearjerker\", \"teen\", \"teenager\", \"terminal\", \"thai\", \"theme\", \"theme\", \"theme\", \"thing\", \"thing\", \"thing\", \"thing\", \"thing\", \"think\", \"thought\", \"thought\", \"thought\", \"thoughtful\", \"time\", \"time\", \"time\", \"time\", \"time\", \"timing\", \"tiring\", \"togetherness\", \"treatment\", \"type\", \"type\", \"type\", \"uncomfortable\", \"undeniable\", \"unhealthy\", \"unique\", \"unique\", \"unnecessary\", \"unnecessary\", \"unusual\", \"various\", \"version\", \"version\", \"veteran\", \"victim\", \"viewer\", \"violence\", \"war\", \"warmth\", \"waste\", \"waste\", \"watch\", \"watch\", \"watch\", \"watch\", \"watch\", \"water\", \"way\", \"way\", \"way\", \"way\", \"way\", \"weak\", \"weight\", \"whole\", \"whole\", \"wife\", \"woman\", \"woman\", \"woman\", \"woman\", \"world\", \"world\", \"world\", \"worth\", \"worth\", \"worth\", \"worth\", \"writer\", \"year\", \"year\", \"year\", \"year\", \"young\", \"young\", \"young\", \"young\", \"young\", \"youth\"]}, \"R\": 30, \"lambda.step\": 0.01, \"plot.opts\": {\"xlab\": \"PC1\", \"ylab\": \"PC2\"}, \"topic.order\": [1, 3, 6, 7, 2, 4, 5]};\n",
       "\n",
       "function LDAvis_load_lib(url, callback){\n",
       "  var s = document.createElement('script');\n",
       "  s.src = url;\n",
       "  s.async = true;\n",
       "  s.onreadystatechange = s.onload = callback;\n",
       "  s.onerror = function(){console.warn(\"failed to load library \" + url);};\n",
       "  document.getElementsByTagName(\"head\")[0].appendChild(s);\n",
       "}\n",
       "\n",
       "if(typeof(LDAvis) !== \"undefined\"){\n",
       "   // already loaded: just create the visualization\n",
       "   !function(LDAvis){\n",
       "       new LDAvis(\"#\" + \"ldavis_el808823277411038162888785521\", ldavis_el808823277411038162888785521_data);\n",
       "   }(LDAvis);\n",
       "}else if(typeof define === \"function\" && define.amd){\n",
       "   // require.js is available: use it to load d3/LDAvis\n",
       "   require.config({paths: {d3: \"https://cdnjs.cloudflare.com/ajax/libs/d3/3.5.5/d3.min\"}});\n",
       "   require([\"d3\"], function(d3){\n",
       "      window.d3 = d3;\n",
       "      LDAvis_load_lib(\"https://cdn.rawgit.com/bmabey/pyLDAvis/files/ldavis.v1.0.0.js\", function(){\n",
       "        new LDAvis(\"#\" + \"ldavis_el808823277411038162888785521\", ldavis_el808823277411038162888785521_data);\n",
       "      });\n",
       "    });\n",
       "}else{\n",
       "    // require.js not available: dynamically load d3 & LDAvis\n",
       "    LDAvis_load_lib(\"https://cdnjs.cloudflare.com/ajax/libs/d3/3.5.5/d3.min.js\", function(){\n",
       "         LDAvis_load_lib(\"https://cdn.rawgit.com/bmabey/pyLDAvis/files/ldavis.v1.0.0.js\", function(){\n",
       "                 new LDAvis(\"#\" + \"ldavis_el808823277411038162888785521\", ldavis_el808823277411038162888785521_data);\n",
       "            })\n",
       "         });\n",
       "}\n",
       "</script>"
      ],
      "text/plain": [
       "PreparedData(topic_coordinates=              x         y  topics  cluster       Freq\n",
       "topic                                                \n",
       "0     -0.046500 -0.077828       1        1  59.726303\n",
       "2     -0.221225 -0.023764       2        1  11.415779\n",
       "5      0.288946 -0.255731       3        1   8.489594\n",
       "6     -0.043550  0.160042       4        1   5.528821\n",
       "1      0.211108  0.301874       5        1   5.457044\n",
       "3     -0.146860 -0.036916       6        1   5.291340\n",
       "4     -0.041919 -0.067676       7        1   4.091114, topic_info=    Category          Freq       Term         Total  loglift  logprob\n",
       "2    Default  99780.000000      drama  99780.000000  30.0000  30.0000\n",
       "100  Default  37281.000000       good  37281.000000  29.0000  29.0000\n",
       "24   Default  45437.000000      story  45437.000000  28.0000  28.0000\n",
       "27   Default  28605.000000       time  28605.000000  27.0000  27.0000\n",
       "53   Default  53388.000000  character  53388.000000  26.0000  26.0000\n",
       "..       ...           ...        ...           ...      ...      ...\n",
       "162   Topic7    959.433228      scene  16254.208984   0.3666  -4.4488\n",
       "0     Topic7    848.097351      actor  18336.388672   0.1227  -4.5722\n",
       "115   Topic7    667.824585        kid   1325.339233   2.5110  -4.8111\n",
       "55    Topic7    692.056458      child   2052.424072   2.1092  -4.7755\n",
       "246   Topic7    654.050049        bad  10094.787109   0.4598  -4.8320\n",
       "\n",
       "[463 rows x 6 columns], token_table=      Topic      Freq        Term\n",
       "term                             \n",
       "546       5  0.999397         2nd\n",
       "2819      2  0.999341  acceptance\n",
       "547       1  0.917427      action\n",
       "547       7  0.082400      action\n",
       "0         1  0.391462       actor\n",
       "...     ...       ...         ...\n",
       "199       2  0.181058       young\n",
       "199       3  0.333439       young\n",
       "199       4  0.126648       young\n",
       "199       6  0.101225       young\n",
       "309       3  0.995724       youth\n",
       "\n",
       "[618 rows x 3 columns], R=30, lambda_step=0.01, plot_opts={'xlab': 'PC1', 'ylab': 'PC2'}, topic_order=[1, 3, 6, 7, 2, 4, 5])"
      ]
     },
     "execution_count": 51,
     "metadata": {},
     "output_type": "execute_result"
    }
   ],
   "source": [
    "# Visualize the topics\n",
    "pyLDAvis.enable_notebook()\n",
    "vis = pyLDAvis.gensim.prepare(lda_model, doc_term_matrix, dictionary)\n",
    "vis"
   ]
  },
  {
   "cell_type": "markdown",
   "metadata": {},
   "source": [
    "Except for clusters 3, 4 and 5, the other topics are rather similar. Perhaps, topic modelling is not as effective for drama reviews from the mydramalist website in telling the topics. \n",
    "\n",
    "I made some guesses on the less similar topics as well: \n",
    "- Cluster 4 could revolve around dramas with a comedy theme as words like \"comedy\", \"humor\", \"funny\" and \"dramatic\" were used\n",
    "- Cluster 5 could be represent a youth romance dramas as the words \"break\", \"couple\", \"girl\", \"boy\" and \"fault\" were used\n",
    "- Cluster 3 could reveal school life dramas as words such as \"school\", \"student\", \"young\", \"freindship\" and \"teacher\" were used"
   ]
  },
  {
   "cell_type": "code",
   "execution_count": null,
   "metadata": {},
   "outputs": [],
   "source": []
  }
 ],
 "metadata": {
  "kernelspec": {
   "display_name": "Python 3",
   "language": "python",
   "name": "python3"
  },
  "language_info": {
   "codemirror_mode": {
    "name": "ipython",
    "version": 3
   },
   "file_extension": ".py",
   "mimetype": "text/x-python",
   "name": "python",
   "nbconvert_exporter": "python",
   "pygments_lexer": "ipython3",
   "version": "3.7.4"
  }
 },
 "nbformat": 4,
 "nbformat_minor": 2
}
