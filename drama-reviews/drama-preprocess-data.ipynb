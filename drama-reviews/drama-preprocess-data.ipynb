{
 "cells": [
  {
   "cell_type": "markdown",
   "metadata": {},
   "source": [
    "# Preprocess Web Scraped Data\n",
    "\n",
    "Task: Clean the reviews so that they could be used for further analysis.\n",
    "\n",
    "This notebook is the second of the 5 part series that I have completed in my drama reviews project."
   ]
  },
  {
   "cell_type": "markdown",
   "metadata": {},
   "source": [
    "## 1. Import libraries and load CSV file"
   ]
  },
  {
   "cell_type": "code",
   "execution_count": 2,
   "metadata": {},
   "outputs": [],
   "source": [
    "import pandas as pd\n",
    "import numpy as np\n",
    "import re\n",
    "import string\n",
    "import spacy\n",
    "\n",
    "from nltk.corpus import stopwords # identify stopwords\n",
    "from nltk import FreqDist # identify frequency of each word\n",
    "from langdetect import detect # detect language of texts\n",
    "\n",
    "import matplotlib.pyplot as plt\n",
    "import seaborn as sns\n",
    "%matplotlib inline"
   ]
  },
  {
   "cell_type": "code",
   "execution_count": 18,
   "metadata": {},
   "outputs": [],
   "source": [
    "# !python -m spacy download en ## run once"
   ]
  },
  {
   "cell_type": "code",
   "execution_count": 3,
   "metadata": {
    "scrolled": true
   },
   "outputs": [
    {
     "data": {
      "text/html": [
       "<div>\n",
       "<style scoped>\n",
       "    .dataframe tbody tr th:only-of-type {\n",
       "        vertical-align: middle;\n",
       "    }\n",
       "\n",
       "    .dataframe tbody tr th {\n",
       "        vertical-align: top;\n",
       "    }\n",
       "\n",
       "    .dataframe thead th {\n",
       "        text-align: right;\n",
       "    }\n",
       "</style>\n",
       "<table border=\"1\" class=\"dataframe\">\n",
       "  <thead>\n",
       "    <tr style=\"text-align: right;\">\n",
       "      <th></th>\n",
       "      <th>drama_title</th>\n",
       "      <th>user_name</th>\n",
       "      <th>overall_rating</th>\n",
       "      <th>story_rating</th>\n",
       "      <th>cast_rating</th>\n",
       "      <th>music_rating</th>\n",
       "      <th>rewatch_value_rating</th>\n",
       "      <th>reviews</th>\n",
       "    </tr>\n",
       "  </thead>\n",
       "  <tbody>\n",
       "    <tr>\n",
       "      <td>0</td>\n",
       "      <td>Dear My Friends (2016)</td>\n",
       "      <td>iamgeralddd</td>\n",
       "      <td>10.0</td>\n",
       "      <td>10.0</td>\n",
       "      <td>10.0</td>\n",
       "      <td>10.0</td>\n",
       "      <td>10.0</td>\n",
       "      <td>Thank you writer Noh for making this heart-wa...</td>\n",
       "    </tr>\n",
       "    <tr>\n",
       "      <td>1</td>\n",
       "      <td>Dear My Friends (2016)</td>\n",
       "      <td>Dounie</td>\n",
       "      <td>10.0</td>\n",
       "      <td>10.0</td>\n",
       "      <td>10.0</td>\n",
       "      <td>8.5</td>\n",
       "      <td>9.0</td>\n",
       "      <td>I know for some, stories following and tellin...</td>\n",
       "    </tr>\n",
       "    <tr>\n",
       "      <td>2</td>\n",
       "      <td>Dear My Friends (2016)</td>\n",
       "      <td>Pelin</td>\n",
       "      <td>10.0</td>\n",
       "      <td>10.0</td>\n",
       "      <td>10.0</td>\n",
       "      <td>10.0</td>\n",
       "      <td>10.0</td>\n",
       "      <td>Story\\n\\r\\n\"A realistic, cheerful story about...</td>\n",
       "    </tr>\n",
       "    <tr>\n",
       "      <td>3</td>\n",
       "      <td>Dear My Friends (2016)</td>\n",
       "      <td>silent_whispers</td>\n",
       "      <td>9.0</td>\n",
       "      <td>9.0</td>\n",
       "      <td>10.0</td>\n",
       "      <td>10.0</td>\n",
       "      <td>7.0</td>\n",
       "      <td>When I heard about a drama that would be comi...</td>\n",
       "    </tr>\n",
       "    <tr>\n",
       "      <td>4</td>\n",
       "      <td>Dear My Friends (2016)</td>\n",
       "      <td>Dana</td>\n",
       "      <td>9.0</td>\n",
       "      <td>9.0</td>\n",
       "      <td>10.0</td>\n",
       "      <td>7.0</td>\n",
       "      <td>3.0</td>\n",
       "      <td>In a sometimes overwhelming world of perfect ...</td>\n",
       "    </tr>\n",
       "  </tbody>\n",
       "</table>\n",
       "</div>"
      ],
      "text/plain": [
       "              drama_title        user_name  overall_rating  story_rating  \\\n",
       "0  Dear My Friends (2016)      iamgeralddd            10.0          10.0   \n",
       "1  Dear My Friends (2016)           Dounie            10.0          10.0   \n",
       "2  Dear My Friends (2016)            Pelin            10.0          10.0   \n",
       "3  Dear My Friends (2016)  silent_whispers             9.0           9.0   \n",
       "4  Dear My Friends (2016)             Dana             9.0           9.0   \n",
       "\n",
       "   cast_rating  music_rating  rewatch_value_rating  \\\n",
       "0         10.0          10.0                  10.0   \n",
       "1         10.0           8.5                   9.0   \n",
       "2         10.0          10.0                  10.0   \n",
       "3         10.0          10.0                   7.0   \n",
       "4         10.0           7.0                   3.0   \n",
       "\n",
       "                                             reviews  \n",
       "0   Thank you writer Noh for making this heart-wa...  \n",
       "1   I know for some, stories following and tellin...  \n",
       "2   Story\\n\\r\\n\"A realistic, cheerful story about...  \n",
       "3   When I heard about a drama that would be comi...  \n",
       "4   In a sometimes overwhelming world of perfect ...  "
      ]
     },
     "execution_count": 3,
     "metadata": {},
     "output_type": "execute_result"
    }
   ],
   "source": [
    "df = pd.read_csv('drama_reviews.csv')\n",
    "df.head()"
   ]
  },
  {
   "cell_type": "markdown",
   "metadata": {},
   "source": [
    "## 2. Label sentiment based on overall drama rating"
   ]
  },
  {
   "cell_type": "code",
   "execution_count": 4,
   "metadata": {},
   "outputs": [],
   "source": [
    "def label_sentiment(row): # label sentiment according to overall rating\n",
    "    if row['overall_rating'] < 5.0:\n",
    "        return -1 # 0 means negative rating\n",
    "    elif row['overall_rating'] == 5.0:\n",
    "        return 0\n",
    "    return 1 # 1 means positive rating\n",
    "\n",
    "df['sentiment'] = df.apply(lambda row: label_sentiment(row), axis=1)"
   ]
  },
  {
   "cell_type": "code",
   "execution_count": 5,
   "metadata": {},
   "outputs": [
    {
     "data": {
      "text/plain": [
       " 1    23633\n",
       "-1     1180\n",
       " 0      726\n",
       "Name: sentiment, dtype: int64"
      ]
     },
     "execution_count": 5,
     "metadata": {},
     "output_type": "execute_result"
    }
   ],
   "source": [
    "df['sentiment'].value_counts() # data is skewed"
   ]
  },
  {
   "cell_type": "markdown",
   "metadata": {},
   "source": [
    "## 3. Remove non-English reviews\n",
    "\n",
    "This step was done to clean the data thoroughly. As non-alphabetic characters are used in other languages, this has reduced the effectiveness of cleaning e.g. removing punctuation, special characters and stopwords."
   ]
  },
  {
   "cell_type": "code",
   "execution_count": 42,
   "metadata": {},
   "outputs": [],
   "source": [
    "def detect_language(row):\n",
    "    language = detect(row)\n",
    "    return language\n",
    "\n",
    "df['language'] = df.apply(lambda row: detect_language(row['reviews']), axis=1) # detect the language of the reviews"
   ]
  },
  {
   "cell_type": "code",
   "execution_count": 44,
   "metadata": {},
   "outputs": [
    {
     "data": {
      "text/plain": [
       "en       25034\n",
       "ru         221\n",
       "pt         100\n",
       "es          83\n",
       "it          33\n",
       "id          23\n",
       "fr          23\n",
       "tr           5\n",
       "de           4\n",
       "tl           4\n",
       "ar           3\n",
       "da           1\n",
       "no           1\n",
       "so           1\n",
       "et           1\n",
       "zh-cn        1\n",
       "th           1\n",
       "Name: language, dtype: int64"
      ]
     },
     "execution_count": 44,
     "metadata": {},
     "output_type": "execute_result"
    }
   ],
   "source": [
    "df['language'].value_counts() # value counts based on language before dropping rows"
   ]
  },
  {
   "cell_type": "code",
   "execution_count": 45,
   "metadata": {},
   "outputs": [],
   "source": [
    "df.drop(df[df['language'] != 'en'].index, inplace=True) # drop rows that are not English"
   ]
  },
  {
   "cell_type": "code",
   "execution_count": 46,
   "metadata": {},
   "outputs": [
    {
     "data": {
      "text/plain": [
       "en    25034\n",
       "Name: language, dtype: int64"
      ]
     },
     "execution_count": 46,
     "metadata": {},
     "output_type": "execute_result"
    }
   ],
   "source": [
    "df['language'].value_counts() # value counts based on language after dropping rows"
   ]
  },
  {
   "cell_type": "markdown",
   "metadata": {},
   "source": [
    "## 4. Clean the drama reviews text\n",
    "\n",
    "These steps were involved:\n",
    "\n",
    "1. Remove the indicator of new lines that were present in the html\n",
    "2. Remove the website addresses\n",
    "3. Make the text lowercase\n",
    "4. Remove the special punctuation marks\n",
    "5. Remove the disclaimers that were present in the reviews\n",
    "6. Remove extra spaces"
   ]
  },
  {
   "cell_type": "code",
   "execution_count": 47,
   "metadata": {},
   "outputs": [],
   "source": [
    "replace_with_space = re.compile(\"(\\r\\n)|(\\n\\r\\n)|(\\n\\n)\") # new line indicators in html\n",
    "\n",
    "def remove_extra_characters(row):\n",
    "    clean = re.sub(replace_with_space, \" \", row) # remove the new line indicators\n",
    "    return clean\n",
    "\n",
    "df['reviews'] = df.apply(lambda row: remove_extra_characters(row['reviews']), axis=1)"
   ]
  },
  {
   "cell_type": "code",
   "execution_count": 48,
   "metadata": {},
   "outputs": [],
   "source": [
    "replace_links = r'http\\S+' # website addresses\n",
    "replace_with_space = re.compile(r'[^\\w\\s]') # alphanumeric characters\n",
    "replace_no_space = re.compile(\"[“’”]\") # special punctuation marks\n",
    "\n",
    "def remove_unwanted_characters(row):\n",
    "    clean = re.sub(replace_links, \"\", row, flags=re.MULTILINE) # remove website addresses\n",
    "    clean = re.sub(replace_with_space, \" \", clean.lower()) # make text lowercase\n",
    "    clean = re.sub(replace_no_space, \"\", clean) # remove the special punctuation marks\n",
    "    clean = clean.replace(\"this review may contain spoilers\", \"\") # remove the disclaimer\n",
    "    clean = re.sub(' +',' ', clean.lstrip().rstrip()) # remove extra spaces\n",
    "    return clean\n",
    "\n",
    "df['reviews_processed'] = df.apply(lambda row: remove_unwanted_characters(row['reviews']), axis=1)"
   ]
  },
  {
   "cell_type": "code",
   "execution_count": 53,
   "metadata": {},
   "outputs": [
    {
     "data": {
      "text/plain": [
       "'this is a great show the first half reminded me of the american tv show lois clark for obvious reasons i loved that show as a kid healer s take on this theme was good enough to keep me entertained as an adult the second male lead was also a bit similar to lex luthor early on the second half is not as good but it is still head and shoulders above the average korean action thriller flick i always felt that hallyu cannot compare to american thriller shows like the americans or person of interest the action thriller part of healer doesn t quite match up to them either but it s certainly interesting enough thanks to some kdrama tropes the pretty romance this can be considered a different genre though something the american shows cannot really match either it s certainly lightyears ahead of descendants of the sun to the point that all the action thriller scenes in dots can be considered a joke in comparison it s nice that there was no triangle or other relationship shapes that was a pleasant surprise the main actors were all very good there is some surprisingly good acting from park min young this is probably her peak as an actress i loved her in secretary kim but she is much much better here this is the first time i ve seen ji chang wook on screen but he seems like a very good actor too he did very well with his fake personality and everything obviously there was sizzling chemistry no surprise there to mention some negatives i really did not like the tense music track that was playing all the time it s a pretty bad earworm too also there were some cartoon ish villains that we could ve done without there were some moments that felt pretty fake too also the last episode felt pretty rushed rating it is a bit difficult because despite it s shortcomings it s one of the best in its class but still it s much worse than goblin and i personally found writer park hye ryun s 3 latest dramas slightly more enjoyable those are a similar in genre as well pinocchio etc it should be rated much higher than dots hence the 9 5 rating'"
      ]
     },
     "execution_count": 53,
     "metadata": {},
     "output_type": "execute_result"
    }
   ],
   "source": [
    "df['reviews_processed'][1693] # example of processed review"
   ]
  },
  {
   "cell_type": "markdown",
   "metadata": {},
   "source": [
    "## 5. Remove stopwords\n",
    "\n",
    "Words less than 3 characters and stopwords were removed."
   ]
  },
  {
   "cell_type": "code",
   "execution_count": 49,
   "metadata": {},
   "outputs": [],
   "source": [
    "def remove_short_words(row): # remove short words (length < 3)\n",
    "    clean = ' '.join([w for w in row.split() if len(w)>2])\n",
    "    return clean\n",
    "\n",
    "stop_words = stopwords.words('english')\n",
    "\n",
    "def remove_stopwords(row): # remove stopwords\n",
    "    word = row.split()\n",
    "    clean = \" \".join([i for i in word if i not in stop_words])\n",
    "    return clean\n",
    "\n",
    "df['reviews_processed2x'] = df.apply(lambda row: remove_short_words(row['reviews_processed']), axis=1)\n",
    "df['reviews_processed2x'] = df.apply(lambda row: remove_stopwords(row['reviews_processed2x']), axis=1)"
   ]
  },
  {
   "cell_type": "code",
   "execution_count": 52,
   "metadata": {},
   "outputs": [
    {
     "data": {
      "text/plain": [
       "'great show first half reminded american show lois clark obvious reasons loved show kid healer take theme good enough keep entertained adult second male lead also bit similar lex luthor early second half good still head shoulders average korean action thriller flick always felt hallyu cannot compare american thriller shows like americans person interest action thriller part healer quite match either certainly interesting enough thanks kdrama tropes pretty romance considered different genre though something american shows cannot really match either certainly lightyears ahead descendants sun point action thriller scenes dots considered joke comparison nice triangle relationship shapes pleasant surprise main actors good surprisingly good acting park min young probably peak actress loved secretary kim much much better first time seen chang wook screen seems like good actor well fake personality everything obviously sizzling chemistry surprise mention negatives really like tense music track playing time pretty bad earworm also cartoon ish villains could done without moments felt pretty fake also last episode felt pretty rushed rating bit difficult despite shortcomings one best class still much worse goblin personally found writer park hye ryun latest dramas slightly enjoyable similar genre well pinocchio etc rated much higher dots hence rating'"
      ]
     },
     "execution_count": 52,
     "metadata": {},
     "output_type": "execute_result"
    }
   ],
   "source": [
    "df['reviews_processed2x'][1693] # exmample of processed reviews"
   ]
  },
  {
   "cell_type": "markdown",
   "metadata": {},
   "source": [
    "## 6. Plot top 30 most frequent terms\n",
    "\n",
    "These words are picked from the cleaned text that has no stopwords. Stopwords like 'to' and 'and' do not tell much."
   ]
  },
  {
   "cell_type": "code",
   "execution_count": 54,
   "metadata": {},
   "outputs": [],
   "source": [
    "def frequent_words(x, terms = 30): # function to plot most frequent terms\n",
    "    all_words = ' '.join([text for text in x])\n",
    "    all_words = all_words.split()\n",
    "\n",
    "    fdist = FreqDist(all_words)\n",
    "    words_df = pd.DataFrame({'word':list(fdist.keys()), 'count':list(fdist.values())})\n",
    "\n",
    "    d = words_df.nlargest(columns=\"count\", n = terms) # selecting top n most frequent words\n",
    "    plt.figure(figsize=(20,5))\n",
    "    ax = sns.barplot(data=d, x= \"word\", y = \"count\")\n",
    "    ax.set(ylabel = 'Count')\n",
    "    plt.show()"
   ]
  },
  {
   "cell_type": "code",
   "execution_count": 55,
   "metadata": {},
   "outputs": [
    {
     "data": {
      "image/png": "[encoded data removed]",
      "text/plain": [
       "<Figure size 1440x360 with 1 Axes>"
      ]
     },
     "metadata": {
      "needs_background": "light"
     },
     "output_type": "display_data"
    }
   ],
   "source": [
    "frequent_words(df['reviews_processed2x'])"
   ]
  },
  {
   "cell_type": "markdown",
   "metadata": {},
   "source": [
    "These words are not the most meaningful. Words like 'watching' and 'dramas' are not in their base forms, and we see that 'watch' and 'drama' also appeared in this top 30 most frequent word list. Thus, we use spaCy to reduce words to its base form.\n",
    "\n",
    "We can also note that there are other noise such as 'also' and 'think' which are not meaningful. Thus, we use lemmatization to pick only nouns and adjective."
   ]
  },
  {
   "cell_type": "code",
   "execution_count": 56,
   "metadata": {},
   "outputs": [],
   "source": [
    "nlp = spacy.load('en', disable=['parser', 'ner']) # reduce words to base form\n",
    "\n",
    "def lemmatization(texts, tags=['NOUN', 'ADJ']): # filter noun and adjective\n",
    "    output = []\n",
    "    for sent in texts:\n",
    "        doc = nlp(\" \".join(sent)) \n",
    "        output.append([token.lemma_ for token in doc if token.pos_ in tags])\n",
    "    return output"
   ]
  },
  {
   "cell_type": "code",
   "execution_count": 57,
   "metadata": {},
   "outputs": [
    {
     "name": "stdout",
     "output_type": "stream",
     "text": [
      "['thank', 'writer', 'noh', 'making', 'heart', 'warming', 'story', 'come', 'live', 'enjoy', 'drama', 'much', 'always', 'keeps', 'excited', 'weekends', 'laugh', 'hard', 'cry', 'even', 'harder', 'till', 'head', 'eyes', 'hurt', 'almost', 'every', 'episode', 'much', 'feels', 'watched', 'drama', 'much', 'life', 'lesson', 'learned', 'makes', 'think', 'future', 'life', 'get', 'older', 'later', 'cherish', 'time', 'even', 'every', 'time', 'finished', 'watching', 'episode', 'miss', 'mom', 'feel', 'like', 'calling', 'say', 'drama', 'taken', 'special', 'place', 'heart', 'drama', 'beautifully', 'made', 'feel', 'much', 'heart', 'put', 'hats', 'senior', 'actors', 'everybody', 'great', 'job', 'even', 'find', 'flaws', 'complained', 'much', 'things', 'say', 'put', 'words', 'watching', 'soon', 'waiting', 'writer', 'noh', 'next', 'drama', 'sure']\n"
     ]
    }
   ],
   "source": [
    "tokenized_reviews = df.apply(lambda row: row['reviews_processed2x'].split(), axis=1)\n",
    "print(tokenized_reviews[0])"
   ]
  },
  {
   "cell_type": "code",
   "execution_count": 58,
   "metadata": {},
   "outputs": [
    {
     "name": "stdout",
     "output_type": "stream",
     "text": [
      "['heart', 'warming', 'story', 'live', 'drama', 'excited', 'weekend', 'hard', 'head', 'eye', 'episode', 'much', 'drama', 'much', 'life', 'lesson', 'future', 'life', 'old', 'cherish', 'time', 'time', 'episode', 'mom', 'drama', 'special', 'place', 'heart', 'drama', 'much', 'heart', 'hat', 'senior', 'actor', 'great', 'job', 'flaw', 'much', 'thing', 'word', 'writer', 'next', 'drama', 'sure']\n"
     ]
    }
   ],
   "source": [
    "lemmatized_reviews = lemmatization(tokenized_reviews)\n",
    "print(lemmatized_reviews[0])"
   ]
  },
  {
   "cell_type": "code",
   "execution_count": 59,
   "metadata": {},
   "outputs": [
    {
     "data": {
      "image/png": "[encoded data removed]",
      "text/plain": [
       "<Figure size 1440x360 with 1 Axes>"
      ]
     },
     "metadata": {
      "needs_background": "light"
     },
     "output_type": "display_data"
    }
   ],
   "source": [
    "detokenized_reviews = []\n",
    "for i in range(len(lemmatized_reviews)):\n",
    "    detokenized_reviews.append(' '.join(lemmatized_reviews[i]))\n",
    "\n",
    "df['reviews_lemmatized'] = detokenized_reviews\n",
    "\n",
    "frequent_words(df['reviews_lemmatized'], 35)"
   ]
  },
  {
   "cell_type": "markdown",
   "metadata": {},
   "source": [
    "Here, we see more meaningful words like \"romance\" and \"interesting\" coming up. These words tell more story compared to the removed words like \"also\" and \"think\"."
   ]
  },
  {
   "cell_type": "markdown",
   "metadata": {},
   "source": [
    "## 7. Save processed reviews into new CSV"
   ]
  },
  {
   "cell_type": "code",
   "execution_count": 60,
   "metadata": {},
   "outputs": [],
   "source": [
    "df.to_csv('drama_reviews_processed.csv', index=False)"
   ]
  }
 ],
 "metadata": {
  "kernelspec": {
   "display_name": "Python 3",
   "language": "python",
   "name": "python3"
  },
  "language_info": {
   "codemirror_mode": {
    "name": "ipython",
    "version": 3
   },
   "file_extension": ".py",
   "mimetype": "text/x-python",
   "name": "python",
   "nbconvert_exporter": "python",
   "pygments_lexer": "ipython3",
   "version": "3.7.4"
  }
 },
 "nbformat": 4,
 "nbformat_minor": 2
}
